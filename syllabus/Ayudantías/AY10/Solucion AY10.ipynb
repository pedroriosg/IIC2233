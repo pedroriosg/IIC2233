{
 "cells": [
  {
   "cell_type": "markdown",
   "metadata": {
    "slideshow": {
     "slide_type": "slide"
    }
   },
   "source": [
    "## Ayudantía 09:  I/O y Serialización\n",
    "\n",
    "#### Autores: @Alonsinho1 & @dchahuan\n",
    "\n",
    "\n",
    "Puedes evaluar esta ayudantía [aquí]\n"
   ]
  },
  {
   "cell_type": "markdown",
   "metadata": {
    "slideshow": {
     "slide_type": "fragment"
    }
   },
   "source": [
    "En esta ayudantía tiene como proposito que interioricen los conpectios de I/O y Serialización. Para esto haremos un breve repaso y unos cuantos ejercicios que les permitira visualizar la materia."
   ]
  },
  {
   "cell_type": "markdown",
   "metadata": {
    "slideshow": {
     "slide_type": "slide"
    }
   },
   "source": [
    "### ¿Qué son los bits y los bytes?:\n",
    "\n",
    "Un __byte__ es la estructura basica para guardar datos computacionalmente. Este esta compuesto de 8 __bits__. Cada bit es un numero que puede tener como valor 1 o 0.\n",
    "\n",
    "Tal como medimos la naturaleza mediante unidades de medida (gramos, litros, Newton, etc.), el byte lo utilizamos para medir el tamaño de los archivos de un computador.\n",
    "\n",
    "__Para mayor información de como el computador interpreta esta info, puede tomar el curso IIC2343 Arquitectura de Computadores__"
   ]
  },
  {
   "cell_type": "markdown",
   "metadata": {
    "slideshow": {
     "slide_type": "fragment"
    }
   },
   "source": [
    "### ¿Qué significa serializar?:\n",
    "\n",
    "Serializar es transformar un objeto en una secuencia o serie de bytes. Esto permite tener la información en un estado de forma persistente, lo que sirve para enviar el objeto a otros computadores y programas."
   ]
  },
  {
   "cell_type": "markdown",
   "metadata": {
    "slideshow": {
     "slide_type": "slide"
    }
   },
   "source": [
    "### Formatos de seralización"
   ]
  },
  {
   "cell_type": "markdown",
   "metadata": {
    "slideshow": {
     "slide_type": "fragment"
    }
   },
   "source": [
    "#### JSON\n",
    "\n",
    "Este formato es limitado, pues solamente permite serializar __algunos__ objetos específicos como strings y diccionarios. Sin embargo, es legible por humanos."
   ]
  },
  {
   "cell_type": "markdown",
   "metadata": {
    "slideshow": {
     "slide_type": "fragment"
    }
   },
   "source": [
    "#### Pickle\n",
    "\n",
    "Pickle es un formato específico de Python para serializar. Una de las ventajas es que este puede serializar __cualquier__ objeto de python, sin embargo no puede ser leído por otros lenguajes de programación o por humanos.\n",
    "\n",
    "Como este no puede ser leido por humanos, es posible incluír código malicioso en un programa que utiliza pickle, por lo que __NO__ deberías ejecutar código que incluya pickle si es que no confías en su origen."
   ]
  },
  {
   "cell_type": "markdown",
   "metadata": {
    "slideshow": {
     "slide_type": "slide"
    }
   },
   "source": [
    "### Resumen de JSON Vs Pickle\n",
    "\n",
    "![Resumen](imgs/Capture.png)"
   ]
  },
  {
   "cell_type": "markdown",
   "metadata": {
    "slideshow": {
     "slide_type": "slide"
    }
   },
   "source": [
    "### Bytes en IIC2233\n",
    "\n",
    "En este curso se les pedira que puedan leer, editar y guardar estos tipos de datos, al igual como lo han hecho con los strings, diccionarios, etc..."
   ]
  },
  {
   "cell_type": "markdown",
   "metadata": {
    "slideshow": {
     "slide_type": "fragment"
    }
   },
   "source": [
    "#### Open()\n",
    "\n",
    "La función open() les permitira leer cualquier archivo sin que estos necesariamente sean de texto. Cual es la ventaja de usar open() directamente?"
   ]
  },
  {
   "cell_type": "code",
   "execution_count": 26,
   "metadata": {
    "slideshow": {
     "slide_type": "fragment"
    }
   },
   "outputs": [
    {
     "name": "stdout",
     "output_type": "stream",
     "text": [
      "b'\\x00\\x03\\x00\\x03\\x04\\x05\\x06'\n",
      "<class 'bytes'>\n",
      "<class 'bytearray'>\n",
      "b'\\x00\\x03\\x00\\x03\\x04\\x05\\x06'\n"
     ]
    }
   ],
   "source": [
    "with open('datos.bin', 'rb') as byte_file:\n",
    "    datos = byte_file.read()\n",
    "    print(datos)\n",
    "    print(type(datos))\n",
    "    mis_bytes = bytearray(datos)\n",
    "    print(type(mis_bytes))\n",
    "    \n",
    "with open('datos2.bin', 'wb') as byte_file:\n",
    "    byte_file.write(datos)\n",
    "    \n",
    "with open('datos2.bin', 'rb') as byte_file:\n",
    "    print(byte_file.read())\n",
    "    mis_bytes = bytearray(byte_file.read())"
   ]
  },
  {
   "cell_type": "markdown",
   "metadata": {
    "slideshow": {
     "slide_type": "slide"
    }
   },
   "source": [
    "#### bytes() v/s bytearray()"
   ]
  },
  {
   "cell_type": "markdown",
   "metadata": {
    "slideshow": {
     "slide_type": "fragment"
    }
   },
   "source": [
    "En Python existen dos metodos para definir la estrucutra de byte. Estos son, _bytes()_ y _bytearray()_\n",
    "\n",
    "Estos métodos permitirán contener bytes o transformar otros tipos de datos a un objeto de tipo bytes.\n",
    "\n",
    "La diferencia entre bytes y bytearrays es la misma que entre _tuples_ y _lists_:\n",
    "\n",
    "- _bytes_ y _tuples_ son __inmutables__. Mientras que,\n",
    "\n",
    "- _bytearrays_ y _lists_ son __mutables__."
   ]
  },
  {
   "cell_type": "code",
   "execution_count": 32,
   "metadata": {
    "slideshow": {
     "slide_type": "slide"
    }
   },
   "outputs": [
    {
     "name": "stdout",
     "output_type": "stream",
     "text": [
      "b'\\x01\\x0c\\xff'\n",
      "bytearray(b'\\xff\\x0c\\x01')\n",
      "255\n",
      "12\n",
      "1\n"
     ]
    }
   ],
   "source": [
    "datos = bytes([1, 12, 255]) #transformo una lista de ints (0 <= x <= 255)\n",
    "print(datos)\n",
    "\n",
    "inversos = bytearray()\n",
    "for i in range(len(datos)-1, -1, -1):\n",
    "    inversos.append(datos[i])\n",
    "\n",
    "print(inversos)\n",
    "\n",
    "for i in inversos:\n",
    "    print(i)"
   ]
  },
  {
   "cell_type": "markdown",
   "metadata": {
    "slideshow": {
     "slide_type": "slide"
    }
   },
   "source": [
    "#### Conversión de bytes a números enteros\n"
   ]
  },
  {
   "cell_type": "code",
   "execution_count": 15,
   "metadata": {
    "slideshow": {
     "slide_type": "fragment"
    }
   },
   "outputs": [
    {
     "name": "stdout",
     "output_type": "stream",
     "text": [
      "257\n"
     ]
    }
   ],
   "source": [
    "print(int.from_bytes(b'\\x01\\x01', byteorder='big')) # Utilizaremos el estandar big endian [leer un número de izquierda a derecha]\n"
   ]
  },
  {
   "cell_type": "markdown",
   "metadata": {
    "slideshow": {
     "slide_type": "slide"
    }
   },
   "source": [
    "#### Obtener los bits de un byte"
   ]
  },
  {
   "cell_type": "code",
   "execution_count": 4,
   "metadata": {
    "slideshow": {
     "slide_type": "fragment"
    }
   },
   "outputs": [
    {
     "name": "stdout",
     "output_type": "stream",
     "text": [
      "1. 122\n",
      "2. 0b1111010\n",
      "3. 1111010\n",
      "4. 01111010\n"
     ]
    }
   ],
   "source": [
    "un_byte = b'\\x7a'\n",
    "\n",
    "#pasamos de bytes a int\n",
    "int_byte = int.from_bytes(un_byte, 'big')\n",
    "print('1.', int_byte)\n",
    "\n",
    "#transformamos a un string binario\n",
    "bin_byte = bin(int_byte)\n",
    "print('2.', bin_byte)\n",
    "\n",
    "#eliminamos el 0b del formato bin\n",
    "bin_byte = bin_byte[2:]\n",
    "print('3.', bin_byte)\n",
    "\n",
    "#rellenamos con 0 a la izquierda, para ajustar el tamaño a 8 bits.\n",
    "bits_byte = bin_byte.zfill(8)\n",
    "print('4.', bits_byte)"
   ]
  },
  {
   "cell_type": "markdown",
   "metadata": {
    "slideshow": {
     "slide_type": "slide"
    }
   },
   "source": [
    "### Ejercicios Propuestos:"
   ]
  },
  {
   "cell_type": "markdown",
   "metadata": {
    "slideshow": {
     "slide_type": "fragment"
    }
   },
   "source": [
    "¡Han contaminado el recetario de las pizzas del Tini Tamburini! Es por esta razón que han venido a pedirte ayuda mediante este ejercicio propuesto.\n",
    "\n",
    "Deberás deserializar el archivo **pizzeria.json** que contiene una lista de objetos de clase `Pizza`. Estos objetos tienen el atributo `ingredientes`, el cual ha sido contaminado con elementos que no son comestibles. Para identificarlos, el Tini le entrega un archivo llamado **comestibles.json**, el cual será de ayuda para filtrar los ingredientes mediante el uso un `object_hook`. Finalmente, imprime todas las pizzas utilizando *f-strings*."
   ]
  },
  {
   "cell_type": "code",
   "execution_count": 2,
   "metadata": {
    "slideshow": {
     "slide_type": "slide"
    }
   },
   "outputs": [
    {
     "output_type": "stream",
     "name": "stdout",
     "text": [
      "Nombre: hawaiana, Ingredientes ['pinia', 'queso', 'jamon']\nNombre: vegetariana, Ingredientes ['queso', 'aceitunas', 'champiniones']\nNombre: machas a la parmesana, Ingredientes ['machas', 'queso']\nNombre: pepperoni, Ingredientes ['pepperoni', 'queso']\nNombre: pollo bbq, Ingredientes ['cebolla', 'queso', 'pollo bbq']\nNombre: jamon palmito, Ingredientes ['jamon', 'palmitos', 'queso']\nNombre: white, Ingredientes ['aceitunas', 'tomate']\nNombre: napolitana, Ingredientes ['queso', 'albahaca', 'tomate']\nNombre: queso, Ingredientes ['queso', 'queso']\n"
     ]
    }
   ],
   "source": [
    "import json\n",
    "\n",
    "class Pizza:\n",
    "    def __init__(self, nombre, ingredientes, *args, **kwargs):\n",
    "        self.nombre = nombre\n",
    "        self.ingredientes = ingredientes\n",
    "    def __repr__(self):\n",
    "        return f\"Nombre: {self.nombre}, Ingredientes {self.ingredientes}\"\n",
    "\n",
    "\n",
    "def comestibles():\n",
    "    with open(\"comestibles.json\",\"rb\") as archivo:\n",
    "        data = json.load(archivo)\n",
    "    return data\n",
    "\n",
    "def filtrar_comestibles(diccionario):\n",
    "    ingredientes_comestibles = comestibles()\n",
    "\n",
    "    diccionario[\"ingredientes\"] = list(filter(lambda x: x in ingredientes_comestibles, diccionario[\"ingredientes\"]))\n",
    "\n",
    "\n",
    "    return Pizza(**diccionario)\n",
    "\n",
    "\n",
    "\n",
    "# Carga las pizzas del archivo pizzeria.json\n",
    "# y finalmente imprime la lista de pizzas usando f-strings\n",
    "with open(\"pizzeria.json\",\"rb\") as archivo:\n",
    "    data = json.load(archivo, object_hook=filtrar_comestibles)\n",
    "    for pizza in data:\n",
    "        print(pizza)\n",
    "\n"
   ]
  },
  {
   "cell_type": "markdown",
   "metadata": {
    "slideshow": {
     "slide_type": "slide"
    }
   },
   "source": [
    "## Ejercicio 2: `bytearrays` y *context managers*"
   ]
  },
  {
   "cell_type": "markdown",
   "metadata": {
    "slideshow": {
     "slide_type": "fragment"
    }
   },
   "source": [
    "\n",
    "El archivo **simpatico.bmp** ha sido corrompido con *bytes* no correspondientes. Para limpiarlo, deberás implementar el siguiente algoritmo:\n",
    "\n",
    "1. Abrir el archivo **malvado.mal** en modo lectura de *bytes*.\n",
    "2. Obtener *chunks* de 8 bytes.\n",
    "3. Encontrar el máximo de esos 8 *bytes*.\n",
    "4. Eliminar todos los *bytes* con ese valor dentro del *chunk*.\n",
    "5. Repetir el proceso con el resto de los *bytes*.\n",
    "6. Escribir el archivo **simpatico.bmp** con los bytes obtenidos.\n",
    "\n",
    "**Sobre los pasos 2 a 4**: \n",
    "\n",
    "- Considerando un *chunk* de 8 *bytes*, con los siguientes valores (paso 2): `4 8 255 15 16 23 255 42`\n",
    "- Se obtiene el máximo de ese *chunk* de bytes (paso 3): `255`.\n",
    "- Se eliminan todos los *bytes* con ese valor, resultando: `4 8 15 16 23 42`"
   ]
  },
  {
   "cell_type": "code",
   "execution_count": 4,
   "metadata": {},
   "outputs": [
    {
     "output_type": "stream",
     "name": "stdout",
     "text": [
      "0\n"
     ]
    }
   ],
   "source": [
    "# Se abre el archivo\n",
    "with open('malvado.mal', 'rb') as bytefile:\n",
    "    byte_read = bytefile.read()\n",
    "    byte_out = bytearray()\n",
    "    # Se recorre su contenido en chunks de 8 bytes\n",
    "    for i in range(0, len(byte_read), 8):\n",
    "        # Se obtiene un chunk de 8 bytes\n",
    "        chunk = bytearray(byte_read[i:i+8])\n",
    "        # Se obtiene el valor más alto\n",
    "        maximum = max(chunk)\n",
    "        # Se eliminan todos los bytes con ese valor\n",
    "        while maximum in chunk:\n",
    "            chunk.remove(maximum)\n",
    "        byte_out += chunk\n",
    "\n",
    "# Se escribe el nuevo archivo\n",
    "with open('simpatico.bmp', 'wb') as file_out:\n",
    "    file_out.write(byte_out)"
   ]
  },
  {
   "cell_type": "markdown",
   "metadata": {},
   "source": [
    "### Ejercicio AS04 2020-1\n",
    "\n",
    "En el enunciado de la actividad salia lo siguiente:\n",
    "\n",
    "La información del ayudante jefe coordinador se encuentra corrompida en un archivo cuyos bytes fueron\n",
    "manipulados. Tendrás que reparar dicho archivo para recuperar los datos del ayudante, completando la\n",
    "función reparar_usuario que se encuentra dentro del archivo reparar_bytes.py.\n",
    "\n",
    "def reparar_usuario(ruta): \n",
    "Esta función recibe la ruta del archivo a reparar, lee el archivo\n",
    "como bytes y mediante un algoritmo los modifica para escribir los bytes originales en el archivo user_info.bmp. El algoritmo recorre segmentos de 32 bytes contiguos y para cada uno sabes que:\n",
    "\n",
    "1. El primer byte corresponde a un entero que puede ser 1 o 0, los siguientes 16 bytes pertenecen\n",
    "al archivo original y los últimos 15 NO pertenecen al archivo original.\n",
    "\n",
    "2. Si el primer byte es un 1, significa que los siguientes 16 bytes han sido invertidos, mientras que\n",
    "si es un 0, entonces están en el orden original. Por invertido, se refiere a que si la secuencia es\n",
    "1 2 3 4, entonces la original es 4 3 2 1.\n",
    "\n",
    "3. Es necesario extraer los bytes originales al archivo en el orden que corresponda. Luego se avanza\n",
    "al siguiente segmento de 32 bytes.\n",
    "\n",
    "Si se concatenan las porciones de bytes extraı́das, respetando el orden de los segmentos de 32 bytes, se\n",
    "obtiene el contenido completo que se escribe en el archivo de imagen user_info.bmp. Al abrir la imagen,\n",
    "si se aplicó el algoritmo correctamente, se revelarán los datos del ayudante jefe."
   ]
  },
  {
   "cell_type": "code",
   "execution_count": 5,
   "metadata": {},
   "outputs": [
    {
     "name": "stdout",
     "output_type": "stream",
     "text": [
      "Contraseña reparada\n"
     ]
    }
   ],
   "source": [
    "def reparar_imagen(ruta):\n",
    "    with open(ruta,\"rb\") as archivo_bytes:\n",
    "        archivo_final = bytearray()\n",
    "        data = archivo_bytes.read(32)\n",
    "        while data:\n",
    "\n",
    "            data = data[:17]\n",
    "            \n",
    "            byte_inicial = data[0]\n",
    "            data = data[1:]\n",
    "            \n",
    "            if byte_inicial == 1:\n",
    "                data = data[::-1]\n",
    "            \n",
    "            archivo_final.extend(data)\n",
    "            data = archivo_bytes.read(32)\n",
    "    \n",
    "\n",
    "    with open(\"img_reparada.bmp\",\"wb\") as archivo_nuevo:\n",
    "        archivo_nuevo.write(archivo_final)\n",
    "\n",
    "\n",
    "\n",
    "if __name__ == '__main__':\n",
    "    try:\n",
    "        reparar_imagen('imagen_danada.xyz')\n",
    "        print(\"Contraseña reparada\")\n",
    "    except Exception as error:\n",
    "        print(f'Error: {error}')\n",
    "        print(\"No has podido obtener la información del Ayudante!\")  "
   ]
  },
  {
   "cell_type": "code",
   "execution_count": null,
   "metadata": {},
   "outputs": [],
   "source": []
  }
 ],
 "metadata": {
  "celltoolbar": "Slideshow",
  "kernelspec": {
   "display_name": "Python 3",
   "language": "python",
   "name": "python3"
  },
  "language_info": {
   "codemirror_mode": {
    "name": "ipython",
    "version": 3
   },
   "file_extension": ".py",
   "mimetype": "text/x-python",
   "name": "python",
   "nbconvert_exporter": "python",
   "pygments_lexer": "ipython3",
   "version": "3.8.5-final"
  }
 },
 "nbformat": 4,
 "nbformat_minor": 4
}