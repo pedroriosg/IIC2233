{
 "cells": [
  {
   "cell_type": "markdown",
   "metadata": {
    "colab_type": "text",
    "id": "Jj33FhugPske",
    "slideshow": {
     "slide_type": "slide"
    }
   },
   "source": [
    "# Ayudantía 05: Repaso\n",
    "\n",
    "## Autores: [@jirarrazaval](https://github.com/jirarrazaval) & [@Baelfire18](https://github.com/Baelfire18) & [@igbasly](https://github.com/igbasly)"
   ]
  },
  {
   "cell_type": "markdown",
   "metadata": {
    "colab_type": "text",
    "id": "fS1tnP7SPskg",
    "slideshow": {
     "slide_type": "slide"
    }
   },
   "source": [
    "## Contenidos:\n",
    "\n",
    "1. Excepciones\n",
    "2. EDD\n",
    "3. OOP I y II"
   ]
  },
  {
   "cell_type": "markdown",
   "metadata": {
    "colab_type": "text",
    "id": "fS1tnP7SPskg",
    "slideshow": {
     "slide_type": "slide"
    }
   },
   "source": [
    "## Excepciones\n",
    "\n",
    "Las **excepciones** son condiciones anómalas o inesperadas que ocurren durante un proceso de cómputo. \n",
    "Es **MUY** útil conocer los tipos de excepciones que hay y cómo se pueden manejar.\n",
    "\n",
    "### ¿Cuándo se generan?\n",
    "Los sistemas computacionales suelen generar eventos llamados excepciones cuando ocurre una condición que **altera el flujo normal o esperado de un programa**, o alguna acción **no pudo ser ejecutada tal como se esperaba**.\n",
    "\n"
   ]
  },
  {
   "cell_type": "markdown",
   "metadata": {
    "colab_type": "text",
    "id": "rJ8s3fOwSnPV",
    "slideshow": {
     "slide_type": "subslide"
    }
   },
   "source": [
    "## Excepciones más comunes:\n",
    "\n",
    "\n",
    "### **`SyntaxError`**\n",
    "Ocurre cuando una sentencia del código esta **mal escrita**."
   ]
  },
  {
   "cell_type": "code",
   "execution_count": null,
   "metadata": {
    "slideshow": {
     "slide_type": "fragment"
    }
   },
   "outputs": [],
   "source": [
    "mi_variable = \"Soy una variable :D\"\n",
    "print(mi_variable"
   ]
  },
  {
   "cell_type": "markdown",
   "metadata": {
    "colab_type": "text",
    "id": "avq3PEyQPgIq",
    "slideshow": {
     "slide_type": "subslide"
    }
   },
   "source": [
    "### `ZeroDivisionError`\n",
    "Esta excepción se genera cuando se intenta realizar una división, en donde el **denomidador es cero**."
   ]
  },
  {
   "cell_type": "code",
   "execution_count": null,
   "metadata": {
    "slideshow": {
     "slide_type": "fragment"
    }
   },
   "outputs": [],
   "source": [
    "def dividir(x, y):\n",
    "    return x/y\n",
    "\n",
    "dividir(4, 0)"
   ]
  },
  {
   "cell_type": "markdown",
   "metadata": {
    "colab_type": "text",
    "id": "AnYKtPeWQhDE",
    "slideshow": {
     "slide_type": "subslide"
    }
   },
   "source": [
    "### `IndexError`\n",
    "Se lanza cuando existe una indexación **fuera del rango válido**.\n"
   ]
  },
  {
   "cell_type": "code",
   "execution_count": null,
   "metadata": {
    "slideshow": {
     "slide_type": "fragment"
    }
   },
   "outputs": [],
   "source": [
    "mi_lista = [5, 4, 1, \"xd\"]\n",
    "print(mi_lista[4])"
   ]
  },
  {
   "cell_type": "markdown",
   "metadata": {
    "colab_type": "text",
    "id": "-gAviN_paya3",
    "slideshow": {
     "slide_type": "subslide"
    }
   },
   "source": [
    "### **`TypeError`**\n",
    "Ocurre cuando se intenta ejecutar una operación o función con un argumento que **no pertenece al tipo** correcto para la ejecución."
   ]
  },
  {
   "cell_type": "code",
   "execution_count": null,
   "metadata": {
    "slideshow": {
     "slide_type": "fragment"
    }
   },
   "outputs": [],
   "source": [
    "def suma(x, y):\n",
    "    return x + y \n",
    " \n",
    "suma(1, \"ewe\")"
   ]
  },
  {
   "cell_type": "markdown",
   "metadata": {
    "colab_type": "text",
    "id": "0UYGDj1jRN3K",
    "slideshow": {
     "slide_type": "subslide"
    }
   },
   "source": [
    "### `AttributeError`\n",
    "Ocurre cuando se intenta acceder a un **método o atributo inválido** de una clase."
   ]
  },
  {
   "cell_type": "code",
   "execution_count": null,
   "metadata": {
    "slideshow": {
     "slide_type": "fragment"
    }
   },
   "outputs": [],
   "source": [
    "class Arbol:\n",
    "    def __init__(self):\n",
    "        self.altura = 3\n",
    "    def crecer(self):\n",
    "        self.altura += 1\n",
    "arbolito = Arbol()\n",
    "print(arbolito.hablar())"
   ]
  },
  {
   "cell_type": "markdown",
   "metadata": {
    "colab_type": "text",
    "id": "KzYjwQFudR27",
    "slideshow": {
     "slide_type": "subslide"
    }
   },
   "source": [
    "### **`KeyError`**\n",
    "Ocurre cuando se hace uso **incorrecto o inválido de llaves** en diccionarios"
   ]
  },
  {
   "cell_type": "code",
   "execution_count": null,
   "metadata": {
    "slideshow": {
     "slide_type": "fragment"
    }
   },
   "outputs": [],
   "source": [
    "auto = {\"patente\": \"BBBB60\", \"marca\": \"Suzuki\"}\n",
    "print(auto[\"precio\"])"
   ]
  },
  {
   "cell_type": "markdown",
   "metadata": {
    "colab_type": "text",
    "id": "iBVJT6NhfORn",
    "slideshow": {
     "slide_type": "slide"
    }
   },
   "source": [
    "## Levantar Excepciones\n",
    "Podemos generar una excepción en el momento que queramos creando una nueva instancia de la excepción, y utilizando la sentencia `raise`.\n",
    "\n",
    "- Usualmente utilizamos *condiciones* que nos permiten saber donde levantar la excepción.\n",
    "- Se pueden usar dentro de funciones, clases, manejo de archivos.\n"
   ]
  },
  {
   "cell_type": "code",
   "execution_count": null,
   "metadata": {
    "slideshow": {
     "slide_type": "subslide"
    }
   },
   "outputs": [],
   "source": [
    "def sumar(x, y):\n",
    "    if not isinstance(x, int) or not isinstance(y, int): #Si x o y no son enteros\n",
    "        raise TypeError(\"Los dos argumentos deben ser enteros, cuidado!\") #Levantamos la excepción\n",
    "\n",
    "    return x + y \n",
    "\n",
    "sumar(1, \"ewe\")"
   ]
  },
  {
   "cell_type": "markdown",
   "metadata": {
    "colab_type": "text",
    "id": "aExMTpwWoDRj",
    "slideshow": {
     "slide_type": "slide"
    }
   },
   "source": [
    "## Manejar Excepciones - Try/Except\n",
    "Cada vez que se levanta una excepción, es posible **atraparla** mediante el uso de las sentencias try y except.\n",
    "\n",
    "Dentro del **try** se define un bloque de código, si una excepción se levanta dentro de él esta es atrapada en el **except**.\n",
    "\n",
    "En el momento que se captura una excepción dentro de try el flujo del programa **salta** inmediatamente al bloque de una de las sentencias except."
   ]
  },
  {
   "cell_type": "code",
   "execution_count": null,
   "metadata": {
    "slideshow": {
     "slide_type": "subslide"
    }
   },
   "outputs": [],
   "source": [
    "def sumar(x, y):\n",
    "    if not isinstance(x, int) or not isinstance(y, int): #Si x o y no son enteros\n",
    "        raise TypeError(\"Los dos argumentos deben ser enteros, cuidado!\") #Levantamos la excepción\n",
    "\n",
    "    return x + y \n",
    "\n",
    "try:\n",
    "    sumar(1, \"ewe\")\n",
    "except TypeError as err:\n",
    "    print(f\"Error: {err}\")\n",
    "    print(\"Debes fijarte más para la próxima\")\n"
   ]
  },
  {
   "cell_type": "markdown",
   "metadata": {
    "colab_type": "text",
    "id": "w8MYYm3Qs7ck",
    "slideshow": {
     "slide_type": "subslide"
    }
   },
   "source": [
    "Se pueden colocar múltiples sentencias **except**, también se puede complementar con las sentencias **else** y **finally**\n",
    "- ```else```: se ejecuta siempre y cuando no se haya lanzado **ninguna** excepción.\n",
    "- ```finally```: se ejecuta **siempre**, independiente de si se lanzó o no una excepción.\n",
    "\n",
    " "
   ]
  },
  {
   "cell_type": "code",
   "execution_count": null,
   "metadata": {
    "slideshow": {
     "slide_type": "slide"
    }
   },
   "outputs": [],
   "source": [
    "for i in range(3):\n",
    "    try:\n",
    "        print(sumar(2, int(input(\"Ingresa un número: \"))))\n",
    "    except ValueError as err:\n",
    "        print(f\"Error: {err}\")\n",
    "        print(\"Debes fijarte más para la próxima\")\n",
    "    else:\n",
    "        print(\"Todo salió bien :D\")\n",
    "    finally:\n",
    "        print(f\"Te lo pediré {2-i} veces más\")"
   ]
  },
  {
   "cell_type": "markdown",
   "metadata": {
    "slideshow": {
     "slide_type": "slide"
    }
   },
   "source": [
    "## EDD: Estructuras De Datos\n",
    "### Tuplas\n",
    "Las tuplas son estructuras de datos inmutables. Esto significa que no es posible agregar o eliminar elementos, o bien cambiar el contenido de la tupla una vez que ésta fue creada."
   ]
  },
  {
   "cell_type": "code",
   "execution_count": null,
   "metadata": {
    "slideshow": {
     "slide_type": "subslide"
    }
   },
   "outputs": [],
   "source": [
    "def invertir_tupla(x, y):\n",
    "    return (y, x) # retornamos una tupla de valores alrevés\n",
    "\n",
    "# Asignamos a y b en una tupla para ahorrarnos lineas\n",
    "a, b = 44, 8\n",
    "print(a, b) \n",
    "\n",
    "# Comprobamos que la funcion nos da una tupla\n",
    "una_tupla = invertir_tupla(a, b)\n",
    "print(type(una_tupla))   \n",
    "\n",
    " # Tomamos los terminos por separado de la tupla\n",
    "b1, a1 = una_tupla\n",
    "\n",
    "print(f\"Al pasar los números {a} y {b} por la función invertir, se obtine ({b1}, {a1})\")"
   ]
  },
  {
   "cell_type": "code",
   "execution_count": null,
   "metadata": {
    "slideshow": {
     "slide_type": "fragment"
    }
   },
   "outputs": [],
   "source": [
    "# De la misma forma se puede llamar a los input en forma de tupla\n",
    "a, b = int(input()), int(input())\n",
    "\n",
    "# Vemos como retorna una tupla\n",
    "print(invertir_tupla(a, b))\n",
    "\n",
    "#Otra forma de crear una tupla es así\n",
    "tupla_xd = tuple([4, 6.0, \"tambien se pueden mezclar con cosas de otro tipo\"])\n",
    "print(tupla_xd)"
   ]
  },
  {
   "cell_type": "markdown",
   "metadata": {
    "slideshow": {
     "slide_type": "slide"
    }
   },
   "source": [
    "## Listas\n",
    "Las **listas** (`list`) se utilizan para manejar datos de forma ordenada y mutable. Los contenidos pueden ser accedidos utilizando el índice correspondiente al orden en que se encuentran en la lista. A diferencia de las tuplas, el orden de los elementos de una lista, y los elementos mismos pueden cambiar mediante métodos que manipulan la lista."
   ]
  },
  {
   "cell_type": "code",
   "execution_count": null,
   "metadata": {
    "slideshow": {
     "slide_type": "subslide"
    }
   },
   "outputs": [],
   "source": [
    "lista = list() # Tambien se puede lista = []\n",
    "lista.append((\"José Antonio\", \"Tony\")) # A la lista le podemos meter tuplas\n",
    "lista.append((\"Javiera\", \"Javi\")) # Con cada append estamos agregando UN elemento nuevo, que es una tupla con 2 strings\n",
    "lista.append((\"Ian\", \"Anonymus\"))\n",
    "print(lista)\n",
    "print()\n",
    "\n",
    "for nombre, apodo in lista: # Acá iteramos sobre lista y obtenemos \"2 cosas\"\n",
    "    print(f\"Hola soy el(la) ayudante {nombre} pero me dicen... {apodo}\")"
   ]
  },
  {
   "cell_type": "markdown",
   "metadata": {
    "slideshow": {
     "slide_type": "subslide"
    }
   },
   "source": [
    "Otra cosa que veremos son los **\\*args**, los cuales sirven para descomprimir tuplas y listas"
   ]
  },
  {
   "cell_type": "code",
   "execution_count": null,
   "metadata": {
    "slideshow": {
     "slide_type": "fragment"
    }
   },
   "outputs": [],
   "source": [
    "def obtener_menor_numeo(a, b, c):\n",
    "    return min(a, b, c)\n",
    "\n",
    "lista_ej = [1, 2.0, -1.4]\n",
    "tupla_ej = (4.3, 5.2, 10) # Las tuplas pueden estar con o sin ()\n",
    "\n",
    "f1 = obtener_menor_numeo(*lista_ej) # Al usar el * hacemos que se descomprima la lista y cada valor pase a ser a, b, c respectivamente\n",
    "print(f1)\n",
    "f2 = obtener_menor_numeo(*tupla_ej) # Lo mismo con la tupla\n",
    "print(f2)"
   ]
  },
  {
   "cell_type": "markdown",
   "metadata": {
    "slideshow": {
     "slide_type": "subslide"
    }
   },
   "source": [
    "### Lista por comprensión"
   ]
  },
  {
   "cell_type": "code",
   "execution_count": null,
   "metadata": {
    "slideshow": {
     "slide_type": "fragment"
    }
   },
   "outputs": [],
   "source": [
    "# La forma tradicional de crear una lista es así\n",
    "lista_ladilla = list()\n",
    "for i in range(0, 20):\n",
    "    if i%2 == 0:\n",
    "        lista_ladilla.append(i)\n",
    "         \n",
    "print(lista_ladilla)\n",
    "# Como nos damos cuenta esta forma es ineficiente y \"ladilla\" y usa hasta 4 lineas       "
   ]
  },
  {
   "cell_type": "code",
   "execution_count": null,
   "metadata": {
    "slideshow": {
     "slide_type": "subslide"
    }
   },
   "outputs": [],
   "source": [
    "# Ahh pero existe esta forma por comprensión\n",
    "lista_puleta = [i for i in range(0, 20) if i%2 == 0]\n",
    "\n",
    "print(lista_puleta)\n",
    "\n",
    "print(lista_ladilla == lista_puleta)\n",
    "# Es lo mismo sólo que más corto (más puleto)\n"
   ]
  },
  {
   "cell_type": "markdown",
   "metadata": {
    "slideshow": {
     "slide_type": "subslide"
    }
   },
   "source": [
    "## Sets\n",
    "Tienen un comportamiento similar a los conjuntos matemáticos."
   ]
  },
  {
   "cell_type": "code",
   "execution_count": null,
   "metadata": {
    "slideshow": {
     "slide_type": "fragment"
    }
   },
   "outputs": [],
   "source": [
    "apps = {\"Instagram\", \"WhattsApp\", \"Twitter\", \"Uber\"} # No tiene orden fijo apps[0] tirará error por ello\n",
    "apps.add(\"Tinder\") \n",
    "apps.add(\"Instagram\")\n",
    "print(apps)\n",
    "if \"Uber\" in apps:\n",
    "    apps.add(\"UberEats\") \n",
    "print(apps) # Se desordena siempre y borra los reprtidos\n",
    "\n",
    "apps.discard(\"Twitter\")\n",
    "print(apps)"
   ]
  },
  {
   "cell_type": "code",
   "execution_count": null,
   "metadata": {
    "slideshow": {
     "slide_type": "subslide"
    }
   },
   "outputs": [],
   "source": [
    "set_a = {0, 1, 2, 3}\n",
    "set_b = {5, 4, 3, 2}\n",
    "\n",
    "set_union = set_a | set_b\n",
    "print(set_union)\n",
    "\n",
    "set_intersection = set_a & set_b\n",
    "print(set_intersection)\n",
    "\n",
    "set_difference_a_b = set_a - set_b\n",
    "set_difference_b_a = set_b - set_a\n",
    "print(set_difference_a_b)\n",
    "print(set_difference_b_a)"
   ]
  },
  {
   "cell_type": "markdown",
   "metadata": {
    "slideshow": {
     "slide_type": "subslide"
    }
   },
   "source": [
    "## Diccionarios"
   ]
  },
  {
   "cell_type": "code",
   "execution_count": null,
   "metadata": {
    "slideshow": {
     "slide_type": "subslide"
    }
   },
   "outputs": [],
   "source": [
    "equipos = {\"UC\":\n",
    "               {\"nombre\": \"Universidad Católica\", \n",
    "                \"DT\": \"Ariel Holan\"},\n",
    "           \"CC\": \n",
    "               {\"nombre\": \"Colo Colo\", \n",
    "                \"DT\": \"Marcelo Espina\"},\n",
    "           \"UCH\": \n",
    "               {\"nombre\": \"Universidad de Chile\", \n",
    "                \"DT\": \"Hernán Caputto\"}\n",
    "          }\n",
    "\n",
    "print(equipos[\"UC\"])\n",
    "print(equipos[\"CC\"])\n",
    "print(equipos[\"UCH\"])\n",
    "print()\n",
    "\n",
    "for sigla in equipos.keys(): # Acá iteramos por acada una de las keys del diccionario equipos\n",
    "    print(\"Revisando\", sigla)\n",
    "    if equipos[sigla][\"DT\"] == \"Marcelo Espina\":\n",
    "        print(f\"{equipos[sigla]['nombre']} tiene un gran director tecnico\")"
   ]
  },
  {
   "cell_type": "markdown",
   "metadata": {
    "slideshow": {
     "slide_type": "subslide"
    }
   },
   "source": [
    "### Diccionarios por comprensión"
   ]
  },
  {
   "cell_type": "code",
   "execution_count": null,
   "metadata": {
    "slideshow": {
     "slide_type": "subslide"
    }
   },
   "outputs": [],
   "source": [
    "from string import ascii_lowercase as letras\n",
    "\n",
    "print(f\"letras es un string que se ve así: {letras}\")\n",
    "print()\n",
    "\n",
    "numero_por_letra = {letras[i].upper(): i + 1 for i in range(len(letras))}\n",
    "print(numero_por_letra)"
   ]
  },
  {
   "cell_type": "code",
   "execution_count": null,
   "metadata": {
    "slideshow": {
     "slide_type": "subslide"
    }
   },
   "outputs": [],
   "source": [
    "# Crear diccionarios de un archivo (como la tarea)\n",
    "\n",
    "with open(\"equipos.csv\", 'r', encoding='utf-8') as file:\n",
    "    filas = [fila.strip().split(\",\") for fila in file.readlines()]\n",
    "headline = filas.pop(0)\n",
    "dic = dict()\n",
    "\n",
    "for fila in filas:\n",
    "    dic[fila[0]] = {headline[1]: fila[1], headline[2]: fila[2]}\n",
    "print(dic)"
   ]
  },
  {
   "cell_type": "markdown",
   "metadata": {},
   "source": [
    "Si comprobamos el diccionario creado anteriormente `equipos` con el diccionario que se creó desde el archivo, se puede ver que son idénticos."
   ]
  },
  {
   "cell_type": "code",
   "execution_count": null,
   "metadata": {
    "slideshow": {
     "slide_type": "fragment"
    }
   },
   "outputs": [],
   "source": [
    "print(dic == equipos)"
   ]
  },
  {
   "cell_type": "markdown",
   "metadata": {
    "slideshow": {
     "slide_type": "slide"
    }
   },
   "source": [
    "# OOP: Programación Orientada a Objetos"
   ]
  },
  {
   "cell_type": "markdown",
   "metadata": {
    "slideshow": {
     "slide_type": "fragment"
    }
   },
   "source": [
    "## Herencia"
   ]
  },
  {
   "cell_type": "markdown",
   "metadata": {
    "slideshow": {
     "slide_type": "fragment"
    }
   },
   "source": [
    "### ¿Por qué?\n",
    "Cuando nos encontramos con clases que poseen características o comportamientos similares, se pueden definir herencias para simplificar su modelación. De esta forma, definiendo una clase con atributos \"básicos\" se puede definir otra, agregando o cambiando ligeramente los existentes sin tener que definir todo de nuevo."
   ]
  },
  {
   "cell_type": "markdown",
   "metadata": {
    "slideshow": {
     "slide_type": "subslide"
    }
   },
   "source": [
    "### Ejemplo:\n",
    "\n",
    "Se define la clase `IICLista` la cual hereda de la estructura *built-in* de Python Lista (list), pero que tiene un comportamiento particular. Solo puede albergar enteros y lo que indique un atributo `par` (bool), es decir, números pares (True) o impares (False)."
   ]
  },
  {
   "cell_type": "code",
   "execution_count": null,
   "metadata": {
    "slideshow": {
     "slide_type": "fragment"
    }
   },
   "outputs": [],
   "source": [
    "class IICLista(list):\n",
    "    def __init__(self, par, *args, **kwargs):\n",
    "        super().__init__(*args, **kwargs)\n",
    "        self.par = par\n",
    "        \n",
    "list_ = IICLista(True, (1,2,3,4,5,6))\n",
    "print(list_)\n",
    "print(list_.par)\n",
    "\n",
    "list_.append(7)\n",
    "print(list_)"
   ]
  },
  {
   "cell_type": "markdown",
   "metadata": {
    "slideshow": {
     "slide_type": "notes"
    }
   },
   "source": [
    "Hasta ahora, funciona como una lista, por lo que se necesita modificarla para que sea una IICLista."
   ]
  },
  {
   "cell_type": "markdown",
   "metadata": {
    "slideshow": {
     "slide_type": "subslide"
    }
   },
   "source": [
    "### Overriding\n",
    "Para que solo agregue los numéro que respeten el atributo `par`, es necesario cambiar los métodos `append` e `insert`."
   ]
  },
  {
   "cell_type": "code",
   "execution_count": null,
   "metadata": {
    "slideshow": {
     "slide_type": "subslide"
    }
   },
   "outputs": [],
   "source": [
    "class IICLista(list):\n",
    "    def __init__(self, par, *args, **kwargs):\n",
    "        super().__init__(*args, **kwargs)\n",
    "        self.par = par\n",
    "    \n",
    "    def append(self, value):\n",
    "        if (self.par and not value % 2) or (not self.par and value % 2):\n",
    "            super().append(value)\n",
    "        else:\n",
    "            raise ValueError(f\"El número no es {'par' if self.par else 'impar'}\")\n",
    "    \n",
    "    def insert(self, index, value):\n",
    "        if (self.par and not value % 2) or (not self.par and value % 2):\n",
    "            super().insert(index, value)\n",
    "        else:\n",
    "            raise ValueError(f\"El número no es {'par' if self.par else 'impar'}\")\n",
    "            \n",
    "            \n",
    "list_ = IICLista(True, (1,2,3,4,5,6))\n",
    "list_.insert(3, 4)\n",
    "list_.append(2)\n",
    "\n",
    "list_\n"
   ]
  },
  {
   "cell_type": "markdown",
   "metadata": {
    "slideshow": {
     "slide_type": "subslide"
    }
   },
   "source": [
    "### Properties \n",
    "Las properties también son herramientas importantes a considerar en la modelación de clases. Ellas nos permiten modelar una especie de atributo que reacciona a cierto comportamiento al igual que las funciones."
   ]
  },
  {
   "cell_type": "markdown",
   "metadata": {
    "slideshow": {
     "slide_type": "fragment"
    }
   },
   "source": [
    "Crearemos la clase `DCClass` la cual contiene una `@property` `IICLista`, la cual será una lista que nos permita almacenar cursos en el formato (sigla, n_alumnos). La idea es que esta clase solo almacene cursos \"IIC\" e ignore el resto. Y al llamar la propety solo entrege una lista con las siglas de los cursos ordenadas de menor a mayor seguún `n_alumnos`."
   ]
  },
  {
   "cell_type": "code",
   "execution_count": null,
   "metadata": {
    "slideshow": {
     "slide_type": "subslide"
    }
   },
   "outputs": [],
   "source": [
    "class DCClass:\n",
    "    def __init__(self):\n",
    "        self.__lista = []\n",
    "    \n",
    "    @property\n",
    "    def IICLista(self):\n",
    "        return [x[0] for x in sorted(self.__lista, key=lambda e: e[1])]\n",
    "    \n",
    "    @IICLista.setter\n",
    "    def IICLista(self, nueva_lista):\n",
    "        lista_valida = []\n",
    "        for elem in nueva_lista:\n",
    "            if not type(elem) is tuple or len(elem) != 2:\n",
    "                continue\n",
    "            if \"IIC\" in elem[0]:\n",
    "                lista_valida.append(elem)\n",
    "        self.__lista = lista_valida\n",
    "        \n",
    "obj = DCClass() # Instanciamos DCClass\n",
    "obj.IICLista += [(\"ING2030\", 500), (\"IIC2233\", 0), (\"IIC1103\", 100), (\"ICE2006\", 50)] # Agregamos tuplas de cursos\n",
    "print(obj.IICLista) # Llamamos al getter de la property"
   ]
  },
  {
   "cell_type": "markdown",
   "metadata": {
    "slideshow": {
     "slide_type": "slide"
    }
   },
   "source": [
    "## Clases Abstractas"
   ]
  },
  {
   "cell_type": "markdown",
   "metadata": {
    "slideshow": {
     "slide_type": "subslide"
    }
   },
   "source": [
    "### ¿Qué son?\n",
    "\n",
    "Son clases que no pueden ser instanciadas, sino que permiten modelar otras clases en base a ellas. Por lo general, no son *subclasadas*, sino que de ellas \"nacen\" otras clases. Contienen uno o más **métodos abstractos** y sus **subclases** los **deben** implementar."
   ]
  },
  {
   "cell_type": "markdown",
   "metadata": {
    "slideshow": {
     "slide_type": "subslide"
    }
   },
   "source": [
    "### ¿Por qué?\n",
    "\n",
    "Son útiles ya que permiten desarrollar **\"templates\"** para otras clases, esto asegura consistencia entre métodos que se **deban** implementar (**abstract methods**). Además, permite desarrollar métodos normales y que se hereden a sus clases hijas. "
   ]
  },
  {
   "cell_type": "markdown",
   "metadata": {},
   "source": [
    "Es importante mencionar que las clases abstractas nos permiten modelar clases de forma general y así especializar las subclases según se necesite evitando tener que definir clases que comparten gran cantidad del código. Esto nos permite mantener un bajo acomplamiento entre las entidades."
   ]
  },
  {
   "cell_type": "markdown",
   "metadata": {
    "slideshow": {
     "slide_type": "subslide"
    }
   },
   "source": [
    "### ¿Cómo se implementa?\n",
    "\n",
    "Se debe utilizar métodos del módulo **abc**.  En particular **ABC** debe ser padre de nuestra clase abstracta y para definir un método abstracto se debe importar **abstractmethod**. Como en el código que se ve a continuación: "
   ]
  },
  {
   "cell_type": "markdown",
   "metadata": {},
   "source": [
    "### Ejercicio:\n",
    "Crearemos la clase `Animal`, la cual será una clase abstracta y poseerá los métodos definidos `respirar` y `acariciar`, los cuales son comunes para cualquier animal. Pero además tendrá los métodos abstractos por definir `mover` y `sonido` que dependerán de los diferentes animales."
   ]
  },
  {
   "cell_type": "code",
   "execution_count": null,
   "metadata": {
    "slideshow": {
     "slide_type": "subslide"
    }
   },
   "outputs": [],
   "source": [
    "from abc import ABC, abstractmethod\n",
    "\n",
    "class Animal(ABC):\n",
    "    \n",
    "    def __init__(self, familia, organo_respiratorio, piel):\n",
    "        self.familia = familia\n",
    "        self.respiratorio = organo_respiratorio\n",
    "        self.piel = piel\n",
    "   \n",
    "    def respirar(self):\n",
    "        print(f\"Soy un {self.familia} y respiro con mis {self.respiratorio}\")\n",
    "    \n",
    "    def acariciar(self):\n",
    "        print(f\"Graacias por acariciar mi {self.piel}\")\n",
    "\n",
    "    @abstractmethod\n",
    "    def mover(self):\n",
    "        print(\"Soy un animal y me muevo\")\n",
    "        \n",
    "    @abstractmethod\n",
    "    def sonido(self):\n",
    "        print(\"Soy un animal y emito un sonido\")\n",
    "\n",
    "        \n",
    "#Animal(\"familia\", \"\")"
   ]
  },
  {
   "cell_type": "markdown",
   "metadata": {},
   "source": [
    "Ahora, en base a animal crearemos otra clase abstracta `Felinos`, la cual define que este animal tiene pulmones y es de familia \"Felinos\". Ademá necesitará como argumento un tipo de pelaje y mantendrá el método abstracto `sonido`.\n",
    "\n",
    "💡Recordar que para que una clase sea abstracta **necesita heredar de `ABC`**, no basta con tener métodos abstractos o que su clase padrea lo sea."
   ]
  },
  {
   "cell_type": "code",
   "execution_count": null,
   "metadata": {
    "slideshow": {
     "slide_type": "subslide"
    }
   },
   "outputs": [],
   "source": [
    "class Felinos(Animal, ABC):\n",
    "    def __init__(self, especie, pelaje):\n",
    "        super().__init__(\"Felino\", \"pulmones\", pelaje)\n",
    "        self.especie = especie\n",
    "        \n",
    "    def mover(self):\n",
    "        print(f\"Soy un {self.especie} y camino con mis 4 patas\")\n",
    "    \n",
    "    @abstractmethod\n",
    "    def sonido(self):\n",
    "        pass\n",
    "\n",
    "#Felinos(\"gato\", \"pelo\")"
   ]
  },
  {
   "cell_type": "markdown",
   "metadata": {},
   "source": [
    "Ahora se definirá dos clase que heredan de Felinos: Gato y Leon. Aquí cada una tiene su propio método `sonido` y en el caso de Gato, para cada instancia necesitará un atributo pelaje.\n",
    "\n",
    "Recien estas clases se podrán instanciar."
   ]
  },
  {
   "cell_type": "code",
   "execution_count": null,
   "metadata": {
    "slideshow": {
     "slide_type": "subslide"
    }
   },
   "outputs": [],
   "source": [
    "class Gato(Felinos):\n",
    "    def __init__(self, nombre, raza, pelaje):\n",
    "        super().__init__(\"gato\", pelaje)\n",
    "        self.raza = raza\n",
    "        self.nombre = nombre\n",
    "        \n",
    "    def sonido(self):\n",
    "        print(\"Miau!\")\n",
    "\n",
    "class Leon(Felinos):\n",
    "    def __init__(self, raza):\n",
    "        super().__init__(\"leon\", \"pelaje\")\n",
    "        self.raza = raza\n",
    "        \n",
    "    def sonido(self):\n",
    "        print(\"GRRRR!\")\n"
   ]
  },
  {
   "cell_type": "code",
   "execution_count": null,
   "metadata": {
    "scrolled": true,
    "slideshow": {
     "slide_type": "subslide"
    }
   },
   "outputs": [],
   "source": [
    "gato1 = Gato(\"Sebastian\", \"Ragdoll\", \"pelaje\")\n",
    "gato2 = Gato(\"Pelusa\", \"Sphynx\", \"piel\")\n",
    "leon = Leon(\"León asiático\")\n",
    "\n",
    "gato1.sonido()\n",
    "gato2.sonido()\n",
    "leon.sonido()\n",
    "\n",
    "gato1.acariciar()\n",
    "gato2.acariciar()\n",
    "leon.acariciar()\n",
    "\n",
    "gato1.mover()\n",
    "gato2.mover()\n",
    "leon.mover()"
   ]
  },
  {
   "cell_type": "code",
   "execution_count": null,
   "metadata": {},
   "outputs": [],
   "source": []
  }
 ],
 "metadata": {
  "kernelspec": {
   "display_name": "Python 3",
   "language": "python",
   "name": "python3"
  },
  "language_info": {
   "codemirror_mode": {
    "name": "ipython",
    "version": 3
   },
   "file_extension": ".py",
   "mimetype": "text/x-python",
   "name": "python",
   "nbconvert_exporter": "python",
   "pygments_lexer": "ipython3",
   "version": "3.7.4"
  }
 },
 "nbformat": 4,
 "nbformat_minor": 4
}
