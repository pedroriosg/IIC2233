{
 "cells": [
  {
   "cell_type": "markdown",
   "metadata": {
    "id": "_tS6ykJrs072",
    "slideshow": {
     "slide_type": "slide"
    }
   },
   "source": [
    "# **Ayudantía 06: Threading**\n",
    "\n",
    "\n",
    "## Autores: [@jfuentesg26](https://github.com/jfuentesg26), [@gonzaloconcha](https://github.com/gonzaloconcha), [@Christian-Klempau](https://github.com/Christian-Klempau)\n",
    "\n",
    "### Recuerda que puedes evaluar la ayudantía en [este link](https://docs.google.com/forms/d/e/1FAIpQLSesBxOc3Ux5hR-da2I1dJJHW-ym9Ho5VDVjCiM4nCYPMmm7tQ/viewform?usp=sf_link)"
   ]
  },
  {
   "cell_type": "markdown",
   "metadata": {
    "id": "whi3Zqn-t_0x",
    "slideshow": {
     "slide_type": "slide"
    }
   },
   "source": [
    "# **¿ Que son los threads ?** 😍\n",
    "Unidades pequeñas que pueden ser programadas para ser ejecutadas en un sistema operativo. \n",
    "Los \"hilos\" de un mismo proceso comparten memoria y estado de variables esto permite que se ejecuten mas rápido "
   ]
  },
  {
   "cell_type": "markdown",
   "metadata": {
    "id": "Vy98WD8XvzM8",
    "slideshow": {
     "slide_type": "slide"
    }
   },
   "source": [
    "# **¿ Para qué sirven?** 😏\n",
    "### Servidores: Conectar muchos clientes a la vez\n",
    "### Juegos: Para acelerar procesos simultáneos\n",
    "### Calcular diversos elementos de manera \"paralela\""
   ]
  },
  {
   "cell_type": "markdown",
   "metadata": {
    "id": "g7QVablvu2WM",
    "slideshow": {
     "slide_type": "slide"
    }
   },
   "source": [
    "# **¿Cómo crear threads?** ⌚\n"
   ]
  },
  {
   "cell_type": "markdown",
   "metadata": {
    "id": "R58atzpdxM-k",
    "slideshow": {
     "slide_type": "subslide"
    }
   },
   "source": [
    "Debemos importar la librería **threading** para utilizar la clase **Thread**"
   ]
  },
  {
   "cell_type": "code",
   "execution_count": null,
   "metadata": {
    "id": "J2LYmkkLw29q",
    "slideshow": {
     "slide_type": "subslide"
    }
   },
   "outputs": [],
   "source": [
    "import threading\n",
    "\n",
    "def funcion():\n",
    "    print(\"Esto es un thread\")\n",
    "\n",
    "mi_hilo = threading.Thread(target = funcion, name = \"HILO1\")\n",
    "mi_hilo.start()"
   ]
  },
  {
   "cell_type": "markdown",
   "metadata": {
    "id": "9mGBTz0QxdgD",
    "slideshow": {
     "slide_type": "subslide"
    }
   },
   "source": [
    "Primero debemos crear una instancia de esta clase, en este caso la llamaremos *mi_hilo*, se le puede entregar una función a ejecutar con el parámetro target. \n",
    "Luego podemos iniciar el thread con el método *start*.\n",
    "**Importante** tu thread no se ejecutara si no llamas al método *start*😱"
   ]
  },
  {
   "cell_type": "markdown",
   "metadata": {
    "id": "U7tqtJMmzxkQ"
   },
   "source": [
    "Y si tenemos muchos threads, ¿cómo sabemos cual se está ejecutando?"
   ]
  },
  {
   "cell_type": "code",
   "execution_count": null,
   "metadata": {
    "id": "h8ZInF7Yxc-i"
   },
   "outputs": [],
   "source": [
    "thread_actual = threading.current_thread()\n",
    "nombre_thread = thread_actual.name"
   ]
  },
  {
   "cell_type": "markdown",
   "metadata": {
    "id": "hWuPxyvmz9Yb"
   },
   "source": [
    "Podemos utilizar la función current_thread() para saberlo!"
   ]
  },
  {
   "cell_type": "markdown",
   "metadata": {
    "id": "LpSPsH2v0L6E"
   },
   "source": [
    "# **¿Cómo pasar argumentos a un Thread?** 👌\n",
    "### Podemos usar *args* y *kwargs*:"
   ]
  },
  {
   "cell_type": "code",
   "execution_count": null,
   "metadata": {
    "id": "ipRFjBNj0ZAh"
   },
   "outputs": [],
   "source": [
    "def supermercado(nombre, lista_de_compras):\n",
    "    for producto in lista_de_compras:\n",
    "        print(f\"{nombre} está comprando: {producto}\")"
   ]
  },
  {
   "cell_type": "code",
   "execution_count": null,
   "metadata": {
    "id": "pVYQsHq72_V4"
   },
   "outputs": [],
   "source": [
    "import threading\n",
    "\n",
    "lista_productos = [\"Manzana\", \"PolyStation5\", \"Arroz\", \"Fideos\", \"40' T.V\"]\n",
    "\n",
    "# opción con kwargs:\n",
    "thread = threading.Thread(name=\"thread_1\", target=supermercado, kwargs={\"nombre\": \"Chris\", \"lista_de_compras\": lista_productos})\n",
    "\n",
    "# opción con args:\n",
    "\n",
    "thread = threading.Thread(name=\"thread_1\", target=supermercado, args=(\"Chris\", lista_productos,))"
   ]
  },
  {
   "cell_type": "markdown",
   "metadata": {
    "id": "x9rluHmA4-Nn"
   },
   "source": [
    "### kwargs: se comporta como diccionario\n",
    "### args: se comporta como tupla\n",
    "### IMPORTANTE: coma al final de los args:  args=(“nombre”,)\n"
   ]
  },
  {
   "cell_type": "markdown",
   "metadata": {
    "id": "o3RW0A1o5S6_"
   },
   "source": [
    "# **join()** ⌛\n",
    " Un método útil es el join(), éste nos permite esperar a que otro programa finalice su ejecución para continuar con el resto del código. También podemos  usar join(timeout=tiempo), con tiempo como la cantidad de segundos máxima que se esperará al thread, en caso de que tiempo=None, se esperará hasta que el thread termine su ejecución."
   ]
  },
  {
   "cell_type": "markdown",
   "metadata": {
    "id": "Fs-qTWZL03tk"
   },
   "source": [
    "# **Threads Personalizados** 📚\n",
    "Como ya eres un genio de la programación orientada objetos, quieres hacer threads personalizados, **¡qué gran idea!** \n",
    "## ¿Cómo lo hacemos? \n",
    "Primero debemos heredar de la clase Thread, y en el init debemos llamar al super(), tal como lo aprendiste en OOP\n",
    "Luego debemos hacer override al método run, este es ejecutado cuando llamas a *mi_thread.start()*\n"
   ]
  },
  {
   "cell_type": "code",
   "execution_count": null,
   "metadata": {
    "colab": {
     "base_uri": "https://localhost:8080/",
     "height": 34
    },
    "id": "upkYcfF-02Oc",
    "outputId": "bb23bf4b-8071-43b6-dd58-43ce3e8c4302"
   },
   "outputs": [
    {
     "name": "stdout",
     "output_type": "stream",
     "text": [
      "Antonio tiene sueño...\n"
     ]
    }
   ],
   "source": [
    "import threading\n",
    "import time\n",
    "        \n",
    "class CuentaLiebres(threading.Thread): # Hereda de Thread\n",
    "\n",
    "    def __init__(self, nombre, max_liebres):\n",
    "        super().__init__(name=nombre) \n",
    "        self.max_liebres = max_liebres\n",
    "    \n",
    "    def run(self):\n",
    "        print(f\"{self.name} tiene sueño...\")\n",
    "        tiempo_partida = time.time()\n",
    "        for numero in range(1, self.max_liebres + 1):\n",
    "            if numero % 2 == 1:\n",
    "                time.sleep(1)\n",
    "            print(f\"({self.name}: {numero} liebre{'s' if numero > 1 else ''})\")\n",
    "        print(f\"{self.name} a dormir...\")\n",
    "        print(f\"{self.name} se durmió después de {time.time() - tiempo_partida} seg.\")\n",
    "        \n",
    "\n",
    "# Se crean el thread\n",
    "cuenta_liebres = CuentaLiebres(\"Antonio\", 10)\n",
    "\n",
    "# Se inicializa el thread creado\n",
    "cuenta_liebres.start()"
   ]
  },
  {
   "cell_type": "markdown",
   "metadata": {
    "id": "lT_B2HMJ4NzW"
   },
   "source": [
    "# **Daemon Threads** 🙌\n",
    " Anteriormente el programa ha esperado que terminen los threads para poder terminar. Con los *Daemons threads* no necesitamos preocuparnos de si terminaron o no, ya que cuando el programa principal termina, estos terminan automáticamente.\n",
    "Para identificar que los threads son de este tipo debemos poner en el constructor **daemon = True**, una vez inicializado el thread con start no puedes cambiarlo de daemon thread a thread o viceversa.\n",
    "Podemos hacer que el programa espere a un daemon thread con el método **join**, de la misma forma antes explicada. \n",
    "## Veamos un ejemplo con OOP!\n",
    "## **Importante** recuerda que estos códigos tienen problemas corriendo en jupyter notebook así que es mejor que los pruebas desde tu consola\n"
   ]
  },
  {
   "cell_type": "code",
   "execution_count": null,
   "metadata": {
    "colab": {
     "base_uri": "https://localhost:8080/",
     "height": 50
    },
    "id": "RM-mo1fx4eJr",
    "outputId": "87e6835e-30d6-4e48-e935-d8dc6bcc4909"
   },
   "outputs": [
    {
     "name": "stdout",
     "output_type": "stream",
     "text": [
      "Daemon thread: Empezando...\n",
      "Daemon thread: Terminando...\n"
     ]
    }
   ],
   "source": [
    "import threading\n",
    "class Daemon(threading.Thread):\n",
    "    \n",
    "    def __init__(self):\n",
    "        super().__init__()\n",
    "        # Cuando inicializamos el thread lo declaramos como daemon\n",
    "        self.daemon = True\n",
    "    \n",
    "    def run(self):\n",
    "        print(\"Daemon thread: Empezando...\")\n",
    "        time.sleep(2)\n",
    "        print(\"Daemon thread: Terminando...\")\n",
    "\n",
    "daemon = Daemon()\n",
    "daemon.start()\n",
    "daemon.join()"
   ]
  },
  {
   "cell_type": "markdown",
   "metadata": {
    "id": "61n1hHWb6AwE"
   },
   "source": [
    "# **Timers** ⏰\n",
    "Es una subclase de Thread, la cual al ser ejecutado espera un tiempo en segundos indicado y luego realiza las instrucciones determinadas.\n",
    "Poseen un método cancel() para cancelar su ejecución.\n",
    "Se deben entregar como parámetros el tiempo en segundos, la función y los parametros requeridos por esta.\n"
   ]
  },
  {
   "cell_type": "code",
   "execution_count": null,
   "metadata": {
    "id": "DCq5oPXH6r_z"
   },
   "outputs": [],
   "source": [
    "def mi_timer(ruta_archivo):\n",
    "    with open(ruta_archivo) as archivo:\n",
    "        for linea in archivo:\n",
    "            print(linea)\n",
    "\n",
    "t1 = threading.Timer(10.0, mi_timer, args=(\"files/mensaje_01.txt\",))\n",
    "t2 = threading.Timer(5.0, mi_timer, kwargs={\"ruta_archivo\": \"files/mensaje_02.txt\"})\n",
    "\n",
    "t1.start() # el thread t1 comenzará después de 10 seconds\n",
    "t2.start() # el thread t2 comenzará después de 5 seconds"
   ]
  },
  {
   "cell_type": "markdown",
   "metadata": {
    "id": "xukRo5y08P_T"
   },
   "source": [
    "# **Locks** 🔐\n",
    "Esta es una clase de la librería Threading la cual nos permite manejar de una manera ordenada el manejo por parte de múltiples Threads sobre una variable. Con Lock, podemos bloquear y desbloquear ciertas partes de un código para que los demás Threads no puedan hacer uso de esta.\n",
    "- La función **acquire()** permite adquirir el lock por parte de un thread y dejarlo bloqueado para los otros. \n",
    "- Por su parte la función **release()** libera el lock (lo desbloquea) , quedando disponible para que cualquier thread pueda adquirirlo. "
   ]
  },
  {
   "cell_type": "code",
   "execution_count": null,
   "metadata": {
    "colab": {
     "base_uri": "https://localhost:8080/",
     "height": 34
    },
    "id": "ADF1ouSG8hO0",
    "outputId": "f79640d5-4891-4634-f3ed-5cdcf2e7359a"
   },
   "outputs": [
    {
     "name": "stdout",
     "output_type": "stream",
     "text": [
      "Listo, el contador de contagiados es 1386514\n"
     ]
    }
   ],
   "source": [
    "class Contagiados:\n",
    "    def __init__(self):\n",
    "        self.valor = 0\n",
    "  \n",
    "def coronavirus(contagiados):\n",
    "    for i in range(10**6):\n",
    "        contagiados.valor += 1\n",
    "\n",
    "contagiados = Contagiados()\n",
    "t1 = threading.Thread(target=coronavirus, args=(contagiados,))\n",
    "t2 = threading.Thread(target=coronavirus, args=(contagiados,))\n",
    "t1.start()\n",
    "t2.start()\n",
    "t1.join()\n",
    "t2.join()\n",
    "print(f\"Listo, el contador de contagiados es {contagiados.valor}\")\n"
   ]
  },
  {
   "cell_type": "markdown",
   "metadata": {
    "id": "LZVyICLw-bi0"
   },
   "source": [
    "### Un correcto manejo de la clase Contagiados usando locks sería."
   ]
  },
  {
   "cell_type": "code",
   "execution_count": null,
   "metadata": {
    "colab": {
     "base_uri": "https://localhost:8080/",
     "height": 34
    },
    "id": "OSRy2DAm-fb8",
    "outputId": "320d1648-08d6-4f90-9054-25ad345c572b"
   },
   "outputs": [
    {
     "name": "stdout",
     "output_type": "stream",
     "text": [
      "Listo, el contador de contagiados es 2000000\n"
     ]
    }
   ],
   "source": [
    "locks = threading.Lock()\n",
    "\n",
    "class Contagiados:\n",
    "    def __init__(self):\n",
    "        self.valor = 0\n",
    "\n",
    "def coronavirus(contagiados):\n",
    "    for i in range(10**6):\n",
    "        with locks: # Se pude usar with o acquire y release\n",
    "            contagiados.valor += 1\n",
    "\n",
    "contagiados = Contagiados()\n",
    "t1 = threading.Thread(target=coronavirus, args=(contagiados,))\n",
    "t2 = threading.Thread(target=coronavirus, args=(contagiados,))\n",
    "t1.start()\n",
    "t2.start()\n",
    "t1.join()\n",
    "t2.join()\n",
    "print(f\"Listo, el contador de contagiados es {contagiados.valor}\")"
   ]
  },
  {
   "cell_type": "markdown",
   "metadata": {
    "id": "TYgPls0c6btM"
   },
   "source": [
    "# **Events** 🎏"
   ]
  },
  {
   "cell_type": "markdown",
   "metadata": {
    "id": "OluduMrS9V5l"
   },
   "source": [
    "### ¿Cómo lo hacemos si queremos esperar que termine la ejecución de un thread para poder avanzar dentro del nuestro?\n",
    "### --> métodos set() y wait()\n"
   ]
  },
  {
   "cell_type": "markdown",
   "metadata": {
    "id": "84qIICAz9gtU"
   },
   "source": [
    "### Veamos un ejemplo:\n",
    "Tenemos que cargar el video y audio, pero deben reproducirse simultáneamente.\n",
    "Primero creamos los eventos:\n"
   ]
  },
  {
   "cell_type": "code",
   "execution_count": null,
   "metadata": {
    "id": "-wzt7xz39md0"
   },
   "outputs": [],
   "source": [
    "video_cargado = threading.Event()\n",
    "audio_cargado = threading.Event()\n"
   ]
  },
  {
   "cell_type": "code",
   "execution_count": null,
   "metadata": {
    "id": "iyIO2KHV9wbn"
   },
   "outputs": [],
   "source": [
    "def reproducir_video(nombre):\n",
    "    # …\n",
    "    # avisamos que el video ya está cargado\n",
    "    video_cargado.set()\n",
    "    # esperamos a que el audio ya se haya cargado\n",
    "    audio_cargado.wait()\n",
    "\n",
    "\n",
    "\n",
    "def reproducir_audio(nombre):\n",
    "    # …\n",
    "    # avisamos que el audio ya está cargado\n",
    "    audio_cargado.set()\n",
    "    # esperamos a que el video ya se haya cargado\n",
    "    audio_cargado.wait()\n"
   ]
  },
  {
   "cell_type": "markdown",
   "metadata": {
    "id": "qsfqQfgH91az"
   },
   "source": [
    "### **Importante**: wait() y set() van dentro de la función target del Thread\n",
    "### **Importante**: Siempre hacer set() primero antes de wait(), sino ocurre el Deadlock\n"
   ]
  },
  {
   "cell_type": "code",
   "execution_count": null,
   "metadata": {
    "colab": {
     "base_uri": "https://localhost:8080/",
     "height": 127
    },
    "id": "rR1MLf456eIn",
    "outputId": "1a012c90-a67e-4864-9ea6-3a0e99ecb5e1"
   },
   "outputs": [
    {
     "name": "stdout",
     "output_type": "stream",
     "text": [
      "Cargando audio All Stars - Smash Mouth en t=0.000917\n",
      "Cargando video All Stars - Smash Mouth en t=0.001841\n",
      "¡Video cargado! en t=3.005494\n",
      "¡Audio cargado! en t=5.006651\n",
      "Reproduciendo audio en t=5.006888\n",
      "Reproduciendo video en t=5.007398\n"
     ]
    }
   ],
   "source": [
    "import threading\n",
    "import time\n",
    "\n",
    "\n",
    "# Tenemos dos eventos o señales.\n",
    "# Esta es para avisar que el video ya está listo para ser reproducido.\n",
    "video_cargado = threading.Event()\n",
    "# Esta es para avisar que el audio ya está listo para ser reproducido.\n",
    "audio_cargado = threading.Event()\n",
    "\n",
    "\n",
    "tiempo = time.time()\n",
    "def reproducir_video(nombre):\n",
    "    print(f\"Cargando video {nombre} en t={time.time() - tiempo:.6f}\")\n",
    "    # Supongamos que se demora 3 segundos\n",
    "    time.sleep(3)\n",
    "    print(f\"¡Video cargado! en t={time.time() - tiempo:.6f}\")\n",
    "    # Avisamos que el video ya está cargado\n",
    "    video_cargado.set()\n",
    "    # Esperamos a que el audio ya se haya cargado\n",
    "    audio_cargado.wait()\n",
    "    # ¡Listo!\n",
    "    print(f\"Reproduciendo video en t={time.time() - tiempo:.6f}\")\n",
    "    \n",
    "    \n",
    "def reproducir_audio(nombre):\n",
    "    print(f\"Cargando audio {nombre} en t={time.time() - tiempo:.6f}\")\n",
    "    # Supongamos que se demora 5 segundos\n",
    "    time.sleep(5)\n",
    "    print(f\"¡Audio cargado! en t={time.time() - tiempo:.6f}\")\n",
    "    # Avisamos que el audio ya está cargado\n",
    "    audio_cargado.set()\n",
    "    # Esperamos a que el video ya se haya cargado\n",
    "    video_cargado.wait()\n",
    "    # ¡Listo!\n",
    "    print(f\"Reproduciendo audio en t={time.time() - tiempo:.6f}\")\n",
    "    \n",
    "    \n",
    "t1 = threading.Thread(target=reproducir_audio, args=(\"Chayanne - Torero \",))\n",
    "t2 = threading.Thread(target=reproducir_video, args=(\"Chayanne - Torero \",))\n",
    "\n",
    "t1.start()\n",
    "t2.start()\n",
    "\n",
    "t1.join()\n",
    "t2.join()"
   ]
  },
  {
   "cell_type": "markdown",
   "metadata": {
    "id": "jLgMivbEBsBO"
   },
   "source": [
    "# **Ejercicio Propuesto**\n",
    "Leyendo por internet, has encontrado el trabajo perfecto para ti. Te han contratado para simular la recolección de materiales de la DCCueva. Aquí trabajan mineros pero de manera poco óptima, perdiendo DCCriptoMonedas y provocando grandes pérdidas para el DCC.\n",
    "\n",
    "En tu primer día, se te entrega el código base que han estado utilizando para simular la recolección dentro de la DCCueva:"
   ]
  },
  {
   "cell_type": "code",
   "execution_count": null,
   "metadata": {},
   "outputs": [],
   "source": [
    "import time\n",
    "import random\n",
    "\n",
    "class Minero:\n",
    "\n",
    "    def __init__(self, nombre):\n",
    "        self.nombre = nombre\n",
    "        self.velocidad = random.randint(2, 4)\n",
    "        self.cantidad = 0\n",
    "        self.adentro = False\n",
    "\n",
    "    def recolectar_recursos(self):\n",
    "        cantidad = random.randint(5, 15)\n",
    "        tiempo = cantidad/self.velocidad\n",
    "        self.adentro = True\n",
    "        time.sleep(tiempo)\n",
    "        print(f'Trabajador {self.nombre} ha recolectado {cantidad} DCCriptoMonedas')\n",
    "        self.cantidad += cantidad\n",
    "        self.adentro = False\n",
    "\n",
    "    def trabajar(self):\n",
    "        for i in range(3):\n",
    "            print(f'Trabajador {self.nombre} ha entrado a la DCCueva')\n",
    "            self.recolectar_recursos()\n",
    "\n",
    "\n",
    "t1 = Minero('John')\n",
    "t2 = Minero('Alex')\n",
    "t3 = Minero('Peter')\n",
    "\n",
    "t1.trabajar()\n",
    "t2.trabajar()\n",
    "t3.trabajar()\n",
    "\n",
    "total = t1.cantidad + t2.cantidad + t3.cantidad\n",
    "print('------------------------------------------')\n",
    "print(f'Se han recolectado {total} DCCriptoMonedas')"
   ]
  },
  {
   "cell_type": "markdown",
   "metadata": {},
   "source": [
    "Modela el ejercicio anterior de modo que ahora el programa se ejecute de manera concurrente (Threads)."
   ]
  },
  {
   "cell_type": "code",
   "execution_count": null,
   "metadata": {},
   "outputs": [],
   "source": [
    "import time\n",
    "import random\n",
    "from threading import Thread\n",
    "\n",
    "#Implementar modelacion con Thread\n",
    "class Minero():\n",
    "\n",
    "    def __init__(self, nombre):\n",
    "        #Completar clase\n",
    "\n",
    "    def recolectar_recursos(self):\n",
    "        cantidad = random.randint(5, 15)\n",
    "        tiempo = cantidad/self.velocidad\n",
    "        self.adentro = True\n",
    "        time.sleep(tiempo)\n",
    "        print(f'Trabajador {self.nombre} ha recolectado {cantidad} DCCriptoMonedas')\n",
    "        self.cantidad += cantidad\n",
    "        self.adentro = False\n",
    "\n",
    "    def trabajar(self): #Puedes modificarlo si quieres trabajar con herencia ;)\n",
    "        #Completar metodo\n",
    "\n",
    "\n",
    "t1 = Minero('John') #Eres libre de modificar los nombres\n",
    "t2 = Minero('Alex') #Eres libre de modificar los nombres\n",
    "t3 = Minero('Peter') #Eres libre de modificar los nombres :)\n",
    "\n",
    "t1.start()\n",
    "t2.start()\n",
    "t3.start()\n",
    "\n",
    "total = t1.cantidad + t2.cantidad + t3.cantidad\n",
    "print('------------------------------------------')\n",
    "print(f'Se han recolectado {total} DCCriptoMonedas')"
   ]
  },
  {
   "cell_type": "markdown",
   "metadata": {
    "id": "47HC8R50BzXc"
   },
   "source": [
    "# **Actividad**"
   ]
  },
  {
   "cell_type": "markdown",
   "metadata": {
    "id": "TWpQErwoPmmi"
   },
   "source": [
    "- Despues de dos semestres online sufriendo con las constantes caídas de VTR, los ayudantes Chris, Gonza y Jai deciden encargarte a ti, programador experto, simular el procedimiento que debe seguir la empresa para poder arreglar sus antenas de manera eficiente y así ayudar a estos tres ~~desesperados y muy estresados~~ ayudantes a aprobar el semestre.\n",
    "- Para llevar a cabo esta importante misión, te damos la clase VTR, la cual tiene una lista con todos sus trabajadores, e instancia sus antenas con el personal correspondiente."
   ]
  },
  {
   "cell_type": "code",
   "execution_count": null,
   "metadata": {
    "id": "EG-QNKD3Te5h"
   },
   "outputs": [],
   "source": [
    "class VTR:\n",
    "    def __init__(self):\n",
    "        self.lista_nombres = [\"Cruz\", \"Cote\", \"Nini\", \"Joaquín Tagle\", \"Dani Concha\", \"Fran Ibarra\",\\\n",
    "                              \"Bimartinez\", \"Dr. Pinto\", \"Conchalo Gonza\", \"Jai Fuentes\", \"Chris Klempau\"]\n",
    "\n",
    "    def arreglar_antenas(self):\n",
    "        for n_antena in range(1, 5):\n",
    "            antena = Antena(n_antena, *self.nombres_aleatorios())\n",
    "            antena.start()\n",
    "\n",
    "    # Ya implementado\n",
    "    def nombres_aleatorios(self):\n",
    "        nombres = random.sample(self.lista_nombres, 2)\n",
    "        self.lista_nombres.remove(nombres[0])\n",
    "        self.lista_nombres.remove(nombres[1])\n",
    "        return (nombres[0], nombres[1])\n",
    "\n",
    "empresa = VTR()\n",
    "empresa.arreglar_antenas()"
   ]
  },
  {
   "cell_type": "markdown",
   "metadata": {
    "id": "_3Uy5LEnNvmd"
   },
   "source": [
    "-  En primer lugar debes completar la clase trabajador la cual hereda de Thread. Estos trabajadores tienen una especialidad la cual puede ser: **computin** o **electrico**.\n",
    "- Para arreglar una antena, se necesita un trabajador de cada especialidad.\n",
    "- A cada trabajador se le pasaran dos eventos, el evento_electrico que servirá para avisar cuando el trabajador electrico termine su tarea y el evento_computin que servirá para avisar cuando el trabajador computin termine su tarea.\n",
    "- El **electrico** debe trabajar primero, indica mediante un print su especialidad, nombre y la antena para la cual esta trabajando y luego debe trabajar por un tiempo definido por self.tiempo, una vez que termine debe notificarlo mediante el evento.\n",
    "- El **computin** espera que el eléctrico termine de trabajar para realizar el mismo print, trabajar un tiempo definido y finalmente notificar que terminó con su respectivo evento.\n"
   ]
  },
  {
   "cell_type": "code",
   "execution_count": null,
   "metadata": {
    "id": "5nTSIotaOA0X"
   },
   "outputs": [],
   "source": [
    "#Recuerda importar lo que necesites\n",
    "import time\n",
    "\n",
    "#Debe ser un thread personalizado\n",
    "class Trabajador():\n",
    "\n",
    "\n",
    "    def __init__(self, nombre, tiempo, especialidad, evento_electrico, evento_computin, n_antena):\n",
    "        \n",
    "        #Aqui falta algo de herencia\n",
    "        self.nombre = nombre\n",
    "        self.tiempo = tiempo\n",
    "        self.especialidad = especialidad\n",
    "        self.evento_electrico = evento_electrico\n",
    "        self.evento_computin = evento_computin\n",
    "        self.n_antena = n_antena\n",
    "\n",
    "    def run(self):\n",
    "        if self.especialidad == \"electrico\":\n",
    "            print()\n",
    "            time.sleep()\n",
    "            #Recuerda avisar que terminaste tu tarea!\n",
    "        elif self.especialidad == \"computin\":\n",
    "            #Debe esperar al trabajador electrico\n",
    "            print()\n",
    "            time.sleep()\n",
    "            #Recuerda avisar que terminaste tu tarea!"
   ]
  },
  {
   "cell_type": "markdown",
   "metadata": {
    "id": "RMCgh72yP9Zm"
   },
   "source": [
    "- A continuación implementaremos la clase **Antena**, la cual también hereda de Thread y en su constructor debe tener dos eventos: *self.evento_electrico* y *self.evento_computin*. Recibe como parámetros dos nombres, y su número.\n",
    "- Debes completrar además el método run de **Antena** el cual debe crear dos entidades de la clase trabajador, uno **electrico** y otro **computin**, el tiempo de trabajo debes definirlo con un entero random entre 3 y 5, luego debe iniciar estos threads.\n",
    "- La antena debe esperar a que ambos trabajadores terminen de hacer sus tareas para intentar conectarse al servidor.\n",
    "- Finalmente la **Antena** debe intentar conectarse al servidor, pero estas solo pueden conectarse una a la vez (lo sé es horrible por eso estamos tan ~~estresados~~). Esto lo debes implementar pidiendo el *global_lock*, una vez que la antena tenga el lock debe imprimir que está intentando conectarse, y luego que se conecto con éxito, estos dos prints deben indicar a que antena nos estamos refiriendo."
   ]
  },
  {
   "cell_type": "code",
   "execution_count": null,
   "metadata": {
    "id": "wKMNL0jqQHSS"
   },
   "outputs": [],
   "source": [
    "# Debes importar lo que necesites\n",
    "import time\n",
    "\n",
    "\n",
    "global_lock = threading.Lock()\n",
    "\n",
    "class Antena(threading.Thread):\n",
    "\n",
    "    def __init__(self, n_antena, nombre_electrico, nombre_computin):\n",
    "      #Recuerda heredar y crear los dos eventos\n",
    "\n",
    "        self.n_antena = n_antena\n",
    "        self.nombre_electrico = nombre_electrico\n",
    "        self.nombre_computin = nombre_computin\n",
    "\n",
    "    def run(self):\n",
    "        electrico = Trabajador( )\n",
    "        computin = Trabajador( )\n",
    "\n",
    "\n",
    "        #Debes iniciar los threads\n",
    "\n",
    "        #Antena debe esperar que los dos trabajadores terminen\n",
    "\n",
    "\n",
    "        #Pedir el lock\n",
    "            print( )\n",
    "            time.sleep(1)\n",
    "        print()"
   ]
  }
 ],
 "metadata": {
  "colab": {
   "collapsed_sections": [],
   "name": "AY06-solucion.ipynb",
   "provenance": [],
   "toc_visible": true
  },
  "kernelspec": {
   "display_name": "Python 3",
   "language": "python",
   "name": "python3"
  },
  "language_info": {
   "codemirror_mode": {
    "name": "ipython",
    "version": 3
   },
   "file_extension": ".py",
   "mimetype": "text/x-python",
   "name": "python",
   "nbconvert_exporter": "python",
   "pygments_lexer": "ipython3",
   "version": "3.6.9"
  }
 },
 "nbformat": 4,
 "nbformat_minor": 1
}
