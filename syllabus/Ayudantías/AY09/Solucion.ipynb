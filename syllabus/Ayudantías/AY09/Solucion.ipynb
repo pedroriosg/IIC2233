{
 "cells": [
  {
   "cell_type": "markdown",
   "metadata": {
    "slideshow": {
     "slide_type": "slide"
    }
   },
   "source": [
    "# Ayudantía 09 : \n",
    "\n",
    "## Estructuras Nodales - Grafos\n",
    "\n",
    "### Autores: [Ian Basly](https://github.com/igbasly) - [Lucas VSJ](https://github.com/lucasvsj) - [Diego Chahuan](https://github.com/dchahuan)"
   ]
  },
  {
   "cell_type": "markdown",
   "metadata": {
    "slideshow": {
     "slide_type": "slide"
    }
   },
   "source": [
    "## Problema:"
   ]
  },
  {
   "cell_type": "markdown",
   "metadata": {
    "slideshow": {
     "slide_type": "subslide"
    }
   },
   "source": [
    " <center><img src=\"Images/AY-1.png\" alt=\"image2\" width=\"90%\" weight=\"90%\"></center>"
   ]
  },
  {
   "cell_type": "markdown",
   "metadata": {
    "slideshow": {
     "slide_type": "slide"
    }
   },
   "source": [
    "## Clase Nodo"
   ]
  },
  {
   "cell_type": "code",
   "execution_count": null,
   "metadata": {
    "slideshow": {
     "slide_type": "subslide"
    }
   },
   "outputs": [],
   "source": [
    "class Nodo:\n",
    "    def __init__(self, codigo):\n",
    "        self.codigo = codigo\n",
    "        self.conexiones = []\n",
    "    \n",
    "    def agregar_nodo(self, nodo):\n",
    "        self.conexiones.append(nodo)\n",
    "    \n",
    "    def quitar_nodo(self, nodo):\n",
    "        self.conexiones.remove(nodo)\n",
    "    \n",
    "    def __str__(self):\n",
    "        return f\"[{self.codigo}]\""
   ]
  },
  {
   "cell_type": "markdown",
   "metadata": {
    "slideshow": {
     "slide_type": "slide"
    }
   },
   "source": [
    "## Clase Grafo"
   ]
  },
  {
   "cell_type": "code",
   "execution_count": null,
   "metadata": {
    "slideshow": {
     "slide_type": "subslide"
    }
   },
   "outputs": [],
   "source": [
    "class Grafo:\n",
    "    def __init__(self):\n",
    "        self.nodos = dict()\n",
    "    \n",
    "    def agregar_nodo(self, nodo):\n",
    "        self.nodos[nodo.codigo] = nodo\n",
    "    \n",
    "    def conectar(self, nodo_A, nodo_B):\n",
    "        nodo_a = self.nodos[nodo_A]\n",
    "        nodo_b = self.nodos[nodo_B]\n",
    "        \n",
    "        nodo_a.agregar_nodo(nodo_b)\n",
    "        \n",
    "        #print(f\"{nodo_b} se ha conectado a {nodo_a}\")\n",
    "    \n",
    "    def remover_conexion(self, nodo_A, nodo_B):\n",
    "        nodo_a = self.nodos[nodo_A.codigo]\n",
    "        nodo_b = self.nodos[nodo_A.codigo]\n",
    "        \n",
    "        nodo_a.quitar_nodo(nodo_b)\n",
    "        \n",
    "        #print(f\"{nodo_b} se ha desconectado de {nodo_a}\")\n",
    "    \n",
    "    def hay_ruta(self, nodo_A, nodo_B):\n",
    "        nodo = self.nodos[nodo_A]\n",
    "        \n",
    "        visitados = set()\n",
    "        faltantes = [nodo]\n",
    "        \n",
    "        while len(faltantes) > 0:\n",
    "            nodo = faltantes.pop()\n",
    "            if nodo.codigo == nodo_B:\n",
    "                return True\n",
    "            if nodo not in visitados:\n",
    "                visitados.add(nodo)\n",
    "                for hijo in nodo.conexiones:\n",
    "                    faltantes.append(hijo)\n",
    "        return False\n",
    "            \n",
    "    \n",
    "    def ruta(self, nodo_A, nodo_B, visitados = set()):\n",
    "        nodo = self.nodos[nodo_A]\n",
    "        \n",
    "        ruta = [nodo] #Como la ruta debe contener al nodo de inicio, se define inicialmente así\n",
    "        \n",
    "        if nodo.codigo == nodo_B: \n",
    "            return ruta #En caso de que el nodo en el que estamos sea nuestro destino, retornamos la ruta (caso base)\n",
    "            # Al aplicar return se termina la función\n",
    "        \n",
    "        visitados.add(nodo) \n",
    "        \n",
    "        for hijo in nodo.conexiones:\n",
    "            if hijo not in visitados:\n",
    "                r_hijo = self.ruta(hijo.codigo, nodo_B, visitados) #Ruta siempre retorna una lista\n",
    "                if r_hijo: #Si la lista contiene algo, entonces de alguna forma ya se llego al destino\n",
    "                    ruta.extend(r_hijo) #Agregamos a la ruta local, lo que la ruta de el hijo contenga\n",
    "                    break\n",
    "        return ruta if len(ruta) > 1 else [] \n",
    "    #Si nuetra ruta es de largo 1, significa que solo es el nodo actual \n",
    "    #y por lo tanto, los hijos tampoco pudieron llegar al destino.\n",
    "    # Se retorna una lista vacía indicando que no hay ruta.\n",
    "        "
   ]
  },
  {
   "cell_type": "markdown",
   "metadata": {
    "slideshow": {
     "slide_type": "notes"
    }
   },
   "source": [
    "Hay que entender que la lista `ruta` solo se retorna con datos cuando llega al caso base (destino), entonces solo ahí `r_hijo` recive una lista no vacía, entrando al `if` y agregándose a la ruta local del padre y así sucesivamente generando una especie de reacción en cadena. \n",
    "De lo contrario solo se retornará una lista vacía que indica que desde ese nodo y sus hijos no se llegó de ninguna forma al nodo de destino."
   ]
  },
  {
   "cell_type": "markdown",
   "metadata": {
    "slideshow": {
     "slide_type": "slide"
    }
   },
   "source": [
    "## Archivos"
   ]
  },
  {
   "cell_type": "code",
   "execution_count": null,
   "metadata": {
    "slideshow": {
     "slide_type": "subslide"
    }
   },
   "outputs": [],
   "source": [
    "def leer_archivos(archivo_nodos, archivo_conexiones):\n",
    "    grafo = Grafo()\n",
    "    \n",
    "    with open(archivo_nodos, \"r\") as nodos:\n",
    "        for linea in nodos:\n",
    "            nodo = Nodo(linea.strip())\n",
    "            grafo.agregar_nodo(nodo)\n",
    "        \n",
    "    with open(archivo_conexiones, \"r\") as conexiones:\n",
    "        for linea in conexiones:\n",
    "            nodo_a, nodo_b = linea.strip().split(\",\")\n",
    "            grafo.conectar(nodo_a, nodo_b)\n",
    "        \n",
    "    return grafo"
   ]
  },
  {
   "cell_type": "markdown",
   "metadata": {
    "slideshow": {
     "slide_type": "slide"
    }
   },
   "source": [
    "## A jugar!!"
   ]
  },
  {
   "cell_type": "code",
   "execution_count": null,
   "metadata": {
    "slideshow": {
     "slide_type": "subslide"
    }
   },
   "outputs": [],
   "source": [
    "grafo = leer_archivos(\"nodos.txt\", \"conexiones.txt\")"
   ]
  },
  {
   "cell_type": "code",
   "execution_count": null,
   "metadata": {
    "scrolled": false,
    "slideshow": {
     "slide_type": "subslide"
    }
   },
   "outputs": [],
   "source": [
    "grafo.hay_ruta(\"P001\",\"P502\")\n",
    "    "
   ]
  },
  {
   "cell_type": "code",
   "execution_count": null,
   "metadata": {
    "slideshow": {
     "slide_type": "subslide"
    }
   },
   "outputs": [],
   "source": [
    "ruta = grafo.ruta(\"P001\",\"P502\")\n",
    "print(\" -> \".join(str(n) for n in ruta))"
   ]
  },
  {
   "cell_type": "markdown",
   "metadata": {
    "slideshow": {
     "slide_type": "slide"
    }
   },
   "source": [
    "### Propuesto 😏: Ruta más corta"
   ]
  },
  {
   "cell_type": "markdown",
   "metadata": {
    "slideshow": {
     "slide_type": "notes"
    }
   },
   "source": [
    "Para entontrar la ruta mas corta, primero se define una funcion auxiliar `ruta_rec` que nos entregue todas las rutas posibles desde A hasta B."
   ]
  },
  {
   "cell_type": "code",
   "execution_count": null,
   "metadata": {
    "slideshow": {
     "slide_type": "subslide"
    }
   },
   "outputs": [],
   "source": [
    "def ruta_rec(grafo, nodo_A, nodo_B, visitados = set()):\n",
    "    nodo = grafo.nodos[nodo_A]\n",
    "        \n",
    "    rutas = [] # Aquí rutas, es una lista que contendrá a todas las posibles rutas, donde cada una será otra lista.\n",
    "        \n",
    "    if nodo.codigo == nodo_B:\n",
    "        \n",
    "        rutas.append([nodo]) # Caso base, si el nodo actual es el destino agregamos la ruta y retornamos la lista.\n",
    "        \n",
    "        return rutas\n",
    "    \n",
    "    visitados.add(nodo)\n",
    "    \n",
    "    for hijo in nodo.conexiones:\n",
    "        if hijo not in visitados:\n",
    "            \n",
    "            r_hijo = ruta_rec(grafo, hijo.codigo, nodo_B, visitados.copy()) # VER NOTA ABAJO\n",
    "            # Al igual que antes rutas_rec siempre retorna una lista\n",
    "            \n",
    "            for ruta in r_hijo: #Ya que esta vez lo retornado es una lista de listas, recorremos cada ruta\n",
    "                ruta.insert(0, nodo) #Agregamos el nodo actual a la ruta\n",
    "                \n",
    "                rutas.append(ruta) #agregamos esta ruta a las rutas locales\n",
    "                    \n",
    "    return rutas"
   ]
  },
  {
   "cell_type": "code",
   "execution_count": null,
   "metadata": {},
   "outputs": [],
   "source": [
    "rutas = ruta_rec(grafo, \"P001\", \"P502\")\n",
    "for ruta in rutas:\n",
    "    print(\" -> \".join(str(n) for n in ruta))"
   ]
  },
  {
   "cell_type": "markdown",
   "metadata": {
    "slideshow": {
     "slide_type": "notes"
    }
   },
   "source": [
    "**NOTA:**\n",
    "\n",
    "Esta vez se agrega una copia de visitados, ya que queremos todas las rutas desde este punto y eso puede significar que por cada hijo podriamos pasar por un mismo nodo, pero no queremos pasar por uno que nuestos padres hayan visitados para no formar ciclos.\n",
    "\n",
    "De esta forma se da independencia de visitados futuros a cada hijo, manteniendo los mismos visitados hasta ese punto."
   ]
  },
  {
   "cell_type": "code",
   "execution_count": null,
   "metadata": {
    "slideshow": {
     "slide_type": "subslide"
    }
   },
   "outputs": [],
   "source": [
    "def ruta_mas_corta(grafo, nodo_A, nodo_B):\n",
    "    rutas = ruta_rec(grafo, nodo_A, nodo_B)\n",
    "    \n",
    "    rutas.sort(key = lambda ruta: len(ruta)) # Solo se ordenan las rutas por largo.\n",
    "    \n",
    "    return rutas[0]"
   ]
  },
  {
   "cell_type": "markdown",
   "metadata": {
    "slideshow": {
     "slide_type": "notes"
    }
   },
   "source": [
    "Luego `ruta_mas_corta` ordena estas rutas y encuentra la de menor largo. Puede ocurrir que hayan más de una \"ruta más corta\" pero tomaremos la primera."
   ]
  },
  {
   "cell_type": "code",
   "execution_count": null,
   "metadata": {},
   "outputs": [],
   "source": [
    "ruta = ruta_mas_corta(grafo, \"P001\", \"P502\")\n",
    "print(\" -> \".join(str(n) for n in ruta))"
   ]
  },
  {
   "cell_type": "markdown",
   "metadata": {
    "slideshow": {
     "slide_type": "slide"
    }
   },
   "source": [
    "### Listo!  ahora debrías poder llegar a casa sin problemas"
   ]
  }
 ],
 "metadata": {
  "celltoolbar": "Slideshow",
  "kernelspec": {
   "display_name": "Python 3",
   "language": "python",
   "name": "python3"
  },
  "language_info": {
   "codemirror_mode": {
    "name": "ipython",
    "version": 3
   },
   "file_extension": ".py",
   "mimetype": "text/x-python",
   "name": "python",
   "nbconvert_exporter": "python",
   "pygments_lexer": "ipython3",
   "version": "3.7.4"
  }
 },
 "nbformat": 4,
 "nbformat_minor": 2
}