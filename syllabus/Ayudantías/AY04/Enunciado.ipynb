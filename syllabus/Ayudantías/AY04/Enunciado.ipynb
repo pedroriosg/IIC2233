{
 "cells": [
  {
   "cell_type": "markdown",
   "metadata": {
    "colab_type": "text",
    "id": "Jj33FhugPske"
   },
   "source": [
    "# Ayudantía 05: Iterables\n",
    "\n",
    "## Autores: [@mpvalen](https://github.com/mpvalen), [@Baelfire18](https://github.com/Baelfire18) & [@IgnacioPorte](https://github.com/IgnacioPorte)\n",
    "\n",
    "Puedes evaluar esta ayudantía en [este link](https://docs.google.com/forms/d/e/1FAIpQLSesBxOc3Ux5hR-da2I1dJJHW-ym9Ho5VDVjCiM4nCYPMmm7tQ/viewform?usp=sf_link)"
   ]
  },
  {
   "cell_type": "markdown",
   "metadata": {
    "colab_type": "text",
    "id": "qzUi6DpBJUNY"
   },
   "source": [
    "# Iterables e Iteradores"
   ]
  },
  {
   "cell_type": "markdown",
   "metadata": {
    "colab_type": "text",
    "id": "rLWNGdbALpGu"
   },
   "source": [
    "\n",
    "### ¿Qué es iterar? \n",
    "\n",
    "Se dice que \"iteramos\" sobre alguna estructura de datos cuando recorremos los elementos que la contienen. Es fácil ver que podemos iterar sobre listas, tuplas, diccionarios, *sets*, entre otros. Lo que tal vez no sabías es que puedes crear tus propias estructuras iterables 😱!! Para esto es necesario entender la diferencia entre **iterable** e **iterador**."
   ]
  },
  {
   "cell_type": "markdown",
   "metadata": {
    "colab_type": "text",
    "id": "XJLDMPM7LpRy"
   },
   "source": [
    "### Iterable\n",
    "Es cualquier objeto sobre el cual **se puede iterar**. Por ejemplo, se puede aplicar un *for loop* con ellos.\n",
    "\n",
    "Los iterables **implementan** el método `__iter__`, es decir, se puede hacer `iter(iterable)` o `iterable.__iter__()`.\n",
    "\n"
   ]
  },
  {
   "cell_type": "code",
   "execution_count": 3,
   "metadata": {
    "colab": {},
    "colab_type": "code",
    "id": "ggTTqSUV2u7u"
   },
   "outputs": [
    {
     "name": "stdout",
     "output_type": "stream",
     "text": [
      "No se llama\n",
      "Vo teni que ser del Huachipato\n",
      "La vieja confiable\n",
      "¿Quieres ser tu propio jefe?\n",
      "\n",
      "iter de la lista retorna: <list_iterator object at 0x000002831F437B88>\n"
     ]
    }
   ],
   "source": [
    "lista = [\"No se llama\", \"Vo teni que ser del Huachipato\", \"La vieja confiable\", \"¿Quieres ser tu propio jefe?\"]\n",
    "for i in lista:\n",
    "    print(i)\n",
    "\n",
    "print()\n",
    "print(\"iter de la lista retorna:\", iter(lista))"
   ]
  },
  {
   "cell_type": "markdown",
   "metadata": {
    "colab_type": "text",
    "id": "CVb_stxKLpbm"
   },
   "source": [
    "### Iterador\n",
    "Un iterador es un objeto que **itera sobre un iterable**, y es retornado por el método `__iter__()` de un iterable.\n",
    "\n",
    "Los iteradores también implementan el método `__next__()`, el cual retorna el siguiente elemento de la estructura **cada vez que se invoca**. \n",
    "\n",
    "Cuando no quedan más elementos por recorrer, se levanta la excepción `StopIteration`."
   ]
  },
  {
   "cell_type": "code",
   "execution_count": 4,
   "metadata": {
    "colab": {},
    "colab_type": "code",
    "id": "cPUY2Lk13BmB"
   },
   "outputs": [
    {
     "name": "stdout",
     "output_type": "stream",
     "text": [
      "Soy un <list_iterator object at 0x000002831F443608> y mi iter es <list_iterator object at 0x000002831F443608>\n",
      "No se llama\n",
      "Vo teni que ser del Huachipato\n",
      "La vieja confiable\n",
      "¿Quieres ser tu propio jefe?\n"
     ]
    }
   ],
   "source": [
    "iterador = iter(lista)\n",
    "\n",
    "# Notamos que iter(iterador) retorna al mismo iterador\n",
    "print(f\"Soy un {iterador} y mi iter es {iter(iterador)}\") \n",
    "print(next(iterador))\n",
    "for i in iterador:    # Se puede iterar sobre ellos, pero...\n",
    "    print(i)"
   ]
  },
  {
   "cell_type": "code",
   "execution_count": 12,
   "metadata": {
    "colab": {},
    "colab_type": "code",
    "id": "uxHC3hc33IRn"
   },
   "outputs": [
    {
     "name": "stdout",
     "output_type": "stream",
     "text": [
      "No se llama\n",
      "Vo teni que ser del Huachipato\n",
      "La vieja confiable\n",
      "¿Quieres ser tu propio jefe?\n"
     ]
    },
    {
     "ename": "StopIteration",
     "evalue": "",
     "output_type": "error",
     "traceback": [
      "\u001b[1;31m---------------------------------------------------------------------------\u001b[0m",
      "\u001b[1;31mStopIteration\u001b[0m                             Traceback (most recent call last)",
      "\u001b[1;32m<ipython-input-12-9acd82e17967>\u001b[0m in \u001b[0;36m<module>\u001b[1;34m\u001b[0m\n\u001b[0;32m      4\u001b[0m     \u001b[0mprint\u001b[0m\u001b[1;33m(\u001b[0m\u001b[0mi\u001b[0m\u001b[1;33m)\u001b[0m\u001b[1;33m\u001b[0m\u001b[1;33m\u001b[0m\u001b[0m\n\u001b[0;32m      5\u001b[0m \u001b[1;31m# Ahora tirará error, pues a pasado el límite\u001b[0m\u001b[1;33m\u001b[0m\u001b[1;33m\u001b[0m\u001b[1;33m\u001b[0m\u001b[0m\n\u001b[1;32m----> 6\u001b[1;33m \u001b[0mprint\u001b[0m\u001b[1;33m(\u001b[0m\u001b[0mnext\u001b[0m\u001b[1;33m(\u001b[0m\u001b[0miterador\u001b[0m\u001b[1;33m)\u001b[0m\u001b[1;33m)\u001b[0m\u001b[1;33m\u001b[0m\u001b[1;33m\u001b[0m\u001b[0m\n\u001b[0m",
      "\u001b[1;31mStopIteration\u001b[0m: "
     ]
    }
   ],
   "source": [
    "iterador = iter(lista)\n",
    "\n",
    "for i in iterador:  # Una vez que se recorre completo, no se 'reinicia' como con los iterables.\n",
    "    print(i)\n",
    "\n",
    "# Ahora tirará error, pues a pasado el límite\n",
    "print(next(iterador))"
   ]
  },
  {
   "cell_type": "markdown",
   "metadata": {},
   "source": [
    "**Entonces, ¿cúal es la difencia entre un iterable y un iterador?**\n",
    "\n",
    "Una iterable es algo recorrible y un iterador permite recorrerlo"
   ]
  },
  {
   "cell_type": "markdown",
   "metadata": {
    "colab_type": "text",
    "id": "bYrLrfRGLpm6"
   },
   "source": [
    "**¿Por qué podemos recorrer varias veces un iterable, pero en el caso de un iterador no?**\n",
    "\n",
    "Para responder a esa pregunta, necesitamos conocer la estructura de un iterable.\n",
    "\n",
    "A continuación veremos el esqueleto básico de una estructura iterable, creando nuestra propia versión de `range()` (sí, es un iterable).\n",
    "\n",
    "Primero, definimos nuestro propia clase iterable de rango, con sus atributos y el método `__iter__()`:"
   ]
  },
  {
   "cell_type": "code",
   "execution_count": 5,
   "metadata": {
    "colab": {},
    "colab_type": "code",
    "id": "utrLaISp3drp"
   },
   "outputs": [],
   "source": [
    "class MiIterableRango:\n",
    "    \n",
    "    def __init__(self, inicio, fin):\n",
    "        self.inicio = inicio\n",
    "        self.actual = inicio\n",
    "        self.fin = fin\n",
    "    \n",
    "    def __iter__(self):\n",
    "        return MiIterador(self)\n"
   ]
  },
  {
   "cell_type": "markdown",
   "metadata": {
    "colab_type": "text",
    "id": "qmmPLPl8Lpvj"
   },
   "source": [
    "Luego definimos nuestro iterador, que debe definir los métodos `__iter__()` y `__next__()`"
   ]
  },
  {
   "cell_type": "code",
   "execution_count": 6,
   "metadata": {
    "colab": {},
    "colab_type": "code",
    "id": "QvTcNhl43igL"
   },
   "outputs": [],
   "source": [
    "class MiIterador:\n",
    "    \n",
    "    def __init__(self, iterable):\n",
    "        self.iterable = iterable\n",
    "    \n",
    "    def __iter__(self): \n",
    "        return self\n",
    "    \n",
    "    def __next__(self):\n",
    "        if self.iterable.actual == self.iterable.fin:\n",
    "            # Así es como se levanta una excepción del tipo StopIteration\n",
    "            # con el mensaje \"Llegamos al final\".\n",
    "            self.iterable.actual = self.iterable.inicio\n",
    "            raise StopIteration(\"We are in the End Game now\")\n",
    "        else:           \n",
    "            valor = self.iterable.actual\n",
    "            self.iterable.actual += 1\n",
    "            return valor"
   ]
  },
  {
   "cell_type": "markdown",
   "metadata": {
    "colab_type": "text",
    "id": "T46lFb_83xwh"
   },
   "source": [
    "Una vez definidas estas clases, probamos instanciar nuestro rango personalizado:"
   ]
  },
  {
   "cell_type": "code",
   "execution_count": 7,
   "metadata": {
    "colab": {
     "base_uri": "https://localhost:8080/",
     "height": 102
    },
    "colab_type": "code",
    "id": "w_Y8ONyc3ilT",
    "outputId": "124a7c65-54bc-4ec9-c601-6463285ae098"
   },
   "outputs": [
    {
     "name": "stdout",
     "output_type": "stream",
     "text": [
      "-3\n",
      "-2\n",
      "-1\n",
      "0\n",
      "1\n",
      "2\n"
     ]
    }
   ],
   "source": [
    "rango_pulento = MiIterableRango(-3, 3)\n",
    "for i in rango_pulento:\n",
    "    print(i)"
   ]
  },
  {
   "cell_type": "markdown",
   "metadata": {
    "colab_type": "text",
    "id": "t5FdEFzR39tW"
   },
   "source": [
    "Notamos también que se cumplen las mismas propiedades de iteradores para el método `iter()` de nuestra clase:"
   ]
  },
  {
   "cell_type": "code",
   "execution_count": 8,
   "metadata": {
    "colab": {
     "base_uri": "https://localhost:8080/",
     "height": 51
    },
    "colab_type": "code",
    "id": "u4h6bL8C3pbb",
    "outputId": "49322d22-0ef5-4bd5-da45-2376d62a50fb"
   },
   "outputs": [
    {
     "name": "stdout",
     "output_type": "stream",
     "text": [
      "-3\n",
      "-2\n"
     ]
    }
   ],
   "source": [
    "iterador = iter(rango_pulento)\n",
    "print(next(iterador))\n",
    "print(next(iterador))"
   ]
  },
  {
   "cell_type": "markdown",
   "metadata": {
    "colab_type": "text",
    "id": "ntBtDzv24LcQ"
   },
   "source": [
    "**Logramos definir nuestra propia clase de rango!! 🎉🎉**\n",
    "\n",
    "Finalmente, llegamos a una idea un poco compleja:\n",
    "\n",
    "Los *for loops* llaman al método `__iter__()` de la estructura iterable, y para obtener el siguiente valor en la iteración utilizan el método `__next__()` de la clase es retornada por `__iter__()`."
   ]
  },
  {
   "cell_type": "markdown",
   "metadata": {
    "colab_type": "text",
    "id": "WNfLjrPU4UgA"
   },
   "source": [
    "## Generadores"
   ]
  },
  {
   "cell_type": "markdown",
   "metadata": {
    "colab_type": "text",
    "id": "BPvKvcMC4XI6"
   },
   "source": [
    "Son un caso especial de los **iteradores**: nos permiten iterar sobre secuencias de datos sin la necesidad de almacenarlos en alguna estructura especial. En pocas palabras, los generadores simplifican la necesidad de crear clases iterables, pero no son tan personalizables como estos últimos."
   ]
  },
  {
   "cell_type": "markdown",
   "metadata": {
    "colab_type": "text",
    "id": "ERM0mnqE4aLo"
   },
   "source": [
    "Para obtener un generador, se puede usar un formato similar a las **listas por comprensión**:"
   ]
  },
  {
   "cell_type": "code",
   "execution_count": 9,
   "metadata": {
    "colab": {
     "base_uri": "https://localhost:8080/",
     "height": 34
    },
    "colab_type": "code",
    "id": "KZdvE6ET4etm",
    "outputId": "1c43f7ff-719c-44ea-da3d-fcb949f43f5d"
   },
   "outputs": [
    {
     "name": "stdout",
     "output_type": "stream",
     "text": [
      "[0, 1, 2, 3, 4]\n",
      "Estamos trabajando con <class 'list'>\n"
     ]
    }
   ],
   "source": [
    "lista_comprension = [i for i in range(5)]\n",
    "print(lista_comprension)\n",
    "print(f\"Estamos trabajando con {type(lista_comprension)}\")"
   ]
  },
  {
   "cell_type": "markdown",
   "metadata": {
    "colab_type": "text",
    "id": "TJzFatoA4hU4"
   },
   "source": [
    "Si reemplazamos los `[]` con `()`, notaremos que hemos creado un generador:"
   ]
  },
  {
   "cell_type": "code",
   "execution_count": 10,
   "metadata": {
    "colab": {
     "base_uri": "https://localhost:8080/",
     "height": 34
    },
    "colab_type": "code",
    "id": "R1J9c98T4oNy",
    "outputId": "06b2c079-0c35-4232-f86f-691098cd3170"
   },
   "outputs": [
    {
     "name": "stdout",
     "output_type": "stream",
     "text": [
      "<generator object <genexpr> at 0x000002831F42B948>\n",
      "Estamos trabajando con <class 'generator'>\n"
     ]
    }
   ],
   "source": [
    "generador = (i for i in range(5))\n",
    "print(generador)\n",
    "print(f\"Estamos trabajando con {type(generador)}\")"
   ]
  },
  {
   "cell_type": "markdown",
   "metadata": {
    "colab_type": "text",
    "id": "7MhyYJsx4sTh"
   },
   "source": [
    "Del mismo modo que los iteradores, se pueden recorrer usando `for`, y tampoco se 'reinician' como ocurre con los iterables."
   ]
  },
  {
   "cell_type": "code",
   "execution_count": 11,
   "metadata": {
    "colab": {
     "base_uri": "https://localhost:8080/",
     "height": 283
    },
    "colab_type": "code",
    "id": "M4z_Ijmb4zX2",
    "outputId": "273678ac-83f7-4a98-fe9f-4d6840220f29"
   },
   "outputs": [
    {
     "name": "stdout",
     "output_type": "stream",
     "text": [
      "0\n",
      "1\n",
      "2\n",
      "3\n",
      "4\n"
     ]
    },
    {
     "ename": "StopIteration",
     "evalue": "",
     "output_type": "error",
     "traceback": [
      "\u001b[1;31m---------------------------------------------------------------------------\u001b[0m",
      "\u001b[1;31mStopIteration\u001b[0m                             Traceback (most recent call last)",
      "\u001b[1;32m<ipython-input-11-3b9964b0c3ee>\u001b[0m in \u001b[0;36m<module>\u001b[1;34m\u001b[0m\n\u001b[0;32m      2\u001b[0m     \u001b[0mprint\u001b[0m\u001b[1;33m(\u001b[0m\u001b[0mi\u001b[0m\u001b[1;33m)\u001b[0m\u001b[1;33m\u001b[0m\u001b[1;33m\u001b[0m\u001b[0m\n\u001b[0;32m      3\u001b[0m \u001b[1;33m\u001b[0m\u001b[0m\n\u001b[1;32m----> 4\u001b[1;33m \u001b[0mprint\u001b[0m\u001b[1;33m(\u001b[0m\u001b[0mnext\u001b[0m\u001b[1;33m(\u001b[0m\u001b[0mgenerador\u001b[0m\u001b[1;33m)\u001b[0m\u001b[1;33m)\u001b[0m\u001b[1;33m\u001b[0m\u001b[1;33m\u001b[0m\u001b[0m\n\u001b[0m",
      "\u001b[1;31mStopIteration\u001b[0m: "
     ]
    }
   ],
   "source": [
    "for i in generador:\n",
    "    print(i)\n",
    "\n",
    "print(next(generador))"
   ]
  },
  {
   "cell_type": "markdown",
   "metadata": {
    "colab_type": "text",
    "id": "m4pGdsGQ440T"
   },
   "source": [
    "## Funciones Generadoras\n",
    "Es posible crear funciones que funcionen como generadores en Python, a través de la sentencia `yield`. \n",
    "\n",
    "`yield` es similar a `return` en retornar un valor indicado, pero en el momento en que la función se vuelve a llamar, se continúa justo donde se había quedado."
   ]
  },
  {
   "cell_type": "markdown",
   "metadata": {},
   "source": [
    "Veamos un ejemplo de función generadora.\n",
    "Consideremos la siguiente serie alternante:\n",
    "$$ \\sum_{n=1}^{m} n(-1)^{n-1}$$\n",
    "\n",
    "De forma mas simple, lo anterior es equivalente a: 1 - 2 + 3 - 4 + 5 - ...\n",
    "Hagamos una función generadora usando lo anterior."
   ]
  },
  {
   "cell_type": "code",
   "execution_count": 5,
   "metadata": {
    "colab": {},
    "colab_type": "code",
    "id": "CVnbG9dT46xA",
    "slideshow": {
     "slide_type": "-"
    }
   },
   "outputs": [
    {
     "name": "stdout",
     "output_type": "stream",
     "text": [
      "<class 'NoneType'>\n"
     ]
    }
   ],
   "source": [
    "def alternante(m):\n",
    "    pass\n",
    "generador_alternante = alternante(15)\n",
    "print(type(generador_alternante))"
   ]
  },
  {
   "cell_type": "code",
   "execution_count": 43,
   "metadata": {
    "colab": {},
    "colab_type": "code",
    "id": "vnqmd7Ja5DT8"
   },
   "outputs": [
    {
     "name": "stdout",
     "output_type": "stream",
     "text": [
      "1\n",
      "-1\n",
      "2\n",
      "-2\n",
      "3\n",
      "-3\n",
      "4\n",
      "-4\n",
      "5\n",
      "-5\n",
      "6\n",
      "-6\n",
      "7\n",
      "-7\n"
     ]
    }
   ],
   "source": [
    "for i in generador_alternante:\n",
    "    print(i)"
   ]
  },
  {
   "cell_type": "markdown",
   "metadata": {
    "colab_type": "text",
    "id": "vps6SGs6fgzY"
   },
   "source": [
    "## Enviar valores a funciones generadoras\n",
    "Es posible interactuar con funciones generadoras y enviarle datos usando el método `send()`.\n",
    "\n",
    "Este método envía datos a la expresión `yield` de la función, por lo que al hacer algo como `v = yield valor` el valor enviado con `send()` se guardará en la variable `v`\n"
   ]
  },
  {
   "cell_type": "code",
   "execution_count": 83,
   "metadata": {
    "colab": {},
    "colab_type": "code",
    "id": "xE6tNZstgORE"
   },
   "outputs": [],
   "source": [
    "def funcion_generadora_send():\n",
    "    contador = 0\n",
    "    while True:\n",
    "        recibido = yield contador\n",
    "        print(f'Recibimos {recibido}')\n",
    "        if not isinstance(recibido, int):\n",
    "            print(f'{recibido} no es un entero :c')\n",
    "            recibido = 0\n",
    "        contador += recibido\n",
    "        print(f'Sumamos {recibido} al contador')"
   ]
  },
  {
   "cell_type": "code",
   "execution_count": 88,
   "metadata": {
    "colab": {},
    "colab_type": "code",
    "id": "GxGZPOQSgQPm"
   },
   "outputs": [],
   "source": [
    "generador_send = funcion_generadora_send()"
   ]
  },
  {
   "cell_type": "markdown",
   "metadata": {
    "colab_type": "text",
    "id": "RFz8qGZCi-S6"
   },
   "source": [
    "Para poder enviarle algo a la función, es necesario antes llamar al menos una vez a su método `__next__()`, de modo que se alcance la línea que contiene a la expresión `yield`. "
   ]
  },
  {
   "cell_type": "code",
   "execution_count": 89,
   "metadata": {
    "colab": {
     "base_uri": "https://localhost:8080/",
     "height": 68
    },
    "colab_type": "code",
    "id": "LajagJ-citcz",
    "outputId": "984f44e1-4a6a-49e7-c27f-54459c5f4c75"
   },
   "outputs": [
    {
     "name": "stdout",
     "output_type": "stream",
     "text": [
      "Recibimos 2\n",
      "Sumamos 2 al contador\n",
      "Recibimos peko\n",
      "peko no es un entero :c\n",
      "Sumamos 0 al contador\n"
     ]
    },
    {
     "data": {
      "text/plain": [
       "2"
      ]
     },
     "execution_count": 89,
     "metadata": {},
     "output_type": "execute_result"
    }
   ],
   "source": [
    "next(generador_send)\n",
    "generador_send.send(2)\n",
    "generador_send.send('peko')"
   ]
  },
  {
   "cell_type": "markdown",
   "metadata": {
    "colab_type": "text",
    "id": "kwH4uO_tkSHu"
   },
   "source": [
    "No nos adentraremos mucho en las aplicaciones de este método, pero de todos modos es importante que lo conozcan."
   ]
  },
  {
   "cell_type": "markdown",
   "metadata": {
    "colab_type": "text",
    "id": "Ofk0lPWQFZDK"
   },
   "source": [
    "# Funciones built-in\n",
    "\n",
    "\n",
    "\n",
    "- Hay una herramienta que quizás no muchos no conozcan aún, pero ciertamente resulta útil a la hora de programar. Estamos hablando de las funciones built-in. Lo que las caracteriza es el hecho de que en solo una línea, se puede definir lo que en otras circunstacias tomarían bastantes lineas.\n",
    "\n",
    "\n",
    "- Hacer uso de este método de programación no solo es eficiente respecto a la longitud de nuestro código, si no que también es *ordenado*.\n",
    "\n",
    "    Entonces, imaginemos que en **una tarea**, nuestro código requiere un reducir la cantidad de líneas. Podemos usar estas funciones para ahorrarnos un descuento gigante!\n",
    "**Tip**\n",
    "\n",
    "\n",
    "\n",
    "\n",
    "Veamos, *qué tipos repasaremos y como funcionan:*"
   ]
  },
  {
   "cell_type": "markdown",
   "metadata": {
    "colab_type": "text",
    "id": "80E6myuIL-Y9"
   },
   "source": [
    "## 1. Funciones Lambda\n",
    "Las diferencias que tenemos entre una función normal y una lambda, son las siguientes:\n",
    "\n",
    "- Retornan algo\n",
    "- Se defininen como funciones anónimas, de manera que no reciben un nombre y tampoco se hace uso de algún nombre para definirlas o llamarlas, si no que se definen a medida que las vayamos a necesitar."
   ]
  },
  {
   "cell_type": "code",
   "execution_count": 5,
   "metadata": {
    "colab": {
     "base_uri": "https://localhost:8080/",
     "height": 54
    },
    "colab_type": "code",
    "id": "gmwyOk8EXIP7",
    "outputId": "71b16292-2b0d-4c84-96a9-fb1f0287b871"
   },
   "outputs": [
    {
     "name": "stdout",
     "output_type": "stream",
     "text": [
      "5.0\n"
     ]
    }
   ],
   "source": [
    "def hipotenusa(a, b): # Función tradicional\n",
    "    a **=2\n",
    "    b **= 2\n",
    "    return (a + b)**(1/2)\n",
    "\n",
    "print(hipotenusa(3, 4))"
   ]
  },
  {
   "cell_type": "markdown",
   "metadata": {},
   "source": [
    "De este modo, tuvimos que definir una función, para posteriormente\n",
    "necesitar guardar el resultado de interés en una variable.\n",
    "Lineas en total: 4"
   ]
  },
  {
   "cell_type": "code",
   "execution_count": 6,
   "metadata": {},
   "outputs": [
    {
     "name": "stdout",
     "output_type": "stream",
     "text": [
      "5.0\n"
     ]
    }
   ],
   "source": [
    "#En comparación, tenemos nuestra función hecha mediante el método Lambda\n",
    "hipotenusa_de_pana = lambda x, y: (x**2 + y**2)**(1/2) # Esta funcion podría haber recibido más argumentos\n",
    "\n",
    "print(hipotenusa_de_pana(3, 4))"
   ]
  },
  {
   "cell_type": "markdown",
   "metadata": {},
   "source": [
    "Como podemos ver, solo tuvimos que usar 1 línea de código, y además\n",
    "queda ordenado y explícito."
   ]
  },
  {
   "cell_type": "markdown",
   "metadata": {
    "colab_type": "text",
    "id": "Yzln3h2ML_Jl"
   },
   "source": [
    "### 2. Función map\n",
    "- El método map nos permite usar una función lambda que hayamos creado y usarla en uno o más iterables (listas, sets, etc).\n",
    "- Es importante saber que este método nos entregará un generador, razón por la que también podremos iterar sobre él.\n",
    "- Veamos a continuación nuestros nuevos alcances..."
   ]
  },
  {
   "cell_type": "code",
   "execution_count": 25,
   "metadata": {
    "colab": {
     "base_uri": "https://localhost:8080/",
     "height": 88
    },
    "colab_type": "code",
    "id": "JHAkLtjeXT38",
    "outputId": "d388ddb8-ae65-43a9-8e59-1e29a5168160"
   },
   "outputs": [
    {
     "name": "stdout",
     "output_type": "stream",
     "text": [
      "['María Pía Valen', 'Ignacio Porte', 'Jose Antonio Castro']\n",
      "['María Pía Valen', 'Ignacio Porte', 'Jose Antonio Castro']\n"
     ]
    }
   ],
   "source": [
    "'''\n",
    "Creamos una función que podamos replicar mediante lambda y map.\n",
    "En este caso, lo que haremos será juntar dos listas\n",
    "'''\n",
    "nombres = [\"María Pía\", \"Ignacio\", \"Jose Antonio\"]\n",
    "apellidos = [\"Valen\", \"Porte\", \"Castro\"]\n",
    "\n",
    "#caso de función normal\n",
    "def como_te_llamas(nombres, apellidos):\n",
    "    lista_todo = list()\n",
    "    for nombre, apellido in zip(nombres, apellidos) :\n",
    "        persona = \" \".join([nombre, apellido])\n",
    "        lista_todo.append(persona)\n",
    "    return(lista_todo)\n",
    "\n",
    "print(como_te_llamas(nombres, apellidos))\n",
    "\n",
    "#Pero ahora procedemos a definir nuestra función en tan solo una línea!!\n",
    "nombres_apellidos = map(lambda nombre, apellido: nombre + \" \" + apellido, nombres, apellidos)\n",
    "lista_nombres_apellidos = list(nombres_apellidos)\n",
    "print(lista_nombres_apellidos)\n",
    "#Tuvimos que poner todo en lista, dado que "
   ]
  },
  {
   "cell_type": "markdown",
   "metadata": {},
   "source": [
    "Nuevamente, solo usamos una línea. Requiere algo de práctica, es muy útil!\n",
    "\n",
    "Un buen ejemplo sería a la hora de hacer bases de datos o\n",
    "trabajar con archivos CSV"
   ]
  },
  {
   "cell_type": "markdown",
   "metadata": {
    "colab_type": "text",
    "id": "zMVcSitEL_g_"
   },
   "source": [
    "### 3. Función filter\n",
    "\n",
    "Ahora, procederemos a hacer uso de la función filter, mediante ella podemos definir un criterio del tipo *\"esto sí\", \"esto no\"*, para categorizar elementos o recuperar de algún iterable los elementos que nos sean útiles o de interés!"
   ]
  },
  {
   "cell_type": "code",
   "execution_count": 28,
   "metadata": {
    "colab": {
     "base_uri": "https://localhost:8080/",
     "height": 54
    },
    "colab_type": "code",
    "id": "OAd1mIfoXeuv",
    "outputId": "34be2afa-5c39-4bfb-c4c4-7de7a25f158e"
   },
   "outputs": [
    {
     "name": "stdout",
     "output_type": "stream",
     "text": [
      "['Ignacio Porte', 'Jose Antonio Castro']\n"
     ]
    }
   ],
   "source": [
    "def nombres_con_letra_o(iterable):\n",
    "    lista_auxiliar = []\n",
    "    for elemento in iterable:\n",
    "        if \"o\" in elemento:\n",
    "            lista_auxiliar.append(elemento)\n",
    "    return lista_auxiliar\n",
    "\n",
    "print(nombres_con_letra_o(lista_nombres_apellidos))"
   ]
  },
  {
   "cell_type": "code",
   "execution_count": 30,
   "metadata": {},
   "outputs": [
    {
     "name": "stdout",
     "output_type": "stream",
     "text": [
      "['Ignacio Porte', 'Jose Antonio Castro']\n"
     ]
    }
   ],
   "source": [
    "nombres_con_letra_o = filter(lambda x: \"o\" in x, lista_nombres_apellidos)\n",
    "print(list(nombres_con_letra_o))"
   ]
  },
  {
   "cell_type": "markdown",
   "metadata": {
    "colab_type": "text",
    "id": "3brzt4wEL_9Q"
   },
   "source": [
    "### 4. Función reduce\n",
    "- Esta función **no es built-in**, debes importarla desde functools\n",
    "- Este caso en particular, corresponde a aplicar un resultado obtenido mediante una función, al elemento siguiente usando la misma función. De manera que se va \"guardando\" un resultado parcial.\n",
    "- En términos prácticos, corresponde a aplicar una función sobre una función, sobre una función...."
   ]
  },
  {
   "cell_type": "code",
   "execution_count": 31,
   "metadata": {
    "colab": {},
    "colab_type": "code",
    "id": "Oka8cZZZXpkQ"
   },
   "outputs": [
    {
     "data": {
      "text/plain": [
       "[1, 2, 3, 4, 5, 6, 7, 8, 9]"
      ]
     },
     "execution_count": 31,
     "metadata": {},
     "output_type": "execute_result"
    }
   ],
   "source": [
    "'''\n",
    "Si observamos en detalle, nuestra operacion va juntando de manera secuencial\n",
    "las listas, de forma que el resultado final, corresponde a una lista\n",
    "con todos los elementos que se van iterando\n",
    "\n",
    "Para este caso en particular, se va iterando de dos en dos\n",
    "'''\n",
    "from functools import reduce\n",
    "\n",
    "lista_con_listas = [[1, 2], [3, 4], [5, 6], [7, 8, 9]]\n",
    "lista_aplanada = reduce(lambda x, y: x + y, lista_con_listas)\n",
    "lista_aplanada"
   ]
  },
  {
   "cell_type": "markdown",
   "metadata": {
    "colab_type": "text",
    "id": "y-so6B5XgcRP"
   },
   "source": [
    "## **Actividad!! 🎉🎉**\n",
    "\n",
    "¡Han atacado nuevamente el Aeropuerto del DCC! Esta vez unos *ciber-terroristas*, en un intento de causar caos decidieron encriptar el valor de los vuelos.\n",
    "\n",
    "Tu misión será restaurar los precios originales, después encontrar los vuelos cuyo valor sea mayor a $27 y finalmente encontrar el promedio de los precios de los vuelos. Te han entregado la clase `Lugar` con sus atributos listos para ayudarte a resolver este problema.\n",
    "\n",
    "El Aeropuerto del DCC sospecha que lo han atacado mediante los *loops for* y *while*, por lo que te han **prohibido usarlos en tu código**"
   ]
  },
  {
   "cell_type": "code",
   "execution_count": 14,
   "metadata": {
    "colab": {},
    "colab_type": "code",
    "id": "glHFd8J4pBOK"
   },
   "outputs": [],
   "source": [
    "from functools import reduce\n",
    "\n",
    "encriptado = {\"ab\": \"0\", \"cd\": \"1\", \"ef\": \"2\",\"gh\": \"3\",\"ij\": \"4\",\"kl\": \"5\",\"mn\": \"6\",\"op\": \"7\",\"qr\": \"8\",\"st\": \"9\"}\n",
    "class Lugar:\n",
    "    def __init__(self, nombre, precio):\n",
    "        self.nombre = nombre\n",
    "        self.precio = precio\n",
    "    def desencriptar(self):\n",
    "        self.precio = int(encriptado[self.precio[0:2]] + encriptado[self.precio[2:4]])\n",
    "        return self\n",
    "\n",
    "datos = [['Berlín', \"ghab\"], [\"Cairo\", \"ghop\"], ['Buenos Aires', \"cdmn\"],\n",
    "         ['Los Ángeles', \"efqr\"], [\"Tokyo\", \"efst\"], ['New York', \"efkl\"],\n",
    "         ['London', \"efab\"], ['Beijing', \"ghab\"]]\n"
   ]
  },
  {
   "cell_type": "markdown",
   "metadata": {
    "colab_type": "text",
    "id": "tWJLpLdZsWAZ"
   },
   "source": [
    "En primer lugar, nos entregan datos como lista, y debemos convertirlos a objetos."
   ]
  },
  {
   "cell_type": "code",
   "execution_count": 1,
   "metadata": {
    "colab": {},
    "colab_type": "code",
    "id": "xOl8EeIxpWnH"
   },
   "outputs": [],
   "source": [
    "# ¿Qué función nos puede servir?\n"
   ]
  },
  {
   "cell_type": "markdown",
   "metadata": {
    "colab_type": "text",
    "id": "zCFdsAsqtChi"
   },
   "source": [
    "Ahora debemos desencriptar los precios usando la función desencriptar"
   ]
  },
  {
   "cell_type": "code",
   "execution_count": 16,
   "metadata": {
    "colab": {},
    "colab_type": "code",
    "id": "ubCybI8htHoa"
   },
   "outputs": [],
   "source": [
    "# ¿Qué función nos puede servir?"
   ]
  },
  {
   "cell_type": "markdown",
   "metadata": {
    "colab_type": "text",
    "id": "JKDDayrqtjIm"
   },
   "source": [
    "Luego, debemos obtener solo los nombres de los lugares cuyo precio sea mayor a $27"
   ]
  },
  {
   "cell_type": "code",
   "execution_count": 2,
   "metadata": {
    "colab": {
     "base_uri": "https://localhost:8080/",
     "height": 34
    },
    "colab_type": "code",
    "id": "gPSaALBAtrOL",
    "outputId": "31a830a5-3a6d-4551-d6c5-f514b993f5c4",
    "scrolled": true
   },
   "outputs": [],
   "source": [
    "# ¿Qué función nos puede servir?\n"
   ]
  },
  {
   "cell_type": "markdown",
   "metadata": {},
   "source": [
    "Finalmente, nos piden calcular el promedio del precio de los vuelos"
   ]
  },
  {
   "cell_type": "code",
   "execution_count": 3,
   "metadata": {},
   "outputs": [],
   "source": [
    "# ¿Qué función nos puede servir?"
   ]
  }
 ],
 "metadata": {
  "celltoolbar": "Slideshow",
  "colab": {
   "collapsed_sections": [],
   "name": "AY05 Iterables.ipynb",
   "provenance": [],
   "toc_visible": true
  },
  "kernelspec": {
   "display_name": "Python 3",
   "language": "python",
   "name": "python3"
  },
  "language_info": {
   "codemirror_mode": {
    "name": "ipython",
    "version": 3
   },
   "file_extension": ".py",
   "mimetype": "text/x-python",
   "name": "python",
   "nbconvert_exporter": "python",
   "pygments_lexer": "ipython3",
   "version": "3.6.9"
  }
 },
 "nbformat": 4,
 "nbformat_minor": 1
}
