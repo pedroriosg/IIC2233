{
 "cells": [
  {
   "cell_type": "markdown",
   "metadata": {
    "slideshow": {
     "slide_type": "slide"
    }
   },
   "source": [
    "# **Ayudantía 08: Estructuras de Datos Nodales I**\n",
    "\n",
    "\n",
    "## Autores: [@lucasvsj](https://github.com/lucasvsj), [@Pablok98](https://github.com/Pablok98), [@SugarFreeManatee](https://github.com/SugarFreeManatee)"
   ]
  },
  {
   "cell_type": "markdown",
   "metadata": {
    "slideshow": {
     "slide_type": "fragment"
    }
   },
   "source": [
    "En ciencias de la computación, una estructura de datos es una **forma particular de organizar datos**\n",
    "en una computadora para que puedan ser **utilizados de manera eficiente**.\n",
    "\n",
    "En esta ayudantía veremos estructuras de datos basadas en **nodos**."
   ]
  },
  {
   "cell_type": "markdown",
   "metadata": {
    "slideshow": {
     "slide_type": "slide"
    }
   },
   "source": [
    "## Nodo\n",
    "Un nodo es una unidad indivisible que contiene **datos** y que podemos identificar a través de un\n",
    "atributo llave (*key*). Cada nodo mantiene cero o más referencias con **otros nodos** a los que llamará\n",
    "**nodos vecinos** con los que mantiene una relación. Un conjunto de nodos, dado que se relacionan entre\n",
    "sí, nos permitiren definir estructuras de datos más complejas y expresivas para representar\n",
    "información."
   ]
  },
  {
   "cell_type": "code",
   "execution_count": 1,
   "metadata": {
    "pycharm": {
     "name": "#%%\n"
    },
    "slideshow": {
     "slide_type": "subslide"
    }
   },
   "outputs": [],
   "source": [
    "class Nodo:\n",
    "    \"\"\"\n",
    "    Clase que representa a un nodo en una lista\n",
    "    \"\"\"\n",
    "\n",
    "    def __init__(self, valor, _id=0):\n",
    "        \"\"\"\n",
    "        Este metodo define los atributos de la instancia,\n",
    "        donde valor el es valor que guarda el Nodo y \n",
    "        siguiente es una referencia al Nodo siguiente\n",
    "        \"\"\"\n",
    "        self._id = _id\n",
    "        self.valor = valor\n",
    "        self.siguiente = None"
   ]
  },
  {
   "cell_type": "markdown",
   "metadata": {
    "pycharm": {
     "name": "#%% md\n"
    },
    "slideshow": {
     "slide_type": "slide"
    }
   },
   "source": [
    "## Lista Ligada\n",
    "\n",
    "Una **lista ligada** es una estructura de datos lineal basada en nodos que contiene una **cabeza** (_head_) el cual es una referencia al **primer elemento** que esta guardado en esta estructua y una **cola** (_tail_) el cual es una referencia al **último elemento** almacenado en ella."
   ]
  },
  {
   "cell_type": "markdown",
   "metadata": {
    "slideshow": {
     "slide_type": "fragment"
    }
   },
   "source": [
    "<div style=\"text-align: center;\">\n",
    "    <img src=\"./imagenes/linked-list.png\" />\n",
    "</div>"
   ]
  },
  {
   "cell_type": "code",
   "execution_count": 2,
   "metadata": {
    "slideshow": {
     "slide_type": "slide"
    }
   },
   "outputs": [],
   "source": [
    "class Iterador:\n",
    "\n",
    "    \"\"\"\n",
    "    Clase que itera sobre un iterable\n",
    "    \"\"\"\n",
    "\n",
    "    def __init__(self, iterable):\n",
    "        \"\"\"\n",
    "        Este metodo define los atributos\n",
    "        de la instancia, donde iterable\n",
    "        es una estructura iterable\n",
    "        \"\"\"\n",
    "        self.iterable = iterable\n",
    "\n",
    "    def __iter__(self):\n",
    "        \"\"\"\n",
    "        Este metodo retorna self\n",
    "        \"\"\"\n",
    "        return self\n",
    "\n",
    "    def __next__(self):\n",
    "        \"\"\"\n",
    "        Este metodo es el encargado de retornarn el\n",
    "        siguiente valor del iterable\n",
    "        \"\"\"\n",
    "        if self.iterable is None:\n",
    "            raise StopIteration(\"We reach the end\")\n",
    "        else:\n",
    "            valor = self.iterable\n",
    "            self.iterable = self.iterable.siguiente\n",
    "            return valor"
   ]
  },
  {
   "cell_type": "code",
   "execution_count": 53,
   "metadata": {
    "pycharm": {
     "name": "#%%\n"
    },
    "slideshow": {
     "slide_type": "slide"
    }
   },
   "outputs": [],
   "source": [
    "class ListaLigada:\n",
    "\n",
    "    \"\"\"\n",
    "    Clase que representa\n",
    "    una estructura de datos tipo\n",
    "    lista ligada\n",
    "    \"\"\"\n",
    "\n",
    "    def __init__(self):\n",
    "        \"\"\"\n",
    "        Este metodo define los atributos\n",
    "        de la instancia, donde cabeza es\n",
    "        una referencia al primer nodo de \n",
    "        la lista y cola es una al ultimo\n",
    "        \"\"\"\n",
    "        self.cabeza = None\n",
    "        self.cola = None\n",
    "\n",
    "    def agregar_item(self, item):\n",
    "        \"\"\"\n",
    "        Este metodo agrega un item a\n",
    "        la lista y reescribe cola\n",
    "        con su nuevo valor\n",
    "        \"\"\"\n",
    "        nodo_item = Nodo(item)\n",
    "        if self.cabeza is None:\n",
    "            nodo_item._id = 0\n",
    "            self.cabeza = nodo_item\n",
    "            self.cola = nodo_item\n",
    "        else:\n",
    "            nodo_item._id = self.cola._id + 1\n",
    "            self.cola.siguiente = nodo_item\n",
    "            self.cola = nodo_item\n",
    "\n",
    "    def insertar_item(self, index, item):\n",
    "        \"\"\"\n",
    "        Este metodo inserta un item\n",
    "        en un indice especifico\n",
    "        de la lista y rescribe cola a\n",
    "        su nuevo valor\n",
    "        \"\"\"\n",
    "        nodo_item = Nodo(item)\n",
    "        nodo_actual = self.cabeza\n",
    "        if index == 0:\n",
    "            nodo_item.siguiente = nodo_actual\n",
    "            self.cabeza = nodo_item\n",
    "            nodo_actual = self.cabeza.siguiente\n",
    "            while nodo_actual is not None:\n",
    "                nodo_actual._id += 1\n",
    "                nodo_actual = nodo_actual.siguiente\n",
    "                \n",
    "            return\n",
    "            \n",
    "        for _ in range(index-1):\n",
    "            if nodo_actual.siguiente is None:\n",
    "                raise IndexError\n",
    "            nodo_actual = nodo_actual.siguiente\n",
    "        if nodo_actual is not None:\n",
    "            nodo_item.siguiente = nodo_actual.siguiente\n",
    "            nodo_item._id = nodo_actual._id + 1\n",
    "            nodo_actual.siguiente = nodo_item\n",
    "            nodo_actual = nodo_item.siguiente\n",
    "            while nodo_actual is not None:\n",
    "                nodo_actual._id += 1\n",
    "                nodo_actual = nodo_actual.siguiente\n",
    "            if nodo_item.siguiente is None:\n",
    "                self.cola = nodo_item\n",
    "\n",
    "    def remover_item(self, index):\n",
    "        \"\"\"\n",
    "        Este metodo remueve un item\n",
    "        dado su indice, y curriza \n",
    "        los indices de los items \n",
    "        que lo seguían\n",
    "        \"\"\"\n",
    "        nodo_actual = self.cabeza\n",
    "        nodo_previo = None\n",
    "        for _ in range(index):\n",
    "            if nodo_actual is None:\n",
    "                raise IndexError\n",
    "            nodo_actual = nodo_actual.siguiente\n",
    "        if nodo_actual:\n",
    "            if index == 0:\n",
    "                self.cabeza = nodo_actual.siguiente\n",
    "            else:\n",
    "                nodo_previo = self.cabeza\n",
    "                for _ in range(index-1):\n",
    "                    nodo_previo = nodo_previo.siguiente\n",
    "                if index == len(self)-1:\n",
    "                    nodo_previo.siguiente = None\n",
    "                    self.cola = nodo_previo\n",
    "                else:\n",
    "                    nodo_previo.siguiente = nodo_actual.siguiente\n",
    "        while nodo_actual:\n",
    "            nodo_actual._id -= 1\n",
    "            nodo_actual = nodo_actual.siguiente\n",
    "\n",
    "    def __len__(self):\n",
    "        \"\"\"\n",
    "        Este metodo retorna el largo de la lista\n",
    "        \"\"\"\n",
    "        nodo_actual = self.cabeza\n",
    "        contador = 0\n",
    "        while nodo_actual is not None:\n",
    "            contador += 1\n",
    "            nodo_actual = nodo_actual.siguiente\n",
    "        return contador\n",
    "\n",
    "    def __getitem__(self, index):\n",
    "        \"\"\"\n",
    "        Este metodo retorna el item almacenado en un\n",
    "        indice especifico\n",
    "        \"\"\"\n",
    "        nodo_actual = self.cabeza\n",
    "        for _ in range(index):\n",
    "            if nodo_actual is None:\n",
    "                raise IndexError\n",
    "            nodo_actual = nodo_actual.siguiente\n",
    "        valor = nodo_actual.valor\n",
    "        return valor\n",
    "\n",
    "    def __repr__(self):\n",
    "        \"\"\"\n",
    "        Este metodo printea la lista de una forma legible\n",
    "        \"\"\"\n",
    "        nodo_actual = self.cabeza\n",
    "        if nodo_actual is None:\n",
    "            return \"Lista vacia\"\n",
    "        resultado = f'[ '\n",
    "        while nodo_actual is not None:\n",
    "            resultado += f'{nodo_actual.valor}, '\n",
    "            nodo_actual = nodo_actual.siguiente\n",
    "        resultado = resultado[:-2]\n",
    "        resultado += f' ]'\n",
    "        return resultado\n",
    "\n",
    "    def __iter__(self):\n",
    "        return Iterador(self.cabeza)\n"
   ]
  },
  {
   "cell_type": "code",
   "execution_count": 57,
   "metadata": {
    "pycharm": {
     "name": "#%%\n"
    },
    "slideshow": {
     "slide_type": "slide"
    }
   },
   "outputs": [],
   "source": [
    "mi_hamburguesa = ListaLigada()"
   ]
  },
  {
   "cell_type": "code",
   "execution_count": 19,
   "metadata": {
    "pycharm": {
     "name": "#%%\n"
    },
    "slideshow": {
     "slide_type": "slide"
    }
   },
   "outputs": [],
   "source": [
    "    def __repr__(self):\n",
    "        \"\"\"\n",
    "        Este metodo printea la lista de una forma legible\n",
    "        \"\"\"\n",
    "        nodo_actual = self.cabeza\n",
    "        if nodo_actual is None:\n",
    "            return \"Lista vacia\"\n",
    "        resultado = f'[ '\n",
    "        while nodo_actual is not None:\n",
    "            resultado += f'{nodo_actual.valor}, '\n",
    "            nodo_actual = nodo_actual.siguiente\n",
    "        resultado = resultado[:-2]\n",
    "        resultado += f' ]'\n",
    "        return resultado"
   ]
  },
  {
   "cell_type": "code",
   "execution_count": 58,
   "metadata": {
    "pycharm": {
     "name": "#%%\n"
    },
    "slideshow": {
     "slide_type": "fragment"
    }
   },
   "outputs": [
    {
     "name": "stdout",
     "output_type": "stream",
     "text": [
      "Lista vacia\n"
     ]
    }
   ],
   "source": [
    "print(mi_hamburguesa)"
   ]
  },
  {
   "cell_type": "code",
   "execution_count": 21,
   "metadata": {
    "pycharm": {
     "name": "#%%\n"
    },
    "slideshow": {
     "slide_type": "slide"
    }
   },
   "outputs": [],
   "source": [
    "    def __len__(self):\n",
    "        \"\"\"\n",
    "        Este metodo retorna el largo de la lista\n",
    "        \"\"\"\n",
    "        nodo_actual = self.cabeza\n",
    "        contador = 0\n",
    "        while nodo_actual is not None:\n",
    "            contador += 1\n",
    "            nodo_actual = nodo_actual.siguiente\n",
    "        return contador"
   ]
  },
  {
   "cell_type": "code",
   "execution_count": 22,
   "metadata": {
    "pycharm": {
     "name": "#%%\n"
    },
    "slideshow": {
     "slide_type": "slide"
    }
   },
   "outputs": [],
   "source": [
    "    def agregar_item(self, item):\n",
    "        \"\"\"\n",
    "        Este metodo agrega un item a\n",
    "        la lista y reescribe cola\n",
    "        con su nuevo valor\n",
    "        \"\"\"\n",
    "        nodo_item = Nodo(item)\n",
    "        if self.cabeza is None:\n",
    "            nodo_item._id = 0\n",
    "            self.cabeza = nodo_item\n",
    "            self.cola = nodo_item\n",
    "        else:\n",
    "            nodo_item._id = self.cola._id + 1\n",
    "            self.cola.siguiente = nodo_item\n",
    "            self.cola = nodo_item"
   ]
  },
  {
   "cell_type": "code",
   "execution_count": 59,
   "metadata": {
    "slideshow": {
     "slide_type": "fragment"
    }
   },
   "outputs": [
    {
     "name": "stdout",
     "output_type": "stream",
     "text": [
      "[ pan, pan ]\n",
      "2\n"
     ]
    }
   ],
   "source": [
    "[mi_hamburguesa.agregar_item(\"pan\") for _ in range(2)]\n",
    "print(mi_hamburguesa)\n",
    "print(len(mi_hamburguesa))"
   ]
  },
  {
   "cell_type": "code",
   "execution_count": 10,
   "metadata": {
    "slideshow": {
     "slide_type": "slide"
    }
   },
   "outputs": [],
   "source": [
    "    def __getitem__(self, index):\n",
    "        \"\"\"\n",
    "        Este metodo retorna el item almacenado en un\n",
    "        indice especifico\n",
    "        \"\"\"\n",
    "        nodo_actual = self.cabeza\n",
    "        for _ in range(index):\n",
    "            if nodo_actual is None:\n",
    "                raise IndexError\n",
    "            nodo_actual = nodo_actual.siguiente\n",
    "        valor = nodo_actual.valor\n",
    "        return valor"
   ]
  },
  {
   "cell_type": "code",
   "execution_count": 60,
   "metadata": {
    "slideshow": {
     "slide_type": "fragment"
    }
   },
   "outputs": [
    {
     "name": "stdout",
     "output_type": "stream",
     "text": [
      "pan\n",
      "pan\n"
     ]
    }
   ],
   "source": [
    "print(mi_hamburguesa[0])\n",
    "print(mi_hamburguesa[1])"
   ]
  },
  {
   "cell_type": "code",
   "execution_count": 12,
   "metadata": {
    "slideshow": {
     "slide_type": "slide"
    }
   },
   "outputs": [],
   "source": [
    "    def insertar_item(self, index, item):\n",
    "        \"\"\"\n",
    "        Este metodo inserta un item\n",
    "        en un indice especifico\n",
    "        de la lista y rescribe cola a\n",
    "        su nuevo valor\n",
    "        \"\"\"\n",
    "        nodo_item = Nodo(item)\n",
    "        nodo_actual = self.cabeza   \n",
    "        for _ in range(index-1):\n",
    "            if nodo_actual.siguiente is None:\n",
    "                raise IndexError\n",
    "            nodo_actual = nodo_actual.siguiente\n",
    "        if nodo_actual is not None:\n",
    "            if index == 0:\n",
    "                nodo_item.siguiente = nodo_actual\n",
    "                self.cabeza = nodo_item\n",
    "                nodo_actual = self.cabeza.siguiente\n",
    "            else:\n",
    "                nodo_item.siguiente = nodo_actual.siguiente\n",
    "                nodo_item._id = nodo_actual._id + 1\n",
    "                nodo_actual.siguiente = nodo_item\n",
    "                nodo_actual = nodo_item.siguiente\n",
    "            while nodo_actual is not None:\n",
    "                nodo_actual._id += 1\n",
    "                nodo_actual = nodo_actual.siguiente\n",
    "            if nodo_item.siguiente is None:\n",
    "                self.cola = nodo_item"
   ]
  },
  {
   "cell_type": "code",
   "execution_count": 63,
   "metadata": {
    "slideshow": {
     "slide_type": "slide"
    }
   },
   "outputs": [
    {
     "name": "stdout",
     "output_type": "stream",
     "text": [
      "[ lechuga, lechuga, queso, tomate, queso, tomate, pan, lechuga, queso, tomate, pan ]\n",
      "0: lechuga\n",
      "1: lechuga\n",
      "2: queso\n",
      "3: tomate\n",
      "4: queso\n",
      "5: tomate\n",
      "6: pan\n",
      "7: lechuga\n",
      "8: queso\n",
      "9: tomate\n",
      "10: pan\n"
     ]
    }
   ],
   "source": [
    "mi_hamburguesa.insertar_item(1, \"tomate\")\n",
    "mi_hamburguesa.insertar_item(1, \"queso\")\n",
    "mi_hamburguesa.insertar_item(1, \"lechuga\")\n",
    "print(mi_hamburguesa)\n",
    "[print(f'{item._id}: {item.valor}') for item in mi_hamburguesa]\n",
    "pass"
   ]
  },
  {
   "cell_type": "code",
   "execution_count": 14,
   "metadata": {
    "slideshow": {
     "slide_type": "slide"
    }
   },
   "outputs": [
    {
     "name": "stdout",
     "output_type": "stream",
     "text": [
      "[ pan, anvorguesa, lechuga, queso, anvorguesa, tomate, anvorguesa, pan ]\n",
      "0: pan\n",
      "1: anvorguesa\n",
      "2: lechuga\n",
      "3: queso\n",
      "4: anvorguesa\n",
      "5: tomate\n",
      "6: anvorguesa\n",
      "7: pan\n"
     ]
    }
   ],
   "source": [
    "mi_hamburguesa.insertar_item(4, \"anvorguesa\")\n",
    "mi_hamburguesa.insertar_item(3, \"anvorguesa\")\n",
    "mi_hamburguesa.insertar_item(1, \"anvorguesa\")\n",
    "print(mi_hamburguesa)\n",
    "[print(f'{item._id}: {item.valor}') for item in mi_hamburguesa]\n",
    "pass"
   ]
  },
  {
   "cell_type": "code",
   "execution_count": 15,
   "metadata": {
    "slideshow": {
     "slide_type": "slide"
    }
   },
   "outputs": [],
   "source": [
    "    def remover_item(self, index):\n",
    "        \"\"\"\n",
    "        Este metodo remueve un item\n",
    "        dado su indice, y actualiza \n",
    "        los indices de los items \n",
    "        que lo seguían\n",
    "        \"\"\"\n",
    "        nodo_actual = self.cabeza\n",
    "        nodo_previo = None\n",
    "        for _ in range(index):\n",
    "            if nodo_actual is None:\n",
    "                raise IndexError\n",
    "            nodo_actual = nodo_actual.siguiente\n",
    "        if nodo_actual:\n",
    "            if index == 0:\n",
    "                self.cabeza = nodo_actual.siguiente\n",
    "            else:\n",
    "                nodo_previo = self.cabeza\n",
    "                for _ in range(index-1):\n",
    "                    nodo_previo = nodo_previo.siguiente\n",
    "                if index == len(self)-1:\n",
    "                    nodo_previo.siguiente = None\n",
    "                    self.cola = nodo_previo\n",
    "                else:\n",
    "                    nodo_previo.siguiente = nodo_actual.siguiente\n",
    "        while nodo_actual:\n",
    "            nodo_actual._id -= 1\n",
    "            nodo_actual = nodo_actual.siguiente"
   ]
  },
  {
   "cell_type": "code",
   "execution_count": 16,
   "metadata": {
    "slideshow": {
     "slide_type": "slide"
    }
   },
   "outputs": [
    {
     "name": "stdout",
     "output_type": "stream",
     "text": [
      "[ pan, anvorguesa, lechuga, queso, anvorguesa, anvorguesa, pan ]\n",
      "0: pan\n",
      "1: anvorguesa\n",
      "2: lechuga\n",
      "3: queso\n",
      "4: anvorguesa\n",
      "5: anvorguesa\n",
      "6: pan\n"
     ]
    }
   ],
   "source": [
    "mi_hamburguesa.remover_item(5)\n",
    "print(mi_hamburguesa)\n",
    "[print(f'{item._id}: {item.valor}') for item in mi_hamburguesa]\n",
    "pass"
   ]
  },
  {
   "cell_type": "markdown",
   "metadata": {
    "pycharm": {
     "name": "#%% md\n"
    },
    "slideshow": {
     "slide_type": "slide"
    }
   },
   "source": [
    "## Árboles\n",
    "¿Qué es un árbol?"
   ]
  },
  {
   "cell_type": "markdown",
   "metadata": {
    "pycharm": {
     "name": "#%% md\n"
    },
    "slideshow": {
     "slide_type": "slide"
    }
   },
   "source": [
    "![img](imagenes/araucaria.jpg)"
   ]
  },
  {
   "cell_type": "markdown",
   "metadata": {
    "pycharm": {
     "name": "#%% md\n"
    },
    "slideshow": {
     "slide_type": "fragment"
    }
   },
   "source": [
    "Conífera, procede del latín conifer, término compuesto por cōnus, 'piña, cono' más -fer,\n",
    "del verbo latino ferre, 'llevar, conducir, producir'; literalmente, \"que lleva, produce o es\n",
    "portador de piñas\"."
   ]
  },
  {
   "cell_type": "markdown",
   "metadata": {
    "pycharm": {
     "name": "#%% md\n"
    },
    "slideshow": {
     "slide_type": "slide"
    }
   },
   "source": [
    "![pinophyta_phylogeny.svg.png](imagenes/pinophyta_phylogeny.svg.png)"
   ]
  },
  {
   "cell_type": "markdown",
   "metadata": {
    "pycharm": {
     "name": "#%% md\n"
    },
    "slideshow": {
     "slide_type": "slide"
    }
   },
   "source": [
    "Los árboles son estructuras nodales jerárquicas, esto significa que un nodo padre puede tener varios hijos.\n",
    "\n",
    "El primer nodo en el árbol recibe el nombre de nodo raíz (``root``). Cada nodo del árbol, salvo el nodo\n",
    "raíz, tiene un padre (``parent``) y cero o más nodos hijos (``children``). Los nodos provenientes de un\n",
    "mismo padre se denominan nodos hermanos, y los nodos en la línea de descendencia de un nodo se\n",
    "conocen como sus ancestros. Los nodos que no poseen hijos se denominan nodos hoja. Por último,\n",
    "todos los nodos que no son hoja ni raíz se denominan nodos interiores."
   ]
  },
  {
   "cell_type": "markdown",
   "metadata": {
    "pycharm": {
     "name": "#%% md\n"
    },
    "slideshow": {
     "slide_type": "slide"
    }
   },
   "source": [
    "### ¿Como podemos definir un arbol en python?\n",
    "Debemos crear una estructura que nos indique el nodo padre, los nodos hijos, y guarde información o\n",
    "métodos relevantes. Debemos tener un método que nos retorne un nodo dado su id, agregar nodos nuevos,\n",
    "quitar nodos."
   ]
  },
  {
   "cell_type": "code",
   "execution_count": 17,
   "metadata": {
    "pycharm": {
     "name": "#%%\n"
    },
    "slideshow": {
     "slide_type": "slide"
    }
   },
   "outputs": [],
   "source": [
    "    # Código que aparece en los contenidos\n",
    "\n",
    "from textwrap import indent\n",
    "class Arbol:\n",
    "\n",
    "\n",
    "        def __init__(self, id_nodo, valor=None, padre=None):\n",
    "            self.id_nodo = id_nodo\n",
    "            self.padre = padre\n",
    "            self.valor = valor\n",
    "            self.hijos = {}\n",
    "\n",
    "\n",
    "        def obtener_nodo(self, id_nodo):\n",
    "            # Caso base: ¡Lo encontramos!\n",
    "            if self.id_nodo == id_nodo:\n",
    "                return self\n",
    "\n",
    "            # Buscamos recursivamente entre los hijos\n",
    "            for hijo in self.hijos.values():\n",
    "                nodo = hijo.obtener_nodo(id_nodo)\n",
    "                # Si lo encontró, lo retornamos\n",
    "                if nodo is not None:\n",
    "                    return nodo\n",
    "\n",
    "            # Si no lo encuentra, retorna None\n",
    "            return None\n",
    "\n",
    "\n",
    "        def agregar_nodo(self, id_nodo, valor, id_padre):\n",
    "            # Primero, tenemos que encontrar al padre\n",
    "            padre = self.obtener_nodo(id_padre)\n",
    "            # En caso de que el padre no exista no hacemos nada\n",
    "            if padre is None:\n",
    "                return\n",
    "\n",
    "            # Creamos el nodo\n",
    "            # Nos aseguramos de que el nodo nuevo sea del mismo tipo que la raíz\n",
    "            # La siguiente línea es equivalente a Arbol(id_nodo, valor, padre) por ahora\n",
    "            nodo = type(self)(id_nodo, valor, padre) # Esto lo ocuparemos cuando sea otra clase que herede de Arbol\n",
    "            # Agregamos el nodo como hijo de su padre\n",
    "            padre.hijos[id_nodo] = nodo\n",
    "\n",
    "\n",
    "        def __repr__(self):\n",
    "            # Texto de este nodo.\n",
    "            texto = f\"id: {self.id_nodo}, valor: {self.valor}\"\n",
    "            # Si el nodo es hoja, se avisa de ello.\n",
    "            # Si el nodo no es hoja, se deja un salto de línea para poder nombrar a los hijos.\n",
    "            texto += ', nodo hoja' if len(self.hijos) == 0 else '\\n'\n",
    "\n",
    "            # Extrae el repr a cada hijo, en forma recursiva.\n",
    "            repr_hijos = [repr(hijo) for hijo in self.hijos.values()]\n",
    "\n",
    "            # Indentamos cada línea del texto de los hijos con tres espacios.\n",
    "            # Esto es para que se note el nivel del nodo.\n",
    "            texto_hijos = [indent(texto_hijo, \"   \") for texto_hijo in repr_hijos]\n",
    "\n",
    "            # Usamos join para juntar todos los strings anteriores con un salto de línea entre cada uno.\n",
    "            return texto + \"\\n\".join(texto_hijos)\n",
    "   ########################################################################################################\n",
    "        # Nuevo método\n",
    "        def quitar_nodo(self, id_nodo):\n",
    "            # obtenemos el nodo actual\n",
    "            nodo = self.obtener_nodo(id_nodo)\n",
    "            if nodo:\n",
    "\n",
    "                # llamamos recursivamente a quitar nodos en los hijos del nodo actual\n",
    "                for nodo_hijo in nodo.hijos.copy():\n",
    "                    self.quitar_nodo(nodo_hijo)\n",
    "                # Si nuestro nodo es hoja, lo quitamos de los hijos de su nodo padre\n",
    "                if not nodo.hijos and nodo.padre:\n",
    "                    nodo.padre.hijos.pop(nodo.id_nodo)"
   ]
  },
  {
   "cell_type": "code",
   "execution_count": 18,
   "metadata": {
    "pycharm": {
     "name": "#%%\n"
    },
    "slideshow": {
     "slide_type": "slide"
    }
   },
   "outputs": [],
   "source": [
    "def quitar_nodo(self, id_nodo):\n",
    "    # obtenemos el nodo actual\n",
    "    nodo = self.obtener_nodo(id_nodo)\n",
    "    if nodo:\n",
    "\n",
    "        # llamamos recursivamente a quitar nodos en los hijos del nodo actual\n",
    "        for nodo_hijo in nodo.hijos.copy():\n",
    "            self.quitar_nodo(nodo_hijo)\n",
    "        # Si nuestro nodo es hoja, lo quitamos de los hijos de su nodo padre\n",
    "        if not nodo.hijos and nodo.padre:\n",
    "            nodo.padre.hijos.pop(nodo.id_nodo)"
   ]
  },
  {
   "cell_type": "code",
   "execution_count": 19,
   "metadata": {
    "pycharm": {
     "name": "#%%\n"
    },
    "slideshow": {
     "slide_type": "slide"
    }
   },
   "outputs": [
    {
     "name": "stdout",
     "output_type": "stream",
     "text": [
      "id: 0, valor: 10\n",
      "   id: 1, valor: 8\n",
      "      id: 2, valor: 9\n",
      "         id: 8, valor: 4, nodo hoja\n",
      "   id: 3, valor: 12\n",
      "      id: 4, valor: 5\n",
      "         id: 7, valor: 8, nodo hoja\n",
      "      id: 5, valor: 14, nodo hoja\n",
      "      id: 6, valor: 20\n",
      "         id: 9, valor: 15, nodo hoja\n",
      "         id: 10, valor: 6, nodo hoja\n"
     ]
    }
   ],
   "source": [
    "#Poblamos el arbol\n",
    "\n",
    "T = Arbol(0, 10)\n",
    "T.agregar_nodo(1, 8, 0)\n",
    "T.agregar_nodo(3, 12, 0)\n",
    "T.agregar_nodo(2, 9, 1)\n",
    "T.agregar_nodo(4, 5, 3)\n",
    "T.agregar_nodo(5, 14, 3)\n",
    "T.agregar_nodo(6, 20, 3)\n",
    "T.agregar_nodo(8, 4, 2)\n",
    "T.agregar_nodo(7, 8, 4)\n",
    "T.agregar_nodo(9, 15, 6)\n",
    "T.agregar_nodo(10, 6, 6)\n",
    "\n",
    "print(T)"
   ]
  },
  {
   "cell_type": "code",
   "execution_count": 20,
   "metadata": {
    "pycharm": {
     "name": "#%%\n"
    },
    "slideshow": {
     "slide_type": "slide"
    }
   },
   "outputs": [
    {
     "name": "stdout",
     "output_type": "stream",
     "text": [
      "id: 0, valor: 10\n",
      "   id: 1, valor: 8\n",
      "      id: 2, valor: 9\n",
      "         id: 8, valor: 4, nodo hoja\n",
      "   id: 3, valor: 12\n",
      "      id: 4, valor: 5\n",
      "         id: 7, valor: 8, nodo hoja\n",
      "      id: 5, valor: 14, nodo hoja\n"
     ]
    }
   ],
   "source": [
    "# Quitamos un nodo\n",
    "\n",
    "\n",
    "T.quitar_nodo(6)\n",
    "print(T)"
   ]
  },
  {
   "cell_type": "markdown",
   "metadata": {
    "pycharm": {
     "name": "#%% md\n"
    },
    "slideshow": {
     "slide_type": "slide"
    }
   },
   "source": [
    "¿Como podemos recorrer todos los nodos de un árbol?\n",
    "![BFS-and-DFS-Algorithms.png](imagenes/BFS-and-DFS-Algorithms.png)"
   ]
  },
  {
   "cell_type": "markdown",
   "metadata": {
    "pycharm": {
     "name": "#%% md\n"
    },
    "slideshow": {
     "slide_type": "slide"
    }
   },
   "source": [
    "### [breadth](https://youtu.be/Z2USTsVr-KI?t=5) first search\n",
    "\n",
    "\"Busqueda amplitud primero\". Este algoritmo recorre el arbol por niveles de profundidad. Es decir,\n",
    "prioriza hermanos sobre hijos."
   ]
  },
  {
   "cell_type": "code",
   "execution_count": 21,
   "metadata": {
    "pycharm": {
     "name": "#%%\n"
    },
    "slideshow": {
     "slide_type": "slide"
    }
   },
   "outputs": [],
   "source": [
    "# Algoritmo visto en clases\n",
    "\n",
    "from collections import deque\n",
    "\n",
    "class ArbolBFS(Arbol):\n",
    "    \"\"\"Heredamos de la clase Arbol para hacerla iterable según el orden con BFS\"\"\"\n",
    "\n",
    "    def __iter__(self):\n",
    "        \"\"\"Recorre el árbol según BFS\"\"\"\n",
    "\n",
    "        # Utilizamos una cola para almacenar los nodos por visitar\n",
    "        cola = deque()\n",
    "\n",
    "        # El primer nodo a visitar será la raíz\n",
    "        cola.append(self)\n",
    "\n",
    "        # Mientras queden nodos por visitar en la cola\n",
    "        while len(cola) > 0:\n",
    "\n",
    "            # Extraemos el primero de la cola\n",
    "            nodo_actual = cola.popleft()\n",
    "            # Entregamos el nodo actual que se recorre\n",
    "            yield nodo_actual\n",
    "\n",
    "            # Agregamos todos los nodos hijos a la cola\n",
    "            for hijo in nodo_actual.hijos.values():\n",
    "                cola.append(hijo)\n",
    "\n"
   ]
  },
  {
   "cell_type": "code",
   "execution_count": 22,
   "metadata": {
    "pycharm": {
     "name": "#%%\n"
    },
    "slideshow": {
     "slide_type": "slide"
    }
   },
   "outputs": [],
   "source": [
    "   # Función externa a la clase, puede partir de cualquier nodo\n",
    "\n",
    "def recorrer_bfs(nodo):\n",
    "    # Utilizamos una cola para almacenar los nodos por visitar\n",
    "    cola = deque()\n",
    "\n",
    "    # Verificamos que existe el nodo y lo agregamos a la cola\n",
    "    if nodo:\n",
    "        cola.append(nodo)\n",
    "\n",
    "    # Mientras queden nodos por visitar en la cola\n",
    "    while len(cola) > 0:\n",
    "\n",
    "        # Extraemos el primero de la cola\n",
    "        nodo_actual = cola.popleft()\n",
    "        # Entregamos el nodo actual que se recorre\n",
    "        yield nodo_actual\n",
    "\n",
    "        # Agregamos todos los nodos hijos a la cola\n",
    "        for hijo in nodo_actual.hijos.values():\n",
    "            cola.append(hijo)\n",
    "\n"
   ]
  },
  {
   "cell_type": "code",
   "execution_count": 23,
   "metadata": {
    "pycharm": {
     "name": "#%%\n"
    },
    "slideshow": {
     "slide_type": "slide"
    }
   },
   "outputs": [
    {
     "name": "stdout",
     "output_type": "stream",
     "text": [
      "0\n",
      "1\n",
      "3\n",
      "2\n",
      "4\n",
      "5\n",
      "8\n",
      "7\n"
     ]
    }
   ],
   "source": [
    "for nodo in recorrer_bfs(T):\n",
    "    print(nodo.id_nodo)"
   ]
  },
  {
   "cell_type": "code",
   "execution_count": 24,
   "metadata": {
    "pycharm": {
     "name": "#%%\n"
    },
    "slideshow": {
     "slide_type": "subslide"
    }
   },
   "outputs": [
    {
     "name": "stdout",
     "output_type": "stream",
     "text": [
      "id: 0, valor: 10\n",
      "   id: 1, valor: 8\n",
      "      id: 2, valor: 9\n",
      "         id: 8, valor: 4, nodo hoja\n",
      "   id: 3, valor: 12\n",
      "      id: 4, valor: 5\n",
      "         id: 7, valor: 8, nodo hoja\n",
      "      id: 5, valor: 14, nodo hoja\n"
     ]
    }
   ],
   "source": [
    "print(T)"
   ]
  },
  {
   "cell_type": "markdown",
   "metadata": {
    "slideshow": {
     "slide_type": "slide"
    }
   },
   "source": [
    "### depth first search\n",
    "\n",
    "\"Busqueda profundidad primero\". Este algoritmo recorre el arbol por ramas. Es decir, prioriza hijos sobre hermanos."
   ]
  },
  {
   "cell_type": "code",
   "execution_count": 25,
   "metadata": {
    "pycharm": {
     "name": "#%%\n"
    },
    "slideshow": {
     "slide_type": "subslide"
    }
   },
   "outputs": [],
   "source": [
    "# Algoritmo visto en clases\n",
    "\n",
    "from collections import deque\n",
    "\n",
    "class ArbolDFSRecursivo(Arbol):\n",
    "    \"\"\"Heredamos de la clase Arbol para hacerla iterable según el orden con DFS recursivo\"\"\"\n",
    "\n",
    "    def __iter__(self):\n",
    "        \"\"\"Recorrde el árbol según DFS recursivo\"\"\"\n",
    "\n",
    "        # Visitamos el nodo actual\n",
    "        yield self\n",
    "\n",
    "        # Aplicamos esto recursivamente a cada subarbol\n",
    "        for subarbol in self.hijos.values():\n",
    "            yield from subarbol"
   ]
  },
  {
   "cell_type": "code",
   "execution_count": 26,
   "metadata": {
    "pycharm": {
     "name": "#%%\n"
    },
    "slideshow": {
     "slide_type": "slide"
    }
   },
   "outputs": [],
   "source": [
    "# Función externa\n",
    "\n",
    "def recorrer_dfs(nodo):\n",
    "\n",
    "    # Verificamos que el nodo existe\n",
    "\n",
    "    if nodo:\n",
    "\n",
    "    # Visitamos el nodo actual\n",
    "        yield nodo\n",
    "\n",
    "    # Aplicamos esto recursivamente a cada subarbol\n",
    "        for subarbol in nodo.hijos.values():\n",
    "            yield from recorrer_dfs(subarbol)"
   ]
  },
  {
   "cell_type": "code",
   "execution_count": 27,
   "metadata": {
    "pycharm": {
     "name": "#%%\n"
    },
    "slideshow": {
     "slide_type": "slide"
    }
   },
   "outputs": [
    {
     "name": "stdout",
     "output_type": "stream",
     "text": [
      "0\n",
      "1\n",
      "2\n",
      "8\n",
      "3\n",
      "4\n",
      "7\n",
      "5\n"
     ]
    }
   ],
   "source": [
    "for nodo in recorrer_dfs(T):\n",
    "    print(nodo.id_nodo)"
   ]
  },
  {
   "cell_type": "code",
   "execution_count": 28,
   "metadata": {
    "pycharm": {
     "name": "#%%\n"
    },
    "slideshow": {
     "slide_type": "subslide"
    }
   },
   "outputs": [
    {
     "name": "stdout",
     "output_type": "stream",
     "text": [
      "id: 0, valor: 10\n",
      "   id: 1, valor: 8\n",
      "      id: 2, valor: 9\n",
      "         id: 8, valor: 4, nodo hoja\n",
      "   id: 3, valor: 12\n",
      "      id: 4, valor: 5\n",
      "         id: 7, valor: 8, nodo hoja\n",
      "      id: 5, valor: 14, nodo hoja\n"
     ]
    }
   ],
   "source": [
    "print(T)"
   ]
  },
  {
   "cell_type": "markdown",
   "metadata": {
    "slideshow": {
     "slide_type": "slide"
    }
   },
   "source": [
    "### Arboles binarios *\n",
    "\n",
    "![arbol_decisiones.png](imagenes/arbol_decisiones.png)"
   ]
  },
  {
   "cell_type": "markdown",
   "metadata": {
    "pycharm": {
     "name": "#%% md\n"
    },
    "slideshow": {
     "slide_type": "slide"
    }
   },
   "source": [
    "## Ejemplo\n",
    "### Arbol genealógico"
   ]
  },
  {
   "cell_type": "code",
   "execution_count": 29,
   "metadata": {
    "pycharm": {
     "name": "#%%\n"
    },
    "slideshow": {
     "slide_type": "slide"
    }
   },
   "outputs": [
    {
     "name": "stdout",
     "output_type": "stream",
     "text": [
      "1 Arcadio\n",
      "2 Aureliano 1 - Padre: Arcadio\n",
      "3 Aureliano 2 - Padre: Arcadio\n",
      "4 Aureliano 3 - Padre: Arcadio\n",
      "5 Aureliano Hijo 1 - Padre: Aureliano 1\n",
      "6 Aureliano Hijo 2 - Padre: Aureliano 1\n",
      "7 Aureliano Hijo 3 - Padre: Aureliano 2\n",
      "1 Arcadio\n",
      "2 Aureliano 1 - Padre: Arcadio\n",
      "3 Aureliano Hijo 1 - Padre: Aureliano 1\n",
      "4 Aureliano Jr. 1  - Padre: Aureliano Hijo 1\n",
      "5 Aureliano Pirata  - Padre: Aureliano Jr. 1\n"
     ]
    }
   ],
   "source": [
    "from collections import deque\n",
    "\n",
    "\n",
    "class ArbolGenealogico:\n",
    "    def __init__(self, id_persona, nombre, padre=None):\n",
    "        self.id_persona = id_persona\n",
    "        self.nombre = nombre\n",
    "        self.padre = padre\n",
    "        self.hijos = {}\n",
    "\n",
    "    def obtener_nodo(self, id_persona):\n",
    "        if self.id_persona == id_persona:\n",
    "            return self\n",
    "        for hijo in self.hijos.values():\n",
    "            nodo_obtenido = hijo.obtener_nodo(id_persona)\n",
    "            if nodo_obtenido is not None:\n",
    "                return nodo_obtenido\n",
    "        return None\n",
    "\n",
    "    def reconocer_hijo(self, id_padre, id_hijo, nombre_hijo):\n",
    "        padre = self.obtener_nodo(id_padre)\n",
    "        if padre is None:\n",
    "            return\n",
    "        nuevo_nodo = ArbolGenealogico(id_hijo, nombre_hijo, padre)\n",
    "        padre.hijos[id_hijo] = nuevo_nodo\n",
    "\n",
    "    def soy_aureliano_hoja(self):\n",
    "        \"\"\"Método que devuelve True si es que el nodo tiene como primer nombre Aureliano y además\n",
    "        es un nodo hoja\"\"\"\n",
    "\n",
    "        # Obtenemos el primer nombre del nodo\n",
    "        primer_nombre = self.nombre.split(' ')[0]\n",
    "        # Si el nodo no tiene hijos y su primer nombre es Aureliano, entonces retornamos True.\n",
    "        if not self.hijos and primer_nombre == 'Aureliano':\n",
    "            return True\n",
    "        else:\n",
    "            return False\n",
    "\n",
    "    def ultimo_aureliano_bfs(self):\n",
    "        \"\"\"Método que recorre el arbol utilizando BFS, con la condición de que al encontrar\n",
    "        un Aureliano sin descendencia se termina el recorrido\"\"\"\n",
    "\n",
    "        # Utilizamos el mismo método visto en clases\n",
    "        cola = deque()\n",
    "        cola.append(self)\n",
    "        while len(cola) > 0:\n",
    "            nodo_actual = cola.popleft()\n",
    "            yield nodo_actual\n",
    "            # En el caso de que el nodo actual cumpla las condiciones, terminamos el recorrido\n",
    "            if nodo_actual.soy_aureliano_hoja():\n",
    "                break\n",
    "            for hijo in nodo_actual.hijos.values():\n",
    "                cola.append(hijo)\n",
    "\n",
    "    def ultimo_aureliano_dfs(self):\n",
    "        \"\"\"Método que recorre el arbol utilizando DFS, con la condición de que al encontrar\n",
    "        un Aureliano sin descendencia se termina el recorrido\"\"\"\n",
    "\n",
    "        yield self\n",
    "        # Despues de devolver el nodo en la iteración, revisamos si el nodo cumple la condición. Si\n",
    "        # es que se cumple, retornamos True.\n",
    "        if self.soy_aureliano_hoja():\n",
    "            return True\n",
    "        for subarbol in self.hijos.values():\n",
    "            # El valor de la variable encontrado será None hasta que se encuentre un nodo indicado.\n",
    "            # En ese caso, se devuelve True en todas las subrutinas, terminandolas.\n",
    "            encontrado = yield from subarbol.ultimo_aureliano_dfs()\n",
    "            if encontrado:\n",
    "                return True\n",
    "\n",
    "    def mostrar_linea(self, id_persona):\n",
    "        \"\"\"Metodo que a partir del id de un nodo/persona, devuelve todos los nodos padre desde la\n",
    "        raíz hasta él\"\"\"\n",
    "\n",
    "        # Obtenemos el nodo pedido y devolvemos sus ancestros.\n",
    "        persona = self.obtener_nodo(id_persona)\n",
    "        return persona.ancestros()\n",
    "\n",
    "    def ancestros(self):\n",
    "        # Si es que el nodo actual no tiene padre, entonces llegamos a la raíz (caso base)\n",
    "        if not self.padre:\n",
    "            # Devolvemos una lista nueva con el nombre de la raíz insertada\n",
    "            return [self.nombre]\n",
    "        # Llamamos recursivamente el método ancestros hasta llegar a la raíz\n",
    "        lista_ancestos = self.padre.ancestros()\n",
    "        # A la lista recibida le agregamos el nombre del nodo actual y la retornamos\n",
    "        lista_ancestos.append(self.nombre)\n",
    "        return lista_ancestos\n",
    "\n",
    "    def __str__(self):\n",
    "        if self.padre:\n",
    "            nombre_padre = self.padre.nombre\n",
    "        else:\n",
    "            nombre_padre = \"No tiene :c\"\n",
    "        string = f\"Nombre: {self.nombre} | Padre: {nombre_padre}\"\n",
    "        return string\n",
    "\n",
    "\n",
    "arbol = ArbolGenealogico(0, 'Arcadio')\n",
    "arbol.reconocer_hijo(0, 1, 'Aureliano 1')\n",
    "arbol.reconocer_hijo(0, 2, 'Aureliano 2')\n",
    "arbol.reconocer_hijo(0, 3, 'Aureliano 3')\n",
    "arbol.reconocer_hijo(1, 4, 'Aureliano Hijo 1')\n",
    "arbol.reconocer_hijo(1, 5, 'Aureliano Hijo 2')\n",
    "arbol.reconocer_hijo(2, 6, 'Hureliano')\n",
    "arbol.reconocer_hijo(3, 7, 'Aureliano Hijo 4')\n",
    "arbol.reconocer_hijo(3, 8, 'Aureliano Hijo 5')\n",
    "arbol.reconocer_hijo(3, 9, 'Haureliano Pulento')\n",
    "arbol.reconocer_hijo(4, 10, 'Aureliano Jr. 1')\n",
    "arbol.reconocer_hijo(4, 11, 'Aureliano Jr. 2')\n",
    "arbol.reconocer_hijo(5, 12, 'Haureliano Pulento Jr.')\n",
    "arbol.reconocer_hijo(10, 13, 'Not aureliano')\n",
    "\n",
    "print(\"Busqueda BFS\")\n",
    "for indice, nodo in enumerate(arbol.ultimo_aureliano_bfs()):\n",
    "    print(f\"N. Iteracion: {indice+1} | {nodo}\")\n",
    "print()\n",
    "print(\"Busqueda DFS\")\n",
    "for indice, nodo in enumerate(arbol.ultimo_aureliano_dfs()):\n",
    "    print(f\"N. Iteracion: {indice+1} | {nodo}\")\n"
   ]
  },
  {
   "cell_type": "code",
   "execution_count": null,
   "metadata": {},
   "outputs": [],
   "source": []
  }
 ],
 "metadata": {
  "celltoolbar": "Slideshow",
  "kernelspec": {
   "display_name": "Python 3",
   "language": "python",
   "name": "python3"
  },
  "language_info": {
   "codemirror_mode": {
    "name": "ipython",
    "version": 3
   },
   "file_extension": ".py",
   "mimetype": "text/x-python",
   "name": "python",
   "nbconvert_exporter": "python",
   "pygments_lexer": "ipython3",
   "version": "3.6.9"
  }
 },
 "nbformat": 4,
 "nbformat_minor": 1
}
