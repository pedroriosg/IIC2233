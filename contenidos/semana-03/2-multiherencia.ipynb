{
 "cells": [
  {
   "cell_type": "markdown",
   "metadata": {},
   "source": [
    "<p>\n",
    "<font size='5' face='Georgia, Arial'>IIC2233 Apunte Programación Avanzada</font><br>\n",
    "<font size='1'>Basado en: &copy; 2015 Karim Pichara - Christian Pieringer. Todos los derechos reservados. Modificado el 2018-1, 2018-2, 2019-2, 2020-1 y 2020-2 por Equipo IIC2233</font>\n",
    "</p>"
   ]
  },
  {
   "cell_type": "markdown",
   "metadata": {},
   "source": [
    "# Tabla de contenidos\n",
    "1. [Multiherencia](#Multiherencia)\n",
    "    1. [Multiherencia y el problema del diamante](#Multiherencia-y-el-problema-del-diamante)\n",
    "        1. [Solución](#Solución)\n",
    "        2. [El método `__mro__`](#Obteniendo-el-orden-de-herencia:-el-método-__mro__)\n",
    "    2. [Ejemplo multiherencia](#Ejemplo-multiherencia:-clase-Academico)\n",
    "        1. [Solución](#Ejemplo:-solución-para-clase-Académico)"
   ]
  },
  {
   "cell_type": "markdown",
   "metadata": {},
   "source": [
    "# Multiherencia\n",
    "\n",
    "Tal como es posible que una subclase herede datos y comportamiento de una superclase, también es posible heredar\n",
    "de más de una clase a la vez. Esto se conoce en OOP como **multiherencia**.\n",
    "\n",
    "Supongamos una clase `Academico`. Un académico posee dos roles: investigador y docente, por lo tanto en nuestro modelo reflejaremos este hecho haciendo que `Academico` herede de las clases ya existentes `Investigador` y `Docente`. Esto lo implementaríamos de la siguiente manera."
   ]
  },
  {
   "cell_type": "code",
   "execution_count": 1,
   "metadata": {},
   "outputs": [
    {
     "name": "stdout",
     "output_type": "stream",
     "text": [
      "Emilia Donoso\n",
      "Inteligencia de Máquina\n",
      "Ciencia De La Computación\n"
     ]
    }
   ],
   "source": [
    "class Investigador:\n",
    "\n",
    "    def __init__(self, area):\n",
    "        self.area = area\n",
    "        self.num_publicaciones = 0\n",
    "\n",
    "\n",
    "class Docente:\n",
    "\n",
    "    def __init__(self, departamento):\n",
    "        self.departamento = departamento\n",
    "        self.num_cursos = 3\n",
    "        \n",
    "\n",
    "# Aquí decimos que Academico hereda tanto de Docente como de Investigador\n",
    "class Academico(Docente, Investigador):\n",
    "    \n",
    "    def __init__(self, nombre, oficina, area_investigacion, departamento):\n",
    "        # Esto no es del todo correcto, pero lo explicamos más abajo.\n",
    "        Investigador.__init__(self, area_investigacion)\n",
    "        Docente.__init__(self, departamento)\n",
    "        self.nombre = nombre\n",
    "        self.oficina = oficina\n",
    "\n",
    "        \n",
    "p1 = Academico(\"Emilia Donoso\", \"O-5\", \"Inteligencia de Máquina\", \"Ciencia De La Computación\")\n",
    "print(p1.nombre)\n",
    "print(p1.area)\n",
    "print(p1.departamento)"
   ]
  },
  {
   "cell_type": "markdown",
   "metadata": {},
   "source": [
    "Este diseño se refleja en slguiente diagrama:\n",
    "    \n",
    "![Diamante](img/OOP_multiherencia.png)"
   ]
  },
  {
   "cell_type": "markdown",
   "metadata": {},
   "source": [
    "En este ejemplo, como la clase `Academico` hereda tanto de `Docente` como de `Investigador`, parece natural llamar a ambos métodos `__init()__` de cada una de sus clases superiores. Sin embargo esto, puede provocar problemas en modelos más complejos."
   ]
  },
  {
   "cell_type": "markdown",
   "metadata": {},
   "source": [
    "## Multiherencia y el problema del diamante\n",
    "\n",
    "El siguiente ejemplo muestra lo que ocurre en un contexto de multiherencia si es que cada subclase llama directamente a inicializar a todas sus superclases. La figura muestra una jerarquía de clases en que una `SubclaseA` hereda de dos superclases donde, a su vez, ambas derivan de una misma `ClaseB`. A este modelo que se forma le llamamos _jerarquía de **diamante**_.\n",
    "\n",
    "![Diamante](img/diamante_small.png)"
   ]
  },
  {
   "cell_type": "markdown",
   "metadata": {},
   "source": [
    "Tenemos una jerarquía de diamante cada vez que tenemos más de un _camino_ en la jerarquía desde la clase inferior a una clase superior.\n",
    "\n",
    "Veamos qué ocurre cuando llamamos al método `llamar()` en ambas superclases desde la clase `SubClaseA`."
   ]
  },
  {
   "cell_type": "code",
   "execution_count": 2,
   "metadata": {},
   "outputs": [
    {
     "name": "stdout",
     "output_type": "stream",
     "text": [
      "Estoy en Subclase A\n",
      "Estoy en Subclase Izquierda\n",
      "Llamando método en Clase B\n",
      "Llamando método en Subclase Izquierda\n",
      "Estoy en Subclase Derecha\n",
      "Llamando método en Clase B\n",
      "Llamando método en Subclase Derecha\n",
      "Llamando método en Subclase A\n",
      "\n",
      "Llamadas en Subclase A: 1\n",
      "Llamadas en Subclase Izquierda: 1\n",
      "Llamadas en Subclase Derecha: 1\n",
      "Llamadas en Clase B: 2\n"
     ]
    }
   ],
   "source": [
    "class ClaseB:\n",
    "    \n",
    "    num_llamadas_B = 0\n",
    "    \n",
    "    def llamar(self):\n",
    "        print(\"Llamando método en Clase B\")\n",
    "        self.num_llamadas_B += 1\n",
    "\n",
    "\n",
    "class SubClaseIzquierda(ClaseB):\n",
    "    \n",
    "    num_llamadas_izq = 0\n",
    "    \n",
    "    def llamar(self):\n",
    "        print(\"Estoy en Subclase Izquierda\")\n",
    "        ClaseB.llamar(self)\n",
    "        print(\"Llamando método en Subclase Izquierda\")\n",
    "        self.num_llamadas_izq += 1\n",
    "\n",
    "\n",
    "class SubClaseDerecha(ClaseB):\n",
    "    \n",
    "    num_llamadas_der = 0\n",
    "    \n",
    "    def llamar(self):\n",
    "        print(\"Estoy en Subclase Derecha\")\n",
    "        ClaseB.llamar(self)\n",
    "        print(\"Llamando método en Subclase Derecha\")\n",
    "        self.num_llamadas_der += 1\n",
    "\n",
    "\n",
    "class SubClaseA(SubClaseIzquierda, SubClaseDerecha):\n",
    "    \n",
    "    num_llamadas_subA = 0\n",
    "    \n",
    "    def llamar(self):\n",
    "        print(\"Estoy en Subclase A\")        \n",
    "        SubClaseIzquierda.llamar(self)\n",
    "        SubClaseDerecha.llamar(self)\n",
    "        print(\"Llamando método en Subclase A\")\n",
    "        self.num_llamadas_subA += 1\n",
    "\n",
    "\n",
    "s = SubClaseA()\n",
    "s.llamar()\n",
    "print()\n",
    "print(f\"Llamadas en Subclase A: {s.num_llamadas_subA}\")\n",
    "print(f\"Llamadas en Subclase Izquierda: {s.num_llamadas_izq}\")\n",
    "print(f\"Llamadas en Subclase Derecha: {s.num_llamadas_der}\")\n",
    "print(f\"Llamadas en Clase B: {s.num_llamadas_B}\")"
   ]
  },
  {
   "cell_type": "markdown",
   "metadata": {},
   "source": [
    "Podemos apreciar que el método `llamar` de la clase de más arriba en la jerarquía (`ClaseB`) fue llamada dos veces. Luego de cada ejecución de `llamar`, la secuencia de invocaciones sube por la jerarquía hasta el método correspondiente en `ClaseB`.\n",
    "\n",
    "La estructura de jerarquía en forma de diamante ocurre **siempre** que tengamos una clase que hereda de dos clases, aun cuando no tengamos una tercera superclase explícita. ¿Por qué? Porque en Python (y en varios lenguajes OOP), existe una clase [`object`](https://docs.python.org/3.7/library/functions.html#object) de la cual heredan **todas** las clases que creamos. \n",
    "\n",
    "En particular, cuando se utiliza multiherencia, el esquema se ve de la siguiente forma:\n",
    "\n",
    "![Diamante2](img/diamante_2_small.png)\n",
    "\n",
    "De esta manera, si, estando en un objeto de `SubClase`, llamamos al método `__init__` tanto de `ClaseA` como de `ClaseB`, estaríamos inicializando dos veces la clase `object`. Eso es precisamente lo que ocurre en el ejemplo de clase `Academico`, la cual llama explícitamente al inicializador de `Investigador` y de `Docente`, lo que tiene como consecuencia que la clase `object` se inicializa dos veces.\n"
   ]
  },
  {
   "cell_type": "markdown",
   "metadata": {},
   "source": [
    "### Solución\n",
    "\n",
    "La solución es que cada clase debe preocuparse de llamar a inicializar a la clase que la \"precede\" en el orden del esquema de la multiherencia. En Python, cada jerarquía posee un orden predefinido por la construcción de la jerarquía. El orden de las clases va **de izquierda a derecha** dentro de la lista de superclases desde donde hereda la subclase. \n",
    "\n",
    "En el siguiente ejemplo, basado en la primera jerarquía de diamante que presentamos, sólo debemos preocuparnos de hacer una llamada a `super()`. Python se encargará de que la llamada corresponda a la clase que respeta el orden en la multiherencia."
   ]
  },
  {
   "cell_type": "code",
   "execution_count": 3,
   "metadata": {},
   "outputs": [
    {
     "name": "stdout",
     "output_type": "stream",
     "text": [
      "Estoy en Subclase A\n",
      "Estoy en Subclase Izquierda\n",
      "Estoy en Subclase Derecha\n",
      "Llamando método en Clase B\n",
      "Llamando método en Subclase Derecha\n",
      "Llamando método en Subclase Izquierda\n",
      "Llamando método en Subclase A\n",
      "\n",
      "Llamadas en Subclase A: 1\n",
      "Llamadas en Subclase Izquierda: 1\n",
      "Llamadas en Subclase Derecha: 1\n",
      "Llamadas en Clase B: 1\n"
     ]
    }
   ],
   "source": [
    "class ClaseB:\n",
    "    \n",
    "    num_llamadas_B = 0\n",
    "    \n",
    "    def llamar(self):\n",
    "        print(\"Llamando método en Clase B\")\n",
    "        self.num_llamadas_B += 1\n",
    "\n",
    "\n",
    "class SubClaseIzquierda(ClaseB):\n",
    "    \n",
    "    num_llamadas_izq = 0\n",
    "    \n",
    "    def llamar(self):\n",
    "        print(\"Estoy en Subclase Izquierda\")\n",
    "        super().llamar()\n",
    "        print(\"Llamando método en Subclase Izquierda\")\n",
    "        self.num_llamadas_izq += 1\n",
    "\n",
    "\n",
    "class SubClaseDerecha(ClaseB):\n",
    "    \n",
    "    num_llamadas_der = 0\n",
    "    \n",
    "    def llamar(self):\n",
    "        print(\"Estoy en Subclase Derecha\")\n",
    "        super().llamar()\n",
    "        print(\"Llamando método en Subclase Derecha\")\n",
    "        self.num_llamadas_der += 1\n",
    "\n",
    "\n",
    "class SubClaseA(SubClaseIzquierda, SubClaseDerecha):\n",
    "    \n",
    "    num_llamadas_subA = 0\n",
    "    \n",
    "    def llamar(self):\n",
    "        print(\"Estoy en Subclase A\")\n",
    "        super().llamar()\n",
    "        print(\"Llamando método en Subclase A\")\n",
    "        self.num_llamadas_subA += 1\n",
    "\n",
    "\n",
    "s = SubClaseA()\n",
    "s.llamar()\n",
    "print()\n",
    "print(f\"Llamadas en Subclase A: {s.num_llamadas_subA}\")\n",
    "print(f\"Llamadas en Subclase Izquierda: {s.num_llamadas_izq}\")\n",
    "print(f\"Llamadas en Subclase Derecha: {s.num_llamadas_der}\")\n",
    "print(f\"Llamadas en Clase B: {s.num_llamadas_B}\")"
   ]
  },
  {
   "cell_type": "markdown",
   "metadata": {},
   "source": [
    "Podemos ver que esta vez estamos llamando solamente una vez al método `llamar` de `ClaseB`. Es más, si bien el diamante sigue existiendo, esta vez bastó ejecutar solo una vez el método `llamar` de `SubclaseA`, y conseguimos ejecutar el método `llamar` de todas las clases, y solamente una vez cada uno. \n",
    "\n",
    "Si ponemos atención a la secuencia de llamados, pareciera que hay un _orden_ impuesto entre las clases que componen el diamante. Este orden es: primero `SubClaseA`, luego `SubClaseIzquierda`, a continuación `SubClaseDerecha`, y finalmente `ClaseB`."
   ]
  },
  {
   "cell_type": "markdown",
   "metadata": {},
   "source": [
    "### Obteniendo el orden de herencia: el método `__mro__` \n",
    "\n",
    "La solución para determinar en qué orden se ejecutan los métodos en un esquema de multiherencia, se estableció mediante un algoritmo llamado [**C3**](https://www.python.org/download/releases/2.3/mro/) que permite calcular un orden lineal entre las clases que participan del esquema. Este algoritmo puede ser ejecutado por todas las clases de Python usando el método predefinido **`__mro__`**, cuyo nombre viene de _method resolution order_. Este método nos muestra el orden en la jerarquía de clases a partir de la clase actual. Es útil para casos de multiherencia complejos."
   ]
  },
  {
   "cell_type": "code",
   "execution_count": 4,
   "metadata": {},
   "outputs": [
    {
     "data": {
      "text/plain": [
       "(__main__.SubClaseA,\n",
       " __main__.SubClaseIzquierda,\n",
       " __main__.SubClaseDerecha,\n",
       " __main__.ClaseB,\n",
       " object)"
      ]
     },
     "execution_count": 4,
     "metadata": {},
     "output_type": "execute_result"
    }
   ],
   "source": [
    "SubClaseA.__mro__"
   ]
  },
  {
   "cell_type": "markdown",
   "metadata": {},
   "source": [
    "Notemos que el resultado de `__mro__` depende de la clase a la cual se aplica. Si lo aplicamos a `SubClaseIzquierda`, entonces su MRO no incluye a `SubClaseDerecha` pues ésta no es parte de su jerarquía."
   ]
  },
  {
   "cell_type": "code",
   "execution_count": 5,
   "metadata": {},
   "outputs": [
    {
     "data": {
      "text/plain": [
       "(__main__.SubClaseIzquierda, __main__.ClaseB, object)"
      ]
     },
     "execution_count": 5,
     "metadata": {},
     "output_type": "execute_result"
    }
   ],
   "source": [
    "SubClaseIzquierda.__mro__"
   ]
  },
  {
   "cell_type": "markdown",
   "metadata": {},
   "source": [
    "Ahora bien, **no toda estructura de multiherencia está permitida**. No es tan difícil armar una jerarquía en que no sea posible armar un MRO consistente para todas las clases. Por ejemplo:"
   ]
  },
  {
   "cell_type": "code",
   "execution_count": 6,
   "metadata": {},
   "outputs": [
    {
     "ename": "TypeError",
     "evalue": "Cannot create a consistent method resolution\norder (MRO) for bases X, Y",
     "output_type": "error",
     "traceback": [
      "\u001b[0;31m---------------------------------------------------------------------------\u001b[0m",
      "\u001b[0;31mTypeError\u001b[0m                                 Traceback (most recent call last)",
      "\u001b[0;32m<ipython-input-6-dea1db516312>\u001b[0m in \u001b[0;36m<module>\u001b[0;34m\u001b[0m\n\u001b[1;32m     15\u001b[0m         \u001b[0mprint\u001b[0m\u001b[0;34m(\u001b[0m\u001b[0;34m\"soy B\"\u001b[0m\u001b[0;34m)\u001b[0m\u001b[0;34m\u001b[0m\u001b[0;34m\u001b[0m\u001b[0m\n\u001b[1;32m     16\u001b[0m \u001b[0;34m\u001b[0m\u001b[0m\n\u001b[0;32m---> 17\u001b[0;31m \u001b[0;32mclass\u001b[0m \u001b[0mF\u001b[0m\u001b[0;34m(\u001b[0m\u001b[0mA\u001b[0m\u001b[0;34m,\u001b[0m \u001b[0mB\u001b[0m\u001b[0;34m)\u001b[0m\u001b[0;34m:\u001b[0m\u001b[0;34m\u001b[0m\u001b[0;34m\u001b[0m\u001b[0m\n\u001b[0m\u001b[1;32m     18\u001b[0m     \u001b[0;32mdef\u001b[0m \u001b[0mcall_me\u001b[0m\u001b[0;34m(\u001b[0m\u001b[0mself\u001b[0m\u001b[0;34m)\u001b[0m\u001b[0;34m:\u001b[0m\u001b[0;34m\u001b[0m\u001b[0;34m\u001b[0m\u001b[0m\n\u001b[1;32m     19\u001b[0m         \u001b[0mprint\u001b[0m\u001b[0;34m(\u001b[0m\u001b[0;34m\"soy F\"\u001b[0m\u001b[0;34m)\u001b[0m\u001b[0;34m\u001b[0m\u001b[0;34m\u001b[0m\u001b[0m\n",
      "\u001b[0;31mTypeError\u001b[0m: Cannot create a consistent method resolution\norder (MRO) for bases X, Y"
     ]
    }
   ],
   "source": [
    "class X():\n",
    "    def call_me(self):\n",
    "        print(\"soy X\")\n",
    "    \n",
    "class Y():\n",
    "    def call_me(self):\n",
    "        print(\"soy Y\")\n",
    "    \n",
    "class A(X, Y):\n",
    "    def call_me(self):\n",
    "        print(\"soy A\")\n",
    "    \n",
    "class B(Y, X):\n",
    "     def call_me(self):\n",
    "        print(\"soy B\")\n",
    "\n",
    "class F(A, B):\n",
    "    def call_me(self):\n",
    "        print(\"soy F\")"
   ]
  },
  {
   "cell_type": "markdown",
   "metadata": {},
   "source": [
    "En este ejemplo, tanto `A` como `B` heredan de `X` e `Y` pero en distinto orden. Esto no es un problema hasta que se define la clase `F` que hereda de `A` y de `B`. En este momento Python prohibe la creación de la clase pues no puede determinar un MRO consistente para llegar a `X` e `Y`.\n",
    "\n",
    "Para este caso, basta modificar `A` y `B` para que hereden de la misma manera, y ahora sí se puede determinar un MRO."
   ]
  },
  {
   "cell_type": "code",
   "execution_count": 7,
   "metadata": {},
   "outputs": [
    {
     "name": "stdout",
     "output_type": "stream",
     "text": [
      "(<class '__main__.F'>, <class '__main__.A'>, <class '__main__.B'>, <class '__main__.X'>, <class '__main__.Y'>, <class 'object'>)\n"
     ]
    }
   ],
   "source": [
    "class X():\n",
    "    def call_me(self):\n",
    "        print(\"soy X\")\n",
    "    \n",
    "class Y():\n",
    "    def call_me(self):\n",
    "        print(\"soy Y\")\n",
    "    \n",
    "class A(X, Y):\n",
    "    def call_me(self):\n",
    "        print(\"soy A\")\n",
    "    \n",
    "class B(X, Y):\n",
    "     def call_me(self):\n",
    "        print(\"soy B\")\n",
    "\n",
    "class F(A, B):\n",
    "    def call_me(self):\n",
    "        print(\"soy F\")\n",
    "        \n",
    "print(F.__mro__)"
   ]
  },
  {
   "cell_type": "markdown",
   "metadata": {},
   "source": [
    "## Ejemplo multiherencia: clase `Academico`\n",
    "\n",
    "Recordemos el ejemplo del académico que presentamos al inicio del tema de multiherencia. Si bien el ejemplo parece funcionar bien, ahora sabemos que si llamamos por separado a cada inicializador de las superclases, estamos llamando dos veces al inicializador de `object`, y no queremos que esto ocurra.\n",
    "\n",
    "El diseño actualizado se ve así:\n",
    "\n",
    "![Diamante](img/OOP_multiherencia2.png)"
   ]
  },
  {
   "cell_type": "code",
   "execution_count": 8,
   "metadata": {},
   "outputs": [
    {
     "name": "stdout",
     "output_type": "stream",
     "text": [
      "Emilia Donoso\n",
      "Inteligencia de Máquina\n",
      "Ciencia De La Computación\n"
     ]
    }
   ],
   "source": [
    "class Investigador:\n",
    "\n",
    "    def __init__(self, area):\n",
    "        self.area = area\n",
    "        self.num_publicaciones = 0\n",
    "\n",
    "\n",
    "class Docente:\n",
    "\n",
    "    def __init__(self, departamento):\n",
    "        self.departamento = departamento\n",
    "        self.num_cursos = 3\n",
    "\n",
    "\n",
    "class Academico(Docente, Investigador):\n",
    "\n",
    "    def __init__(self, nombre, oficina, area_investigacion, departamento):\n",
    "        # Reemplacemos esto por un super().__init__(...)\n",
    "        Investigador.__init__(self, area_investigacion)\n",
    "        Docente.__init__(self, departamento)\n",
    "        self.nombre = nombre\n",
    "        self.oficina = oficina\n",
    "\n",
    "\n",
    "p1 = Academico(\"Emilia Donoso\", \"O-5\", \"Inteligencia de Máquina\", \"Ciencia De La Computación\")\n",
    "print(p1.nombre)\n",
    "print(p1.area)\n",
    "print(p1.departamento)"
   ]
  },
  {
   "cell_type": "markdown",
   "metadata": {},
   "source": [
    "La solución, tal como lo hicimos con el método `llamar()` de la sección anterior, debería ser reemplazar las inicializaciones explícitas de `Investigador` y `Docente`, por un único llamado a `super().__init__()`, y así dejamos que MRO haga su trabajo.\n",
    "\n",
    "Sin embargo, tenemos una situación levemente distinta. ¿Qué argumentos le entregamos a `super().__init__()`? Si le entregamos solamente los de `Investigador` o solamente los de `Docente`, uno de los inicializadores se quedaría sin argumentos."
   ]
  },
  {
   "cell_type": "code",
   "execution_count": 9,
   "metadata": {},
   "outputs": [
    {
     "name": "stdout",
     "output_type": "stream",
     "text": [
      "(<class '__main__.Academico'>, <class '__main__.Docente'>, <class '__main__.Investigador'>, <class 'object'>)\n",
      "Inicializando docente\n",
      "Emilia Donoso\n"
     ]
    },
    {
     "ename": "AttributeError",
     "evalue": "'Academico' object has no attribute 'area'",
     "output_type": "error",
     "traceback": [
      "\u001b[0;31m---------------------------------------------------------------------------\u001b[0m",
      "\u001b[0;31mAttributeError\u001b[0m                            Traceback (most recent call last)",
      "\u001b[0;32m<ipython-input-9-d5532c6897f5>\u001b[0m in \u001b[0;36m<module>\u001b[0;34m\u001b[0m\n\u001b[1;32m     27\u001b[0m \u001b[0mp1\u001b[0m \u001b[0;34m=\u001b[0m \u001b[0mAcademico\u001b[0m\u001b[0;34m(\u001b[0m\u001b[0;34m\"Emilia Donoso\"\u001b[0m\u001b[0;34m,\u001b[0m \u001b[0;34m\"O-5\"\u001b[0m\u001b[0;34m,\u001b[0m \u001b[0;34m\"Inteligencia de Máquina\"\u001b[0m\u001b[0;34m,\u001b[0m \u001b[0;34m\"Ciencia De La Computación\"\u001b[0m\u001b[0;34m)\u001b[0m\u001b[0;34m\u001b[0m\u001b[0;34m\u001b[0m\u001b[0m\n\u001b[1;32m     28\u001b[0m \u001b[0mprint\u001b[0m\u001b[0;34m(\u001b[0m\u001b[0mp1\u001b[0m\u001b[0;34m.\u001b[0m\u001b[0mnombre\u001b[0m\u001b[0;34m)\u001b[0m\u001b[0;34m\u001b[0m\u001b[0;34m\u001b[0m\u001b[0m\n\u001b[0;32m---> 29\u001b[0;31m \u001b[0mprint\u001b[0m\u001b[0;34m(\u001b[0m\u001b[0mp1\u001b[0m\u001b[0;34m.\u001b[0m\u001b[0marea\u001b[0m\u001b[0;34m)\u001b[0m\u001b[0;34m\u001b[0m\u001b[0;34m\u001b[0m\u001b[0m\n\u001b[0m\u001b[1;32m     30\u001b[0m \u001b[0mprint\u001b[0m\u001b[0;34m(\u001b[0m\u001b[0mp1\u001b[0m\u001b[0;34m.\u001b[0m\u001b[0mdepartamento\u001b[0m\u001b[0;34m)\u001b[0m\u001b[0;34m\u001b[0m\u001b[0;34m\u001b[0m\u001b[0m\n",
      "\u001b[0;31mAttributeError\u001b[0m: 'Academico' object has no attribute 'area'"
     ]
    }
   ],
   "source": [
    "class Investigador:\n",
    "\n",
    "    def __init__(self, area):\n",
    "        print(\"Inicializando investigador\")\n",
    "        self.area = area\n",
    "        self.num_publicaciones = 0\n",
    "\n",
    "\n",
    "class Docente:\n",
    "\n",
    "    def __init__(self, departamento):\n",
    "        print(\"Inicializando docente\")\n",
    "        self.departamento = departamento\n",
    "        self.num_cursos = 3\n",
    "\n",
    "\n",
    "class Academico(Docente, Investigador):\n",
    "\n",
    "    def __init__(self, nombre, oficina, area_investigacion, departamento):\n",
    "        # Solo un llamado, pero solo con un argumento\n",
    "        super().__init__(departamento)\n",
    "        self.nombre = nombre\n",
    "        self.oficina = oficina\n",
    "\n",
    "\n",
    "print(Academico.__mro__)\n",
    "p1 = Academico(\"Emilia Donoso\", \"O-5\", \"Inteligencia de Máquina\", \"Ciencia De La Computación\")\n",
    "print(p1.nombre)\n",
    "print(p1.area)\n",
    "print(p1.departamento)"
   ]
  },
  {
   "cell_type": "markdown",
   "metadata": {},
   "source": [
    "Si bien, hay un MRO definido para `Academico`, cuando solo entregamos los argumentos de un inicializador, solo se ejecuta el `__init()__` de `Docente`, y no el de `Investigador`, por lo tanto nuestro `Academico` se queda sin su atributo `area`. \n",
    "\n",
    "Entonces una mejor solución sería entregarle a `super().__init()__` _todos_ los argumentos."
   ]
  },
  {
   "cell_type": "code",
   "execution_count": 10,
   "metadata": {},
   "outputs": [
    {
     "name": "stdout",
     "output_type": "stream",
     "text": [
      "(<class '__main__.Academico'>, <class '__main__.Docente'>, <class '__main__.Investigador'>, <class 'object'>)\n"
     ]
    },
    {
     "ename": "TypeError",
     "evalue": "__init__() takes 2 positional arguments but 3 were given",
     "output_type": "error",
     "traceback": [
      "\u001b[0;31m---------------------------------------------------------------------------\u001b[0m",
      "\u001b[0;31mTypeError\u001b[0m                                 Traceback (most recent call last)",
      "\u001b[0;32m<ipython-input-10-49c884f2dc1c>\u001b[0m in \u001b[0;36m<module>\u001b[0;34m\u001b[0m\n\u001b[1;32m     25\u001b[0m \u001b[0;34m\u001b[0m\u001b[0m\n\u001b[1;32m     26\u001b[0m \u001b[0mprint\u001b[0m\u001b[0;34m(\u001b[0m\u001b[0mAcademico\u001b[0m\u001b[0;34m.\u001b[0m\u001b[0m__mro__\u001b[0m\u001b[0;34m)\u001b[0m\u001b[0;34m\u001b[0m\u001b[0;34m\u001b[0m\u001b[0m\n\u001b[0;32m---> 27\u001b[0;31m \u001b[0mp1\u001b[0m \u001b[0;34m=\u001b[0m \u001b[0mAcademico\u001b[0m\u001b[0;34m(\u001b[0m\u001b[0;34m\"Emilia Donoso\"\u001b[0m\u001b[0;34m,\u001b[0m \u001b[0;34m\"O-5\"\u001b[0m\u001b[0;34m,\u001b[0m \u001b[0;34m\"Inteligencia de Máquina\"\u001b[0m\u001b[0;34m,\u001b[0m \u001b[0;34m\"Ciencia De La Computación\"\u001b[0m\u001b[0;34m)\u001b[0m\u001b[0;34m\u001b[0m\u001b[0;34m\u001b[0m\u001b[0m\n\u001b[0m\u001b[1;32m     28\u001b[0m \u001b[0mprint\u001b[0m\u001b[0;34m(\u001b[0m\u001b[0mp1\u001b[0m\u001b[0;34m.\u001b[0m\u001b[0mnombre\u001b[0m\u001b[0;34m)\u001b[0m\u001b[0;34m\u001b[0m\u001b[0;34m\u001b[0m\u001b[0m\n\u001b[1;32m     29\u001b[0m \u001b[0mprint\u001b[0m\u001b[0;34m(\u001b[0m\u001b[0mp1\u001b[0m\u001b[0;34m.\u001b[0m\u001b[0marea\u001b[0m\u001b[0;34m)\u001b[0m\u001b[0;34m\u001b[0m\u001b[0;34m\u001b[0m\u001b[0m\n",
      "\u001b[0;32m<ipython-input-10-49c884f2dc1c>\u001b[0m in \u001b[0;36m__init__\u001b[0;34m(self, nombre, oficina, area_investigacion, departamento)\u001b[0m\n\u001b[1;32m     19\u001b[0m     \u001b[0;32mdef\u001b[0m \u001b[0m__init__\u001b[0m\u001b[0;34m(\u001b[0m\u001b[0mself\u001b[0m\u001b[0;34m,\u001b[0m \u001b[0mnombre\u001b[0m\u001b[0;34m,\u001b[0m \u001b[0moficina\u001b[0m\u001b[0;34m,\u001b[0m \u001b[0marea_investigacion\u001b[0m\u001b[0;34m,\u001b[0m \u001b[0mdepartamento\u001b[0m\u001b[0;34m)\u001b[0m\u001b[0;34m:\u001b[0m\u001b[0;34m\u001b[0m\u001b[0;34m\u001b[0m\u001b[0m\n\u001b[1;32m     20\u001b[0m         \u001b[0;31m# Solo un llamado, con todos los argumentos que tenemos\u001b[0m\u001b[0;34m\u001b[0m\u001b[0;34m\u001b[0m\u001b[0;34m\u001b[0m\u001b[0m\n\u001b[0;32m---> 21\u001b[0;31m         \u001b[0msuper\u001b[0m\u001b[0;34m(\u001b[0m\u001b[0;34m)\u001b[0m\u001b[0;34m.\u001b[0m\u001b[0m__init__\u001b[0m\u001b[0;34m(\u001b[0m\u001b[0mdepartamento\u001b[0m\u001b[0;34m,\u001b[0m \u001b[0marea_investigacion\u001b[0m\u001b[0;34m)\u001b[0m\u001b[0;34m\u001b[0m\u001b[0;34m\u001b[0m\u001b[0m\n\u001b[0m\u001b[1;32m     22\u001b[0m         \u001b[0mself\u001b[0m\u001b[0;34m.\u001b[0m\u001b[0mnombre\u001b[0m \u001b[0;34m=\u001b[0m \u001b[0mnombre\u001b[0m\u001b[0;34m\u001b[0m\u001b[0;34m\u001b[0m\u001b[0m\n\u001b[1;32m     23\u001b[0m         \u001b[0mself\u001b[0m\u001b[0;34m.\u001b[0m\u001b[0moficina\u001b[0m \u001b[0;34m=\u001b[0m \u001b[0moficina\u001b[0m\u001b[0;34m\u001b[0m\u001b[0;34m\u001b[0m\u001b[0m\n",
      "\u001b[0;31mTypeError\u001b[0m: __init__() takes 2 positional arguments but 3 were given"
     ]
    }
   ],
   "source": [
    "class Investigador:\n",
    "\n",
    "    def __init__(self, area):\n",
    "        print(\"Inicializando investigador\")\n",
    "        self.area = area\n",
    "        self.num_publicaciones = 0\n",
    "\n",
    "\n",
    "class Docente:\n",
    "\n",
    "    def __init__(self, departamento):\n",
    "        print(\"Inicializando docente\")\n",
    "        self.departamento = departamento\n",
    "        self.num_cursos = 3\n",
    "\n",
    "\n",
    "class Academico(Docente, Investigador):\n",
    "\n",
    "    def __init__(self, nombre, oficina, area_investigacion, departamento):\n",
    "        # Solo un llamado, con todos los argumentos que tenemos\n",
    "        super().__init__(departamento, area_investigacion)\n",
    "        self.nombre = nombre\n",
    "        self.oficina = oficina\n",
    "\n",
    "\n",
    "print(Academico.__mro__)\n",
    "p1 = Academico(\"Emilia Donoso\", \"O-5\", \"Inteligencia de Máquina\", \"Ciencia De La Computación\")\n",
    "print(p1.nombre)\n",
    "print(p1.area)\n",
    "print(p1.departamento)"
   ]
  },
  {
   "cell_type": "markdown",
   "metadata": {},
   "source": [
    "Pero esto tampoco sirve, porque cada `__init__()` recibe solamente dos argumentos y le estamos entregando tres (no olvidemos al `self`). El ejemplo inicial con el método `llamar()` era muy ~~tramposo~~ sencillo porque `llamar()` no tenía argumentos. Estamos en un dilema."
   ]
  },
  {
   "cell_type": "markdown",
   "metadata": {},
   "source": [
    "### Solución: uso de `*args` y `**kwargs`\n",
    "\n",
    "El dilema que tenemos se produce porque, aunque entreguemos todos los argumentos a `super().__init__()`, ninguno de los inicializadores sabe cuáles argumentos son para él, y cuáles para otro inicializador. Pero Python provee una solución a través de `*args` y `**kwargs`:\n",
    "\n",
    "* `**kwargs` es una *secuencia de argumentos de largo variable*, donde cada elemento de la lista tiene asociado un ***keyword***. El `**` mapea los elementos contenidos en el diccionario `kwargs` y los pasa a la función como _argumentos no posicionales_. Esto significa que los argumentos no se asignan a la función por su posición en el orden en que se entregan (como es lo habitual) sino por su _keyword_ asociado. De ahí el nombre _kwargs_ o _keyword arguments_. El `**kwargs` puede ser usado para enviar una cantidad variable de argumentos.\n",
    "* `*args` es un mecanismo similar. `*args`, es una lista de argumentos de largo variable, pero sin *keywords* asociados. El operador `*` desempaqueta el contenido de args y los pasa a la función como argumentos posicionales. La función asigna valores a sus argumentos a partir del orden que trae esta lista.\n",
    "\n",
    "Recuerda que si bien nos hemos referido todo el tiempo a `*args` y `**kwargs`, los _operadores_ reales son `*` y `**` que indican respectivamente *desempaquetamiento de secuencias iterables* (listas, tuplas), y *desempaquetamiento de diccionarios*. Los nombres que usamos `args` y `kwargs` son convenciones. \n",
    "\n",
    "(Puedes encontrar más información sobre `*args` y `**kwargs` en el material entregado sobre ese contenido específico)"
   ]
  },
  {
   "cell_type": "markdown",
   "metadata": {},
   "source": [
    "### Ejemplo: solución para clase `Académico`\n",
    "\n",
    "Ahora que recordamos el uso de `*args` y `**kwargs`, podemos aplicarlos para, finalmente, implementar correctamente la inicialización en el ejemplo del académico. Recordemos el código que queremos mejorar:"
   ]
  },
  {
   "cell_type": "code",
   "execution_count": 11,
   "metadata": {},
   "outputs": [
    {
     "name": "stdout",
     "output_type": "stream",
     "text": [
      "Emilia Donoso\n",
      "Inteligencia de Máquina\n",
      "Ciencia De La Computación\n"
     ]
    }
   ],
   "source": [
    "class Investigador:\n",
    "\n",
    "    def __init__(self, area):\n",
    "        self.area = area\n",
    "        self.num_publicaciones = 0\n",
    "\n",
    "\n",
    "class Docente:\n",
    "\n",
    "    def __init__(self, departamento):\n",
    "        self.departamento = departamento\n",
    "        self.num_cursos = 3\n",
    "\n",
    "\n",
    "class Academico(Docente, Investigador):\n",
    "\n",
    "    def __init__(self, nombre, oficina, area_investigacion, departamento):\n",
    "        # Queremos reemplazar esto por un super().__init__(...), pero no sabemos qué argumentos usar\n",
    "        Investigador.__init__(self, area_investigacion)\n",
    "        Docente.__init__(self, departamento)\n",
    "        self.nombre = nombre\n",
    "        self.oficina = oficina\n",
    "\n",
    "\n",
    "p1 = Academico(\"Emilia Donoso\", \"O-5\", \"Inteligencia de Máquina\", \"Ciencia De La Computación\")\n",
    "print(p1.nombre)\n",
    "print(p1.area)\n",
    "print(p1.departamento)"
   ]
  },
  {
   "cell_type": "markdown",
   "metadata": {},
   "source": [
    "Deseamos reemplazar los llamados a ambos inicializadores, por una única invocación `super().__init__()`, pero no sabemos qué argumentos entregar.\n",
    "\n",
    "Aprovecharemos el hecho que `**kwargs` nos permite entregar un diccionario de argumentos."
   ]
  },
  {
   "cell_type": "code",
   "execution_count": 12,
   "metadata": {},
   "outputs": [
    {
     "name": "stdout",
     "output_type": "stream",
     "text": [
      "(<class '__main__.Academico'>, <class '__main__.Docente'>, <class '__main__.Investigador'>, <class 'object'>)\n",
      "init Academico con nombre Emilia Donoso, oficina O5, kwargs:{'area': 'Inteligencia de Máquina', 'departamento': 'Ciencia De La Computación'}\n",
      "init Docente con depto Ciencia De La Computación y kwargs:{'area': 'Inteligencia de Máquina'}\n",
      "init Investigador con area Inteligencia de Máquina y kwargs:{}\n",
      "--------\n",
      "Emilia Donoso\n",
      "Inteligencia de Máquina\n",
      "Ciencia De La Computación\n"
     ]
    }
   ],
   "source": [
    "class Investigador:\n",
    "\n",
    "    def __init__(self, area='', **kwargs):\n",
    "        print(f\"init Investigador con area {area} y kwargs:{kwargs}\")\n",
    "        super().__init__(**kwargs)\n",
    "        self.area = area\n",
    "        self.num_publicaciones = 0\n",
    "\n",
    "\n",
    "class Docente:\n",
    "\n",
    "    def __init__(self, departamento='', **kwargs):\n",
    "        print(f\"init Docente con depto {departamento} y kwargs:{kwargs}\")\n",
    "        super().__init__(**kwargs)\n",
    "        self.departamento = departamento\n",
    "        self.num_cursos = 3\n",
    "\n",
    "\n",
    "class Academico(Docente, Investigador):\n",
    "\n",
    "    def __init__(self, nombre, oficina, **kwargs):\n",
    "        print(f\"init Academico con nombre {nombre}, oficina {oficina}, kwargs:{kwargs}\")\n",
    "        super().__init__(**kwargs)\n",
    "        self.nombre = nombre\n",
    "        self.oficina = oficina\n",
    "\n",
    "\n",
    "print(Academico.__mro__)\n",
    "p1 = Academico(\"Emilia Donoso\", oficina=\"O5\", area=\"Inteligencia de Máquina\", departamento=\"Ciencia De La Computación\")\n",
    "print(\"--------\")\n",
    "print(p1.nombre)\n",
    "print(p1.area)\n",
    "print(p1.departamento)"
   ]
  },
  {
   "cell_type": "markdown",
   "metadata": {},
   "source": [
    "Este ejemplo permite, finalmente, llamar **una sola vez** y de manera correcta a todos los inicializadores de las clases de una jerarquía con multiherencia. El diccionario `**kwargs` contiene los argumentos identificados por su nombre, de manera que en cada llamado a un inicializador, éste extrae los _keywords_ que correspondan a algún nombre de los argumentos que espera, y el resto permanecen en el `**kwargs` y son pasados como argumento a la siguiente clase en la jerarquía. De esta manera, cada inicializador _consume_ del `**kwargs` lo que necesita. Notemos que en la última clase de la jerarquía, antes de llamar a `object`, todos los _keywords_ en `**kwargs` han sido consumidos, lo que está bien porque el inicializador de `object` no recibe argumentos.\n",
    "\n",
    "Una adecuada comprensión de los llamados a métodos/funciones usando lista variables de argumentos es muy práctica y flexible. Lo estaremos ocupando en numerosas ocasiones.\n"
   ]
  }
 ],
 "metadata": {
  "kernelspec": {
   "display_name": "Python 3",
   "language": "python",
   "name": "python3"
  },
  "language_info": {
   "codemirror_mode": {
    "name": "ipython",
    "version": 3
   },
   "file_extension": ".py",
   "mimetype": "text/x-python",
   "name": "python",
   "nbconvert_exporter": "python",
   "pygments_lexer": "ipython3",
   "version": "3.7.8"
  }
 },
 "nbformat": 4,
 "nbformat_minor": 1
}
